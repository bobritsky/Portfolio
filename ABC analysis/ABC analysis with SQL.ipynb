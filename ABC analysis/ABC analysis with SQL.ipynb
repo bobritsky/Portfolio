{
 "cells": [
  {
   "cell_type": "markdown",
   "metadata": {},
   "source": [
    "# ABC analysis with SQL \n",
    "\n",
    "Hi there! Today we will practice making ABC categorization with SQL.\n",
    "I'll be using PostgreSQL but SQL synthax will be very generic."
   ]
  },
  {
   "cell_type": "markdown",
   "metadata": {},
   "source": [
    "## Let's create a database and import our Superstore file\n",
    "\n",
    "I've converted `Superstore.xlsx` file to `CSV` format using `Save As` option in my Excel. Make sure to set separator (or it can be called as delimiter) **other than comma** (,) because we have commas in product names and our importing will fail (because of errors in columns count).\n",
    "\n",
    "I suggest using semicolon (;) as a separator."
   ]
  },
  {
   "cell_type": "markdown",
   "metadata": {},
   "source": [
    "To create a database run `pgAdmin`, double click on one of the servers listed and enter password to make connection.\n",
    "\n",
    "\n",
    "After connecting to server right-click on Databases and select Create Database. Give your database a name **superstore**.\n",
    "\n",
    "<img src=\"Screenshots/SQL/create_db.jpg\" width=\"400\" />\n"
   ]
  },
  {
   "cell_type": "markdown",
   "metadata": {},
   "source": [
    "Now we need to create a table with a structure same as our CSV file.\n",
    "\n",
    " There are different tools available to create tables automatically upon importing csv files into database but I don't have them in my disposal.\n",
    "\n",
    "Instead of that I wrote a small Python code to prepare a SQL command for table creation based on current csv file structure. It analyses columns and data types in csv and make a proper SQL code - just run it and your code will be created. "
   ]
  },
  {
   "cell_type": "code",
   "execution_count": 2,
   "metadata": {},
   "outputs": [
    {
     "name": "stdout",
     "output_type": "stream",
     "text": [
      "\n",
      "CREATE TABLE superstore (\n",
      "    \"row_id\" INTEGER,\n",
      "    \"order_id\" VARCHAR,\n",
      "    \"order_date\" DATE,\n",
      "    \"ship_date\" DATE,\n",
      "    \"ship_mode\" VARCHAR,\n",
      "    \"customer_id\" VARCHAR,\n",
      "    \"customer_name\" VARCHAR,\n",
      "    \"segment\" VARCHAR,\n",
      "    \"country\" VARCHAR,\n",
      "    \"city\" VARCHAR,\n",
      "    \"state\" VARCHAR,\n",
      "    \"postal_code\" INTEGER,\n",
      "    \"region\" VARCHAR,\n",
      "    \"product_id\" VARCHAR,\n",
      "    \"category\" VARCHAR,\n",
      "    \"sub-category\" VARCHAR,\n",
      "    \"product_name\" VARCHAR,\n",
      "    \"sales\" FLOAT,\n",
      "    \"quantity\" INTEGER,\n",
      "    \"discount\" FLOAT,\n",
      "    \"profit\" FLOAT\n",
      ");\n",
      "    \n"
     ]
    }
   ],
   "source": [
    "import pandas as pd\n",
    "\n",
    "def get_sql_data_type(dtype, series):\n",
    "    \"\"\"Convert pandas data type to SQL data type.\"\"\"\n",
    "    if pd.api.types.is_integer_dtype(dtype):\n",
    "        return 'INTEGER'\n",
    "    elif pd.api.types.is_float_dtype(dtype):\n",
    "        return 'FLOAT'\n",
    "    elif pd.api.types.is_datetime64_any_dtype(dtype):\n",
    "        return 'DATE'\n",
    "    elif pd.api.types.is_string_dtype(dtype):\n",
    "        return 'VARCHAR'\n",
    "    return 'TEXT'\n",
    "\n",
    "def format_column_name(col_name):\n",
    "    \"\"\"Format column names for SQL: convert to lower case and replace spaces with underscores.\"\"\"\n",
    "    return col_name.strip().lower().replace(' ', '_')\n",
    "\n",
    "def generate_sql_create_table(table_name, date_columns=None):\n",
    "    \"\"\"\n",
    "    Generate SQL CREATE TABLE command based on CSV file structure.\n",
    "    \n",
    "    :param table_name: Desired name for the SQL table\n",
    "    :param date_columns: List of column names or indices to treat as dates\n",
    "    :return: SQL CREATE TABLE command\n",
    "    \"\"\"\n",
    "\n",
    "    # Convert specified columns to datetime\n",
    "    if date_columns:\n",
    "        if isinstance(date_columns[0], int):  # If indices are provided\n",
    "            date_columns = df.columns[date_columns]\n",
    "        df[date_columns] = df[date_columns].apply(pd.to_datetime, format='%d.%m.%Y', errors='coerce')\n",
    "    \n",
    "    # Create SQL column definitions\n",
    "    columns = []\n",
    "    for col in df.columns:\n",
    "        series = df[col]\n",
    "        formatted_col = format_column_name(col)\n",
    "        sql_type = get_sql_data_type(series.dtype, series)\n",
    "        column_definition = f'\"{formatted_col}\" {sql_type}'\n",
    "        columns.append(column_definition)\n",
    "    \n",
    "    # Construct SQL command\n",
    "    columns_str = \",\\n    \".join(columns)\n",
    "    sql_command = f\"\"\"\n",
    "CREATE TABLE {table_name} (\n",
    "    {columns_str}\n",
    ");\n",
    "    \"\"\"\n",
    "    \n",
    "    return sql_command\n",
    "\n",
    "# Load CSV file\n",
    "df = pd.read_csv('Superstore.csv', sep=';', parse_dates=False)  # Load without parsing dates initially\n",
    "\n",
    "# Example usage\n",
    "table_name = 'superstore'   # Desired name for your SQL table\n",
    "\n",
    "# Specify date columns by name or index\n",
    "date_columns = ['Order Date', 'Ship Date']  # Can also use indices like [2, 3]\n",
    "\n",
    "sql_command = generate_sql_create_table(table_name, date_columns=date_columns)\n",
    "print(sql_command)\n"
   ]
  },
  {
   "cell_type": "markdown",
   "metadata": {},
   "source": [
    "## Creating the table"
   ]
  },
  {
   "cell_type": "markdown",
   "metadata": {},
   "source": [
    "Right-click on Table and select `Query Tool` - that's a command console where you can use SQL scripts. Paste your CREATE TABLE code that we've created above and press Execute script (F5). Now we've created a table called `superstore`.\n",
    "\n",
    "<img src='Screenshots/SQL/create_table.jpg' width=\"400\" />"
   ]
  },
  {
   "cell_type": "markdown",
   "metadata": {},
   "source": [
    "## Importing CSV data"
   ]
  },
  {
   "cell_type": "markdown",
   "metadata": {},
   "source": [
    "Expand Table view and Right-Click on superstore table name. Select Import|Export Data and Import your CSV file. *Don't forget to select correct delimiter in the Options section*  - **;**\n",
    "\n",
    "<img src='Screenshots/SQL/import.jpg' width=\"400\" />"
   ]
  },
  {
   "cell_type": "markdown",
   "metadata": {},
   "source": [
    "# Writing SQL commands for a database"
   ]
  },
  {
   "cell_type": "markdown",
   "metadata": {},
   "source": [
    "Ok, now we have CSV file loaded into our database and we can start.\n",
    "In main menu select Query Tool to get to SQL query mode. \n",
    "\n"
   ]
  },
  {
   "cell_type": "markdown",
   "metadata": {},
   "source": [
    "Let's break our task of ABC categorization and ranking into parts:\n",
    "1) We need to count total sales by each unique product and put them in descending order\n",
    "2) We need to count cumulative sum of sales\n",
    "3) We need to calculate percent from total sales for each cumulative sum\n",
    "4) After making penrentages we can do ABC segmentation\n",
    "5) Then we can assign ranks to each product\n",
    "6) And the last - we need to assing these ABC categories and ranks from each product to the main table of orders\n",
    "\n",
    "Let's create those pieces and make a complete solution from them. We will use CTE (common table expressions) and WINDOW functions"
   ]
  },
  {
   "cell_type": "markdown",
   "metadata": {},
   "source": [
    "### Total sales by each unique product in descending order"
   ]
  },
  {
   "cell_type": "markdown",
   "metadata": {},
   "source": [
    "    SELECT\n",
    "        product_id,\n",
    "        SUM(sales) AS product_sales\n",
    "    FROM superstore\n",
    "    GROUP BY product_id\n",
    "    ORDER BY SUM(sales) DESC"
   ]
  },
  {
   "cell_type": "markdown",
   "metadata": {},
   "source": [
    "### Cumulative sum of sales and percentage"
   ]
  },
  {
   "cell_type": "markdown",
   "metadata": {},
   "source": [
    "    total AS (\n",
    "    SELECT SUM(product_sales) AS total_sales\n",
    "    FROM product_sales\n",
    "    )\n",
    "\n",
    "    SELECT\n",
    "        ps.product_id,\n",
    "        ps.product_sales,\n",
    "        SUM(ps.product_sales) OVER (ORDER BY ps.product_sales DESC) AS cum_sum,\n",
    "        (SUM(ps.product_sales) OVER (ORDER BY ps.product_sales DESC) * 1.0 / t.total_sales) AS percent\n",
    "    FROM product_sales ps\n",
    "    CROSS JOIN total t"
   ]
  },
  {
   "cell_type": "markdown",
   "metadata": {},
   "source": [
    "### ABC segmentation and ranking and glueing all together\n"
   ]
  },
  {
   "cell_type": "markdown",
   "metadata": {},
   "source": [
    "    WITH product_sales AS (\n",
    "        SELECT\n",
    "            product_id,\n",
    "            SUM(sales) AS product_sales\n",
    "        FROM superstore\n",
    "        GROUP BY product_id\n",
    "        ORDER BY SUM(sales) DESC\n",
    "    ),\n",
    "    total AS (\n",
    "        SELECT SUM(product_sales) AS total_sales\n",
    "        FROM product_sales\n",
    "    ),\n",
    "    abc AS (\n",
    "        SELECT\n",
    "            ps.product_id,\n",
    "            ps.product_sales,\n",
    "            SUM(ps.product_sales) OVER (ORDER BY ps.product_sales DESC) AS cum_sum,\n",
    "            (SUM(ps.product_sales) OVER (ORDER BY ps.product_sales DESC) * 1.0 / t.total_sales) AS percent\n",
    "        FROM product_sales ps\n",
    "        CROSS JOIN total t\n",
    "    ),\n",
    "    ranking AS (\n",
    "        SELECT \n",
    "            product_id,\n",
    "            product_sales,\n",
    "            cum_sum,\n",
    "            percent,\n",
    "            CASE \n",
    "                WHEN percent <= 0.8 THEN 'A'\n",
    "                WHEN percent <= 0.9 THEN 'B'\n",
    "                WHEN percent <= 1 THEN 'C'\n",
    "            END AS category\n",
    "        FROM abc\n",
    "    )\n",
    "\n",
    "    SELECT\n",
    "        product_id,\n",
    "        category,\n",
    "        DENSE_RANK() OVER (PARTITION BY category ORDER BY product_sales DESC) AS rank\n",
    "    FROM ranking\n",
    "    ORDER BY category, rank;\n"
   ]
  },
  {
   "cell_type": "markdown",
   "metadata": {},
   "source": [
    "### Next we need to modify our main table\n",
    "\n",
    "To do that we need to create 2 new columns in ``superstore`` table - ``abc_category`` and `sales_rank`.\n",
    "\n",
    "You need to select `Query Tool` from main menu again to make a new instance of query and run that short piece of code:"
   ]
  },
  {
   "cell_type": "markdown",
   "metadata": {},
   "source": [
    "    ALTER TABLE superstore\n",
    "    ADD COLUMN abc_category VARCHAR(1),\n",
    "    ADD COLUMN sales_rank INT;"
   ]
  },
  {
   "cell_type": "markdown",
   "metadata": {},
   "source": [
    "### Merging everything"
   ]
  },
  {
   "cell_type": "markdown",
   "metadata": {},
   "source": [
    "- and now comes the final part - we will merge our categories and rank data with main table based on product id's.\n",
    "\n",
    "We will use our main SQL query where we've done categorization and ranking as a sub-query. Stay with me ))"
   ]
  },
  {
   "cell_type": "markdown",
   "metadata": {},
   "source": [
    "    WITH product_sales AS (\n",
    "        SELECT\n",
    "            product_id,\n",
    "            SUM(sales) AS product_sales\n",
    "        FROM superstore\n",
    "        GROUP BY product_id\n",
    "    ),\n",
    "    total AS (\n",
    "        SELECT SUM(product_sales) AS total_sales\n",
    "        FROM product_sales\n",
    "    ),\n",
    "    abc AS (\n",
    "        SELECT\n",
    "            ps.product_id,\n",
    "            ps.product_sales,\n",
    "            SUM(ps.product_sales) OVER (ORDER BY ps.product_sales DESC) AS cum_sum,\n",
    "            (SUM(ps.product_sales) OVER (ORDER BY ps.product_sales DESC) * 1.0 / t.total_sales) AS percent\n",
    "        FROM product_sales ps\n",
    "        CROSS JOIN total t\n",
    "    ),\n",
    "    ranking AS (\n",
    "        SELECT \n",
    "            product_id,\n",
    "            product_sales,\n",
    "            cum_sum,\n",
    "            percent,\n",
    "            CASE \n",
    "                WHEN percent <= 0.8 THEN 'A'\n",
    "                WHEN percent <= 0.9 THEN 'B'\n",
    "                WHEN percent <= 1 THEN 'C'\n",
    "            END AS abc_category,\n",
    "            DENSE_RANK() OVER(PARTITION BY \n",
    "            CASE \n",
    "                WHEN percent <= 0.8 THEN 'A'\n",
    "                WHEN percent <= 0.9 THEN 'B'\n",
    "                WHEN percent <= 1 THEN 'C'\n",
    "            END ORDER BY product_sales DESC) AS sales_rank\n",
    "        FROM abc\n",
    "    )\n",
    "\n",
    "    UPDATE superstore s\n",
    "    SET abc_category = r.abc_category,\n",
    "        sales_rank = r.sales_rank\n",
    "    FROM ranking r\n",
    "    WHERE s.product_id = r.product_id;\n"
   ]
  },
  {
   "cell_type": "markdown",
   "metadata": {},
   "source": [
    "# Finish line\n",
    "\n",
    "ok, if everything is done right we can take a look at our table and see 2 new columns with ABC category and sales rank for each product.\n",
    "\n",
    "    SELECT * FROM superstore LIMIT 10\n",
    "\n",
    "<img src='Screenshots/SQL/final.jpg' width=\"800\" />\n",
    "\n",
    "Have a nice day and see you at ABC analysis with Tableau next time!"
   ]
  },
  {
   "cell_type": "markdown",
   "metadata": {},
   "source": []
  }
 ],
 "metadata": {
  "kernelspec": {
   "display_name": "base",
   "language": "python",
   "name": "python3"
  },
  "language_info": {
   "codemirror_mode": {
    "name": "ipython",
    "version": 3
   },
   "file_extension": ".py",
   "mimetype": "text/x-python",
   "name": "python",
   "nbconvert_exporter": "python",
   "pygments_lexer": "ipython3",
   "version": "3.11.5"
  }
 },
 "nbformat": 4,
 "nbformat_minor": 2
}
