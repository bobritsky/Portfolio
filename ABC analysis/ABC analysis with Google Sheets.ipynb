{
 "cells": [
  {
   "cell_type": "markdown",
   "metadata": {},
   "source": [
    "# ABC analysis with Google Sheets\n",
    "\n",
    "Hello there!\n",
    "\n",
    "My name is Igor Bobritskii. Over my extensive experience working with international companies I have mastered various methods and tools for business data analysis.\n",
    "\n",
    "Here, I'd like to share one of them with you: `ABC ANALYSIS`."
   ]
  },
  {
   "cell_type": "markdown",
   "metadata": {},
   "source": [
    "ABC analysis is a categorization technique used in inventory management and control, which divides items into three categories (A, B, and C) based on their importance and value.\n",
    "\n",
    "This method helps businesses prioritize their resources and focus on the most critical items that contribute the most to overall value."
   ]
  },
  {
   "cell_type": "markdown",
   "metadata": {},
   "source": [
    "Basics of ABC Analysis\n",
    "\n",
    "**- Category A:**\n",
    "    Represents the most valuable items.\n",
    "\n",
    "    Typically accounts for a small percentage of total items (around 10-20%) but contributes a large percentage of total value (70-80%).\n",
    "    Requires tight control and management, frequent review, and high levels of accuracy.\n",
    "\n",
    "**- Category B:**\n",
    "Represents moderately valuable items.\n",
    "\n",
    "    Usually makes up about 30% of total items and contributes about 15-25% of total value. Managed with a moderate level of control and review.\n",
    "\n",
    "**- Category C:**\n",
    "    Represents the least valuable items.\n",
    "\n",
    "    Often constitutes around 50-60% of total items but contributes only about 5-10% of total value.\n",
    "    Managed with simpler, less rigorous controls due to their lower impact on overall value."
   ]
  },
  {
   "cell_type": "markdown",
   "metadata": {},
   "source": [
    "Making it simpler - you take your sales by each product, sort it from biggest to smallest, calculate running total and split into 3 parts: products that in total make 80% of sales (category A), next 10% of sales (B) and the last 10% (C).\n",
    "\n",
    "Then you assign these categories to according products and start using them for control and review\n",
    "\n",
    "I will show you how to split sales data into ABC categories using **Google Sheets** and popular <a href=\"Superstore.xlsx\">Superstore</a> dataset in **Excel** format"
   ]
  },
  {
   "cell_type": "markdown",
   "metadata": {},
   "source": [
    "## Importing file to Google Sheets\n",
    "\n",
    "Open Google Sheets and create an empty file.<br>\n",
    "Go to File menu and select **IMPORT**.\n",
    "\n",
    "<img src='Screenshots/import_excel.jpg' width=\"400\" />\n",
    "\n"
   ]
  },
  {
   "cell_type": "markdown",
   "metadata": {},
   "source": [
    "On the next page select UPLOAD and Browse to the downloaded Superstore.xlsx file or drag & drop it to the window.\n",
    "\n",
    "<img src=\"Screenshots/import_excel_2.jpg\" width=\"400\" />"
   ]
  },
  {
   "cell_type": "markdown",
   "metadata": {},
   "source": [
    "Your imported file should look like this.\n",
    "\n",
    "<img src=\"Screenshots/imported.jpg\" width=\"800\" />"
   ]
  },
  {
   "cell_type": "markdown",
   "metadata": {},
   "source": [
    "There are many columns to work with but now we're interested in `PRODUCT ID` and `SALES`.\n",
    "\n",
    "<img src=\"Screenshots/product_id_sales.jpg\" width=\"800\" />"
   ]
  },
  {
   "cell_type": "markdown",
   "metadata": {},
   "source": [
    "## Aggregating sales by product with Pivot Table\n",
    "\n",
    "First we need to group all sales by the product because now our sales table is just an order list. We got to make a list of unique products with total sales by each of them.\n",
    "\n",
    "To achieve that we will use a `PIVOT TABLE`.\n",
    "Select all table by clicking on the square below cell name or just pressing `CTRL+A` and in the main menu select `INSERT -> PIVOT TABLE - > CREATE`\n",
    "\n",
    "<img src=\"Screenshots/pivot1.jpg\" width=\"400\" />"
   ]
  },
  {
   "cell_type": "markdown",
   "metadata": {},
   "source": [
    "You have created a new sheet with a data from orders which we can manupulate.\n",
    "\n",
    "Collapse suggested actions with a small triangle.\n",
    "\n",
    "<img src=\"Screenshots/pivot2.jpg\" width=\"600\" />"
   ]
  },
  {
   "cell_type": "markdown",
   "metadata": {},
   "source": [
    "Now drag Product ID to the Rows \n",
    "\n",
    "<img src=\"Screenshots/pivot3.jpg\" width=\"400\" />"
   ]
  },
  {
   "cell_type": "markdown",
   "metadata": {},
   "source": [
    "Next drag Sales to the Values section\n",
    "\n",
    "<img src=\"Screenshots/pivot4.jpg\" width=\"400\" />"
   ]
  },
  {
   "cell_type": "markdown",
   "metadata": {},
   "source": [
    "Now we have our products grouped by Product ID and have a sum of sales for each\n",
    "\n",
    "<img src=\"Screenshots/pivot5.jpg\" width=\"600\" />"
   ]
  },
  {
   "cell_type": "markdown",
   "metadata": {},
   "source": [
    "Great, now uncheck Show totals and sort Product ID's in descending order by the SUM of Sales\n",
    "\n",
    "<img src=\"Screenshots/pivot6.jpg\" width=\"400\" />"
   ]
  },
  {
   "cell_type": "markdown",
   "metadata": {},
   "source": [
    "## Copying plan data from Pivot table to the new sheet\n",
    "\n",
    "Next step - we need to copy our data from pivot table to a new sheet as a plain text.\n",
    "\n",
    "To do that - `CTRL+A` on Pivot table, create a new sheet and paste plain data with `SHIFT+CTRL+V`\n",
    "\n",
    "<img src=\"Screenshots/ctrl_shift_V.jpg\" width=\"400\" />"
   ]
  },
  {
   "cell_type": "markdown",
   "metadata": {},
   "source": [
    "## Calculating cumulative sales\n",
    "\n",
    "Alrighty, now we have our sales by product figures sorted descending. Let's create a new column for \"Cumulative sales\" and type a formula into first cell:\n",
    "\n",
    "`=SUM($B$2:B2)`, press Enter and accept suggested autofill. Or double-click on the small blue box in the bottom-right corner of a cell.\n",
    "\n",
    "It will fill our column with calculated cumulative sum of sales.\n",
    "\n",
    "<img src=\"Screenshots/cumsum_autofill.jpg\" width=\"500\" />"
   ]
  },
  {
   "cell_type": "markdown",
   "metadata": {},
   "source": [
    "Next thing you need to do - for the percentage of total sales calulation we need to have a total sales figure - and it's exactly the last cell in our \"Cumulative sales\" column.\n",
    "\n",
    "Select that cell and name it as \"total_sales\" (of cource you can address it by it's attributes - C1863, but calling it by name is easier)\n",
    "\n",
    "<img src=\"Screenshots/total_sales.jpg\" width=\"400\" />\n",
    "\n"
   ]
  },
  {
   "cell_type": "markdown",
   "metadata": {},
   "source": [
    "## Applying formula to make an ABC split\n",
    "\n",
    "Next - make a new column - \"ABC sales\".\n",
    "\n",
    "Type a formula to the first cell:\n",
    "\n",
    "`=IFS(D2<=0.8, \"A\", D2<=0.9, \"B\", D2<=1, \"C\")`\n",
    "\n",
    "Press Enter and fill column with that formula by double-clicking blue box in bottom-right of the cell.\n",
    "\n",
    "How that formula works: IFS is a multiple-conditions evaluation, for each given condition it will give corresponding result: if D2 value is less or equal to 0.8 (= 80% of the sales) than it will write \"A\" to the cell and so on.\n",
    "\n",
    "<img src=\"Screenshots/abc.jpg\" width=\"600\" />"
   ]
  },
  {
   "cell_type": "markdown",
   "metadata": {},
   "source": [
    "## Making Ranking for each product\n",
    "\n",
    "We've already done ABC categorisation - now let's make even more! Create a \"Rank sales\" column. We will give each product a rank in the sales in corresponding ABC category so we could use it in future sales analysis.\n",
    "\n",
    "Type a formula to the first cell:\n",
    "\n",
    "`=COUNTIF($E$2:E2,E2)`\n",
    "\n",
    "Press Enter and fill column with that formula by double-clicking blue box in bottom-right of the cell.\n",
    "\n",
    "How that formula works: COUNTIF counts number of occurencies of a value (E2) in a given range ($E$2:E2). So literally we count number of A or B or C in our category column and that's exactly a rating: for the first A in the region it will find 1 A, for the second A our region will contain 2 rows with A in each - so result will be 2 etc.\n",
    "\n",
    "When our range will extent to the first B occurency - COUNTIF will count number of \"B\" in whole regions containing many \"A\"'s and one \"B\" - so result will be 1 etc.\n",
    "\n",
    "<img src=\"Screenshots/rank_simple_countif.jpg\" width=\"600\" />"
   ]
  },
  {
   "cell_type": "markdown",
   "metadata": {},
   "source": [
    "## Merging ABC and Rank data with main table\n",
    "\n",
    "Ok, we've done ABC categories and ranking of sales in each category. Now we need to join this data with the data in the main Orders sheet.\n",
    "To do so we will use VLOOKUP function.\n",
    "\n",
    "Make a new \"ABC sales\" column in main Orders sheet and start typing a formula:\n",
    "\n",
    "=VLOOKUP(select data we're looking to: E2, select region where we look for it: goto to our ABC analysis sheet and select all by clicking box to the upper-left from row numbers and column names, then put a number of a column we will get values from: 5, and last type False for exact match of product ID we're looking to.)\n",
    "\n",
    "\n",
    "Finally your formula should look something like this:\n",
    "\n",
    "`=VLOOKUP(N2, SHEET1!$1:$2364, 5, FALSE)`\n",
    "\n",
    "double-click blue box to fill entire column with formula\n",
    "\n",
    "<img src=\"Screenshots/vlookup_abc.jpg\" width=\"800\" />"
   ]
  },
  {
   "cell_type": "markdown",
   "metadata": {},
   "source": [
    "Next you will do the same with Rank:\n",
    "\n",
    "`=VLOOKUP(N2, SHEET1!$1:$2364, 6, FALSE)`\n",
    "\n",
    "We've used same VLOOKUP by Product ID but now took column #6 with Rank data.\n",
    "\n",
    "<img src=\"Screenshots/vlookup_search.jpg\" width=\"600\" />"
   ]
  },
  {
   "cell_type": "markdown",
   "metadata": {},
   "source": [
    "That's it for today!\n",
    "\n",
    "Next time we will practice same ABC & Ranking but with different tools: SQL, PYTHON AND TABLEAU.\n",
    "Drop me a message if you find it useful.\n",
    "\n",
    "See you!"
   ]
  }
 ],
 "metadata": {
  "kernelspec": {
   "display_name": "base",
   "language": "python",
   "name": "python3"
  },
  "language_info": {
   "codemirror_mode": {
    "name": "ipython",
    "version": 3
   },
   "file_extension": ".py",
   "mimetype": "text/x-python",
   "name": "python",
   "nbconvert_exporter": "python",
   "pygments_lexer": "ipython3",
   "version": "3.11.5"
  }
 },
 "nbformat": 4,
 "nbformat_minor": 2
}
