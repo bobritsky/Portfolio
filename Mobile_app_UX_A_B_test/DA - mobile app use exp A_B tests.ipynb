{
 "cells": [
  {
   "cell_type": "markdown",
   "metadata": {},
   "source": [
    "# Исследования поведения пользователей мобильного приложения по продаже продуктов питания\n",
    "\n",
    "- В качестве аналитика данных в стартапе, который продаёт продукты питания, мне необходимо разобраться - как ведут себя пользователи нашего мобильного приложения.\n",
    "\n",
    "Используя данные логов пользователей, мы изучим воронку продаж и узнаем, сколько пользователей доходит до покупки, а сколько — останавливается на предыдущих шагах, каких именно, почему и что можно сделать для улучшения ситуации.\n",
    "\n",
    "- Также перед нами стоит задача - исследовать результаты А/А/В-эксперимента по изменению шрифтов в приложении и влиянию этих изменений на поведение пользователей, с целью ответить на вопрос - стоит ли нам внедрять новые шрифты или нет."
   ]
  },
  {
   "cell_type": "code",
   "execution_count": 3,
   "metadata": {},
   "outputs": [],
   "source": [
    "# Импорт необходимых библиотек и функций\n",
    "\n",
    "import pandas as pd\n",
    "import scipy.stats as stats\n",
    "from scipy.stats import ttest_ind\n",
    "from scipy.stats import mannwhitneyu\n",
    "from scipy.stats import shapiro\n",
    "import datetime as dt\n",
    "import numpy as np\n",
    "import matplotlib.pyplot as plt\n",
    "import matplotlib.dates as mdates\n",
    "import seaborn as sns\n",
    "from statsmodels.stats.proportion import proportions_ztest\n",
    "\n",
    "# Установка максимальной ширины для отображения содержимого колонки\n",
    "pd.set_option('display.max_colwidth', None)\n",
    "\n",
    "# Установка максимального количества отображаемых колонок\n",
    "pd.set_option('display.max_columns', None)\n",
    "\n",
    "\n",
    "def line():\n",
    "    print('------------------------------------------------------------------')"
   ]
  },
  {
   "cell_type": "markdown",
   "metadata": {},
   "source": [
    "## Импорт и первичная обработка данных"
   ]
  },
  {
   "cell_type": "code",
   "execution_count": 4,
   "metadata": {},
   "outputs": [
    {
     "data": {
      "text/html": [
       "<div>\n",
       "<style scoped>\n",
       "    .dataframe tbody tr th:only-of-type {\n",
       "        vertical-align: middle;\n",
       "    }\n",
       "\n",
       "    .dataframe tbody tr th {\n",
       "        vertical-align: top;\n",
       "    }\n",
       "\n",
       "    .dataframe thead th {\n",
       "        text-align: right;\n",
       "    }\n",
       "</style>\n",
       "<table border=\"1\" class=\"dataframe\">\n",
       "  <thead>\n",
       "    <tr style=\"text-align: right;\">\n",
       "      <th></th>\n",
       "      <th>EventName</th>\n",
       "      <th>DeviceIDHash</th>\n",
       "      <th>EventTimestamp</th>\n",
       "      <th>ExpId</th>\n",
       "    </tr>\n",
       "  </thead>\n",
       "  <tbody>\n",
       "    <tr>\n",
       "      <th>0</th>\n",
       "      <td>MainScreenAppear</td>\n",
       "      <td>4575588528974610257</td>\n",
       "      <td>1564029816</td>\n",
       "      <td>246</td>\n",
       "    </tr>\n",
       "    <tr>\n",
       "      <th>1</th>\n",
       "      <td>MainScreenAppear</td>\n",
       "      <td>7416695313311560658</td>\n",
       "      <td>1564053102</td>\n",
       "      <td>246</td>\n",
       "    </tr>\n",
       "    <tr>\n",
       "      <th>2</th>\n",
       "      <td>PaymentScreenSuccessful</td>\n",
       "      <td>3518123091307005509</td>\n",
       "      <td>1564054127</td>\n",
       "      <td>248</td>\n",
       "    </tr>\n",
       "    <tr>\n",
       "      <th>3</th>\n",
       "      <td>CartScreenAppear</td>\n",
       "      <td>3518123091307005509</td>\n",
       "      <td>1564054127</td>\n",
       "      <td>248</td>\n",
       "    </tr>\n",
       "    <tr>\n",
       "      <th>4</th>\n",
       "      <td>PaymentScreenSuccessful</td>\n",
       "      <td>6217807653094995999</td>\n",
       "      <td>1564055322</td>\n",
       "      <td>248</td>\n",
       "    </tr>\n",
       "  </tbody>\n",
       "</table>\n",
       "</div>"
      ],
      "text/plain": [
       "                 EventName         DeviceIDHash  EventTimestamp  ExpId\n",
       "0         MainScreenAppear  4575588528974610257      1564029816    246\n",
       "1         MainScreenAppear  7416695313311560658      1564053102    246\n",
       "2  PaymentScreenSuccessful  3518123091307005509      1564054127    248\n",
       "3         CartScreenAppear  3518123091307005509      1564054127    248\n",
       "4  PaymentScreenSuccessful  6217807653094995999      1564055322    248"
      ]
     },
     "metadata": {},
     "output_type": "display_data"
    },
    {
     "name": "stdout",
     "output_type": "stream",
     "text": [
      "------------------------------------------------------------------\n",
      "<class 'pandas.core.frame.DataFrame'>\n",
      "RangeIndex: 244126 entries, 0 to 244125\n",
      "Data columns (total 4 columns):\n",
      " #   Column          Non-Null Count   Dtype \n",
      "---  ------          --------------   ----- \n",
      " 0   EventName       244126 non-null  object\n",
      " 1   DeviceIDHash    244126 non-null  int64 \n",
      " 2   EventTimestamp  244126 non-null  int64 \n",
      " 3   ExpId           244126 non-null  int64 \n",
      "dtypes: int64(3), object(1)\n",
      "memory usage: 7.5+ MB\n",
      "None\n"
     ]
    }
   ],
   "source": [
    "# Импортируем файл с логами\n",
    "try:\n",
    "    df = pd.read_csv('logs_exp.csv', sep='\\t') # Сепаратор - знак табуляции\n",
    "    display(df.head())\n",
    "    line()\n",
    "    print(df.info())\n",
    "except FileNotFoundError:\n",
    "    print(\"Файл не найден\")\n",
    "except pd.errors.EmptyDataError:\n",
    "    print(\"Файл пуст\")\n",
    "except pd.errors.ParserError:\n",
    "    print(\"Ошибка при чтении файла CSV\")\n",
    "except Exception as e:\n",
    "    print(\"Произошла ошибка:\", e)"
   ]
  },
  {
   "cell_type": "markdown",
   "metadata": {},
   "source": [
    "- судя по данным в файле логов, там хранятся:\n",
    "1. EventName - название события, тип данных - object\n",
    "2. DeviceIDHash — уникальный идентификатор пользователя, тип данных - int64\n",
    "3. EventTimestamp — время события, тип данных - int64\n",
    "4. ExpId — номер эксперимента, к которому относится пользователь, тип данных - int64\n",
    "\n",
    "В файле логов 244126 записей, пропусков нет."
   ]
  },
  {
   "cell_type": "markdown",
   "metadata": {},
   "source": [
    "## Подготовим данные к анализу"
   ]
  },
  {
   "cell_type": "markdown",
   "metadata": {},
   "source": [
    "**Приведем названия столбцов к принятому стандарту, заменим тип колонки, содержащей время события, на `datetime` и добавим отдельный столбец с датой** "
   ]
  },
  {
   "cell_type": "code",
   "execution_count": 5,
   "metadata": {},
   "outputs": [
    {
     "data": {
      "text/html": [
       "<div>\n",
       "<style scoped>\n",
       "    .dataframe tbody tr th:only-of-type {\n",
       "        vertical-align: middle;\n",
       "    }\n",
       "\n",
       "    .dataframe tbody tr th {\n",
       "        vertical-align: top;\n",
       "    }\n",
       "\n",
       "    .dataframe thead th {\n",
       "        text-align: right;\n",
       "    }\n",
       "</style>\n",
       "<table border=\"1\" class=\"dataframe\">\n",
       "  <thead>\n",
       "    <tr style=\"text-align: right;\">\n",
       "      <th></th>\n",
       "      <th>event_name</th>\n",
       "      <th>device_id_hash</th>\n",
       "      <th>event_timestamp</th>\n",
       "      <th>exp_id</th>\n",
       "      <th>event_date</th>\n",
       "    </tr>\n",
       "  </thead>\n",
       "  <tbody>\n",
       "    <tr>\n",
       "      <th>0</th>\n",
       "      <td>MainScreenAppear</td>\n",
       "      <td>4575588528974610257</td>\n",
       "      <td>2019-07-25 04:43:36</td>\n",
       "      <td>246</td>\n",
       "      <td>2019-07-25</td>\n",
       "    </tr>\n",
       "    <tr>\n",
       "      <th>1</th>\n",
       "      <td>MainScreenAppear</td>\n",
       "      <td>7416695313311560658</td>\n",
       "      <td>2019-07-25 11:11:42</td>\n",
       "      <td>246</td>\n",
       "      <td>2019-07-25</td>\n",
       "    </tr>\n",
       "    <tr>\n",
       "      <th>2</th>\n",
       "      <td>PaymentScreenSuccessful</td>\n",
       "      <td>3518123091307005509</td>\n",
       "      <td>2019-07-25 11:28:47</td>\n",
       "      <td>248</td>\n",
       "      <td>2019-07-25</td>\n",
       "    </tr>\n",
       "    <tr>\n",
       "      <th>3</th>\n",
       "      <td>CartScreenAppear</td>\n",
       "      <td>3518123091307005509</td>\n",
       "      <td>2019-07-25 11:28:47</td>\n",
       "      <td>248</td>\n",
       "      <td>2019-07-25</td>\n",
       "    </tr>\n",
       "    <tr>\n",
       "      <th>4</th>\n",
       "      <td>PaymentScreenSuccessful</td>\n",
       "      <td>6217807653094995999</td>\n",
       "      <td>2019-07-25 11:48:42</td>\n",
       "      <td>248</td>\n",
       "      <td>2019-07-25</td>\n",
       "    </tr>\n",
       "  </tbody>\n",
       "</table>\n",
       "</div>"
      ],
      "text/plain": [
       "                event_name       device_id_hash     event_timestamp  exp_id  \\\n",
       "0         MainScreenAppear  4575588528974610257 2019-07-25 04:43:36     246   \n",
       "1         MainScreenAppear  7416695313311560658 2019-07-25 11:11:42     246   \n",
       "2  PaymentScreenSuccessful  3518123091307005509 2019-07-25 11:28:47     248   \n",
       "3         CartScreenAppear  3518123091307005509 2019-07-25 11:28:47     248   \n",
       "4  PaymentScreenSuccessful  6217807653094995999 2019-07-25 11:48:42     248   \n",
       "\n",
       "   event_date  \n",
       "0  2019-07-25  \n",
       "1  2019-07-25  \n",
       "2  2019-07-25  \n",
       "3  2019-07-25  \n",
       "4  2019-07-25  "
      ]
     },
     "metadata": {},
     "output_type": "display_data"
    }
   ],
   "source": [
    "# Пропишем новые названия колонок\n",
    "df.columns = ['event_name', 'device_id_hash', 'event_timestamp', 'exp_id']\n",
    "\n",
    "# Преобразование столбца 'event_timestamp' в тип datetime\n",
    "# unit='s' указывает, что ваша временная метка представляет собой количество секунд с начала эпохи Unix, 01/01/1970\n",
    "df['event_timestamp'] = pd.to_datetime(df['event_timestamp'], unit='s')\n",
    "\n",
    "# выделим из него дату в отдельный столбец\n",
    "df['event_date'] = df['event_timestamp'].dt.date\n",
    "\n",
    "display(df.head())\n"
   ]
  },
  {
   "cell_type": "markdown",
   "metadata": {},
   "source": [
    "**Проверим данные на дубликаты**"
   ]
  },
  {
   "cell_type": "code",
   "execution_count": 6,
   "metadata": {
    "scrolled": true
   },
   "outputs": [
    {
     "name": "stdout",
     "output_type": "stream",
     "text": [
      "Полных дубликатов: 413\n"
     ]
    }
   ],
   "source": [
    "# Сначала проверим на полные дубликаты\n",
    "print('Полных дубликатов:', df.duplicated().sum())"
   ]
  },
  {
   "cell_type": "markdown",
   "metadata": {},
   "source": [
    "- удалим их, вероятнее всего, они вызваны техническим сбоем в работе приложения, следует сообщить об этом коллегам"
   ]
  },
  {
   "cell_type": "code",
   "execution_count": 7,
   "metadata": {},
   "outputs": [
    {
     "name": "stdout",
     "output_type": "stream",
     "text": [
      "<class 'pandas.core.frame.DataFrame'>\n",
      "RangeIndex: 243713 entries, 0 to 243712\n",
      "Data columns (total 5 columns):\n",
      " #   Column           Non-Null Count   Dtype         \n",
      "---  ------           --------------   -----         \n",
      " 0   event_name       243713 non-null  object        \n",
      " 1   device_id_hash   243713 non-null  int64         \n",
      " 2   event_timestamp  243713 non-null  datetime64[ns]\n",
      " 3   exp_id           243713 non-null  int64         \n",
      " 4   event_date       243713 non-null  object        \n",
      "dtypes: datetime64[ns](1), int64(2), object(2)\n",
      "memory usage: 9.3+ MB\n",
      "None\n",
      "------------------------------------------------------------------\n",
      "                event_name       device_id_hash     event_timestamp  exp_id  \\\n",
      "0         MainScreenAppear  4575588528974610257 2019-07-25 04:43:36     246   \n",
      "1         MainScreenAppear  7416695313311560658 2019-07-25 11:11:42     246   \n",
      "2  PaymentScreenSuccessful  3518123091307005509 2019-07-25 11:28:47     248   \n",
      "3         CartScreenAppear  3518123091307005509 2019-07-25 11:28:47     248   \n",
      "4  PaymentScreenSuccessful  6217807653094995999 2019-07-25 11:48:42     248   \n",
      "\n",
      "   event_date  \n",
      "0  2019-07-25  \n",
      "1  2019-07-25  \n",
      "2  2019-07-25  \n",
      "3  2019-07-25  \n",
      "4  2019-07-25  \n"
     ]
    }
   ],
   "source": [
    "# Удаляем дубликаты и сбрасываем индекс\n",
    "df.drop_duplicates(subset=None, keep='first', inplace=True, ignore_index=True)\n",
    "\n",
    "print(df.info())\n",
    "line()\n",
    "print(df.head())"
   ]
  },
  {
   "cell_type": "code",
   "execution_count": 8,
   "metadata": {
    "scrolled": true
   },
   "outputs": [
    {
     "name": "stdout",
     "output_type": "stream",
     "text": [
      "Неполных дубликатов: 0\n"
     ]
    }
   ],
   "source": [
    "# Теперь проверим на дубликаты по id пользователя + времени события + типу события\n",
    "print('Неполных дубликатов:', df.duplicated(subset=['device_id_hash', 'event_timestamp', 'event_name']).sum())"
   ]
  },
  {
   "cell_type": "markdown",
   "metadata": {},
   "source": [
    "## Изучим и проверим данные"
   ]
  },
  {
   "cell_type": "markdown",
   "metadata": {},
   "source": [
    "- **Посмотрим на описательные характеристики данных** "
   ]
  },
  {
   "cell_type": "code",
   "execution_count": 9,
   "metadata": {
    "scrolled": true
   },
   "outputs": [
    {
     "name": "stdout",
     "output_type": "stream",
     "text": [
      "Типы событий и их количество:\n",
      "\n",
      "event_name\n",
      "Tutorial                     1018\n",
      "PaymentScreenSuccessful     34118\n",
      "CartScreenAppear            42668\n",
      "OffersScreenAppear          46808\n",
      "MainScreenAppear           119101\n",
      "Name: event_name, dtype: int64\n",
      "------------------------------------------------------------------\n",
      "Самое раннее время события: 2019-07-25 04:43:36\n",
      "------------------------------------------------------------------\n",
      "Самое позднее время события: 2019-08-07 21:15:17\n",
      "------------------------------------------------------------------\n",
      "Уникальных пользователей:\n",
      "7551\n",
      "------------------------------------------------------------------\n",
      "Среднее количество событий на пользователя:\n",
      "32.2756\n",
      "------------------------------------------------------------------\n",
      "Распределение логов по группам теста:\n",
      "\n",
      "exp_id\n",
      "246    80181\n",
      "247    77950\n",
      "248    85582\n",
      "Name: exp_id, dtype: int64\n"
     ]
    }
   ],
   "source": [
    "print('Типы событий и их количество:\\n')\n",
    "print(df.groupby('event_name')['event_name'].count().sort_values())\n",
    "line()\n",
    "print('Самое раннее время события:', df['event_timestamp'].min())\n",
    "line()\n",
    "print('Самое позднее время события:', df['event_timestamp'].max())\n",
    "line()\n",
    "print('Уникальных пользователей:')\n",
    "print(df['device_id_hash'].nunique())\n",
    "line()\n",
    "print('Среднее количество событий на пользователя:')\n",
    "print(round(len(df) / df['device_id_hash'].nunique(), 4))\n",
    "line()\n",
    "print('Распределение логов по группам теста:\\n')\n",
    "print(df.groupby('exp_id')['exp_id'].count())"
   ]
  },
  {
   "cell_type": "markdown",
   "metadata": {},
   "source": [
    "- посмотрим на распределение логов по временной шкале"
   ]
  },
  {
   "cell_type": "code",
   "execution_count": 10,
   "metadata": {
    "scrolled": false
   },
   "outputs": [
    {
     "data": {
      "image/png": "[encoded data removed]",
      "text/plain": [
       "<Figure size 1000x700 with 1 Axes>"
      ]
     },
     "metadata": {},
     "output_type": "display_data"
    }
   ],
   "source": [
    "plt.figure(figsize=(10,7))\n",
    "df['event_timestamp'].hist(bins=168)\n",
    "\n",
    "# Устанавливаем формат временных меток, без года\n",
    "plt.gca().xaxis.set_major_formatter(mdates.DateFormatter('%d.%m %H:%M'))\n",
    "\n",
    "plt.title('Распределение логов по временной шкале')\n",
    "plt.ylabel('Количество логов')\n",
    "plt.xlabel('Время')\n",
    "plt.tight_layout()\n",
    "plt.show()"
   ]
  },
  {
   "cell_type": "markdown",
   "metadata": {},
   "source": [
    "- любопытно: гистограмма показывает, что активность пользователей в приложении резко возрасла с 2019-08-01, а до этого была очень слабой. Это может быть связано с техническими проблемами системы сбора логов, выходом приложения в открытый доступ (окончание бета-периода) и другими причинами.\n",
    "- ежедневное количество активности примерно одинаковое\n",
    "\n",
    "**Посмотрим покрупнее на промежуток времени в несколько дней**"
   ]
  },
  {
   "cell_type": "code",
   "execution_count": 11,
   "metadata": {
    "scrolled": false
   },
   "outputs": [
    {
     "data": {
      "image/png": "[encoded data removed]",
      "text/plain": [
       "<Figure size 1000x700 with 1 Axes>"
      ]
     },
     "metadata": {},
     "output_type": "display_data"
    }
   ],
   "source": [
    "plt.figure(figsize=(10,7))\n",
    "df['event_timestamp'].hist(bins=50, range=(pd.to_datetime('2019-07-31 00:00'), pd.to_datetime('2019-08-01 23:59')))\n",
    "\n",
    "# Устанавливаем формат временных меток\n",
    "plt.gca().xaxis.set_major_formatter(mdates.DateFormatter('%d.%m %H:%M'))\n",
    "\n",
    "plt.title('Распределение логов по временной шкале')\n",
    "plt.ylabel('Количество логов')\n",
    "plt.xlabel('Время')\n",
    "plt.tight_layout()\n",
    "plt.show()"
   ]
  },
  {
   "cell_type": "markdown",
   "metadata": {},
   "source": [
    "- из более крупного приближения видно, что пользователи наиболее активно пользуются приложением в период с 12:00 до 18:00"
   ]
  },
  {
   "cell_type": "markdown",
   "metadata": {},
   "source": [
    "**Посмотрим, как распределяется активность по времени в разрезе групп**"
   ]
  },
  {
   "cell_type": "code",
   "execution_count": 12,
   "metadata": {},
   "outputs": [
    {
     "data": {
      "image/png": "[encoded data removed]",
      "text/plain": [
       "<Figure size 1000x700 with 1 Axes>"
      ]
     },
     "metadata": {},
     "output_type": "display_data"
    }
   ],
   "source": [
    "plt.figure(figsize=(10, 7))\n",
    "\n",
    "# Группируем данные по exp_id и строим гистограмму для каждой группы\n",
    "for group in df['exp_id'].unique():\n",
    "    data = df[df['exp_id'] == group]['event_timestamp']\n",
    "    data.hist(bins=168, alpha=0.6, label=f'Группа {group}')  # Устанавливаем прозрачность и метку\n",
    "\n",
    "plt.title('Распределение событий в зависимости от времени для разных групп')\n",
    "plt.xlabel('Время')\n",
    "plt.ylabel('Количество событий')\n",
    "plt.legend()\n",
    "plt.tight_layout()\n",
    "plt.show()"
   ]
  },
  {
   "cell_type": "markdown",
   "metadata": {},
   "source": [
    "- на графике видно, что активность по группам распределена достаточно равномерно с небольшими отличиями в количестве, что отражает общее количество логов в каждой группе.\n"
   ]
  },
  {
   "cell_type": "markdown",
   "metadata": {},
   "source": [
    "Для целей нашего анализа требуются максимально полные данные об активностях пользователей приложения. Судя по графикам, такие данные есть начиная с 01.08.2019 00:00, более ранние данные следует отбросить.\n",
    "\n",
    "Таким образом, наш актуальный период данных с 25.07.2019 - 07.08.2019 сократится до **01.08.2019 - 07.08.2019**\n",
    "\n",
    "- Посмотрим, какое количество записей мы потеряем? \n"
   ]
  },
  {
   "cell_type": "code",
   "execution_count": 13,
   "metadata": {},
   "outputs": [
    {
     "name": "stdout",
     "output_type": "stream",
     "text": [
      "Следует удалить 2825 записей, что составляет всего 1.16 % от общего количества\n"
     ]
    }
   ],
   "source": [
    "low_data = df.query('event_timestamp <= \"2019-07-31 23:59\"')\n",
    "print('Следует удалить', len(low_data), 'записей, что составляет всего', round(len(low_data) / len(df) * 100, 2), '% от общего количества')"
   ]
  },
  {
   "cell_type": "markdown",
   "metadata": {},
   "source": [
    "**1,16% - допустимое количество удаляемых выбросов, так и поступим**"
   ]
  },
  {
   "cell_type": "markdown",
   "metadata": {},
   "source": [
    "**Посмотрим также, сколько пользователей мы потеряем**"
   ]
  },
  {
   "cell_type": "code",
   "execution_count": 14,
   "metadata": {},
   "outputs": [
    {
     "name": "stdout",
     "output_type": "stream",
     "text": [
      "При удалении старых записей мы потеряем  1451  пользователей, что составляет  0.19  % от их общего числа.\n"
     ]
    }
   ],
   "source": [
    "print('При удалении старых записей мы потеряем ',\n",
    "low_data['device_id_hash'].nunique(),\n",
    "' пользователей, что составляет ', round(low_data['device_id_hash'].nunique() / df['device_id_hash'].nunique(), 2),\n",
    "' % от их общего числа.'\n",
    ")"
   ]
  },
  {
   "cell_type": "code",
   "execution_count": 15,
   "metadata": {
    "scrolled": true
   },
   "outputs": [
    {
     "name": "stdout",
     "output_type": "stream",
     "text": [
      "<class 'pandas.core.frame.DataFrame'>\n",
      "RangeIndex: 240888 entries, 0 to 240887\n",
      "Data columns (total 5 columns):\n",
      " #   Column           Non-Null Count   Dtype         \n",
      "---  ------           --------------   -----         \n",
      " 0   event_name       240888 non-null  object        \n",
      " 1   device_id_hash   240888 non-null  int64         \n",
      " 2   event_timestamp  240888 non-null  datetime64[ns]\n",
      " 3   exp_id           240888 non-null  int64         \n",
      " 4   event_date       240888 non-null  object        \n",
      "dtypes: datetime64[ns](1), int64(2), object(2)\n",
      "memory usage: 9.2+ MB\n",
      "None\n"
     ]
    }
   ],
   "source": [
    "df_filtered = df.query('event_timestamp > \"2019-07-31 23:59\"').reset_index(drop=True)\n",
    "print(df_filtered.info())"
   ]
  },
  {
   "cell_type": "markdown",
   "metadata": {},
   "source": [
    "- посмотрим теперь на распределение активности по времени и группам"
   ]
  },
  {
   "cell_type": "code",
   "execution_count": 16,
   "metadata": {},
   "outputs": [
    {
     "data": {
      "image/png": "[encoded data removed]",
      "text/plain": [
       "<Figure size 1000x700 with 1 Axes>"
      ]
     },
     "metadata": {},
     "output_type": "display_data"
    }
   ],
   "source": [
    "plt.figure(figsize=(10, 7))\n",
    "\n",
    "# Группируем данные по exp_id и строим гистограмму для каждой группы\n",
    "for group in df_filtered['exp_id'].unique():\n",
    "    data = df_filtered[df_filtered['exp_id'] == group]['event_timestamp']\n",
    "    data.hist(bins=168, alpha=0.6, label=f'Группа {group}')  # Устанавливаем прозрачность и метку\n",
    "\n",
    "plt.title('Распределение событий в зависимости от времени для разных групп')\n",
    "plt.xlabel('Время')\n",
    "plt.ylabel('Количество событий')\n",
    "plt.legend()\n",
    "plt.tight_layout()\n",
    "plt.show()"
   ]
  },
  {
   "cell_type": "markdown",
   "metadata": {},
   "source": [
    "**Посмотрим, как распределяются уникальные пользователи по группам**"
   ]
  },
  {
   "cell_type": "code",
   "execution_count": 17,
   "metadata": {
    "scrolled": true
   },
   "outputs": [
    {
     "name": "stdout",
     "output_type": "stream",
     "text": [
      "exp_id\n",
      "246    2484\n",
      "247    2513\n",
      "248    2537\n",
      "Name: device_id_hash, dtype: int64\n"
     ]
    }
   ],
   "source": [
    "print(df_filtered.groupby('exp_id')['device_id_hash'].nunique())"
   ]
  },
  {
   "cell_type": "markdown",
   "metadata": {},
   "source": [
    "- пользователи поделены по группам примерно поровну, отлично"
   ]
  },
  {
   "cell_type": "markdown",
   "metadata": {},
   "source": [
    "**Проверим, принадлежат ли уникальные пользователи каждый своей группе, или есть пользователи, которые попали более, чем в одну группу**\n",
    "<a id=\"check1\"></a>"
   ]
  },
  {
   "cell_type": "code",
   "execution_count": 18,
   "metadata": {
    "scrolled": true
   },
   "outputs": [
    {
     "name": "stdout",
     "output_type": "stream",
     "text": [
      "device_id_hash\n",
      "6888746892508752       1\n",
      "6204944347213293942    1\n",
      "6215559225876063378    1\n",
      "6215162890135937308    1\n",
      "6213626876710715478    1\n",
      "                      ..\n",
      "3171454373076660766    1\n",
      "3170212200647575044    1\n",
      "3167974726645136146    1\n",
      "3167390091686880227    1\n",
      "9222603179720523844    1\n",
      "Name: exp_id, Length: 7534, dtype: int64\n"
     ]
    }
   ],
   "source": [
    "print(df_filtered.groupby('device_id_hash')['exp_id'].nunique().sort_values(ascending=False))"
   ]
  },
  {
   "cell_type": "markdown",
   "metadata": {},
   "source": [
    "- получается, что с распределением по группам все в порядке - один пользователь = одна группа"
   ]
  },
  {
   "cell_type": "markdown",
   "metadata": {},
   "source": [
    "# Итоги предварительной обрабоки данных\n",
    "\n",
    "Нами были загружены логи событий приложения, исправлены названия колонок, данные о времени события приведены к нужному формату, удалены полные дубликаты (413 записей, стоит разобраться в причинах их появления), проверена коррекность распределения пользователей на группы, определены актуальные данные для анализа (начиная с 2019-08-01), более ранние неполные данные удалены "
   ]
  },
  {
   "cell_type": "markdown",
   "metadata": {},
   "source": [
    "## Изучим воронку событий"
   ]
  },
  {
   "cell_type": "markdown",
   "metadata": {},
   "source": [
    "- посмотрим, сколько в логах событий каждого типа и сколько уникальных пользователей их совершало"
   ]
  },
  {
   "cell_type": "code",
   "execution_count": 19,
   "metadata": {},
   "outputs": [
    {
     "data": {
      "text/html": [
       "<div>\n",
       "<style scoped>\n",
       "    .dataframe tbody tr th:only-of-type {\n",
       "        vertical-align: middle;\n",
       "    }\n",
       "\n",
       "    .dataframe tbody tr th {\n",
       "        vertical-align: top;\n",
       "    }\n",
       "\n",
       "    .dataframe thead th {\n",
       "        text-align: right;\n",
       "    }\n",
       "</style>\n",
       "<table border=\"1\" class=\"dataframe\">\n",
       "  <thead>\n",
       "    <tr style=\"text-align: right;\">\n",
       "      <th></th>\n",
       "      <th>event_name</th>\n",
       "      <th>events_count</th>\n",
       "      <th>from_total</th>\n",
       "    </tr>\n",
       "  </thead>\n",
       "  <tbody>\n",
       "    <tr>\n",
       "      <th>0</th>\n",
       "      <td>MainScreenAppear</td>\n",
       "      <td>117329</td>\n",
       "      <td>48.71</td>\n",
       "    </tr>\n",
       "    <tr>\n",
       "      <th>1</th>\n",
       "      <td>OffersScreenAppear</td>\n",
       "      <td>46333</td>\n",
       "      <td>19.23</td>\n",
       "    </tr>\n",
       "    <tr>\n",
       "      <th>2</th>\n",
       "      <td>CartScreenAppear</td>\n",
       "      <td>42303</td>\n",
       "      <td>17.56</td>\n",
       "    </tr>\n",
       "    <tr>\n",
       "      <th>3</th>\n",
       "      <td>PaymentScreenSuccessful</td>\n",
       "      <td>33918</td>\n",
       "      <td>14.08</td>\n",
       "    </tr>\n",
       "    <tr>\n",
       "      <th>4</th>\n",
       "      <td>Tutorial</td>\n",
       "      <td>1005</td>\n",
       "      <td>0.42</td>\n",
       "    </tr>\n",
       "  </tbody>\n",
       "</table>\n",
       "</div>"
      ],
      "text/plain": [
       "                event_name  events_count  from_total\n",
       "0         MainScreenAppear        117329       48.71\n",
       "1       OffersScreenAppear         46333       19.23\n",
       "2         CartScreenAppear         42303       17.56\n",
       "3  PaymentScreenSuccessful         33918       14.08\n",
       "4                 Tutorial          1005        0.42"
      ]
     },
     "metadata": {},
     "output_type": "display_data"
    }
   ],
   "source": [
    "# всего логов в базе\n",
    "total_events = df_filtered.shape[0]\n",
    "\n",
    "# посчитаем логи по каждому событию и % от общего количества\n",
    "events = (df_filtered.groupby('event_name')\n",
    "                 .agg({'exp_id':'count'})\n",
    "                 .sort_values(by='exp_id', ascending=False)\n",
    "                 .reset_index()\n",
    ")\n",
    "events.columns = ['event_name','events_count']\n",
    "events['from_total'] = round(events['events_count'] / total_events * 100, 2)\n",
    "\n",
    "\n",
    "display(events)"
   ]
  },
  {
   "cell_type": "markdown",
   "metadata": {},
   "source": [
    "- В офильтрованных нами данных есть логи 5 типов событий:\n",
    "    - `MainScreenAppear` - это пользователь увидел главный экран приложения, другими словами, запустил его. **48.71%**  всех событий. По сути, это первый и обязательный пункт воронки. \n",
    "    - `OffersScreenAppear` - пользователь увидел экран с предложениями. **19,23%** событий. Без него не добавить товар в корзину.\n",
    "    - `CartScreenAppear` - пользователь увидел корзину (не факт, что с размещенным им заказом. Можно корзину открыть и пустую - другой вопрос: зачем? Предположим, что этот пункт воронки говорит о предшествующем добавлении товара в корзину). Также следует отметить, что в корзину можно перейти сразу с главного экрана, минуя экран с предложениями. **17.56% событий**\n",
    "    - `PaymentScreenSuccessful` - пользователь успешно оплатил заказ, **14,08% всех событий**. Этот пункт завершает нашу воронку\n",
    "    - `Tutorial` - пользователь открыл экран с инструкциями по работе с приложением, **менее 0.5%** от всех событий. Данный пункт не является обязательным и может присутствовать в любом месте воронки."
   ]
  },
  {
   "cell_type": "markdown",
   "metadata": {},
   "source": [
    "- Сколько пользователей совершали каждое из этих событий?"
   ]
  },
  {
   "cell_type": "code",
   "execution_count": 20,
   "metadata": {
    "scrolled": true
   },
   "outputs": [
    {
     "data": {
      "text/html": [
       "<div>\n",
       "<style scoped>\n",
       "    .dataframe tbody tr th:only-of-type {\n",
       "        vertical-align: middle;\n",
       "    }\n",
       "\n",
       "    .dataframe tbody tr th {\n",
       "        vertical-align: top;\n",
       "    }\n",
       "\n",
       "    .dataframe thead th {\n",
       "        text-align: right;\n",
       "    }\n",
       "</style>\n",
       "<table border=\"1\" class=\"dataframe\">\n",
       "  <thead>\n",
       "    <tr style=\"text-align: right;\">\n",
       "      <th></th>\n",
       "      <th>event_name</th>\n",
       "      <th>unique_users</th>\n",
       "      <th>unique_users_change</th>\n",
       "    </tr>\n",
       "  </thead>\n",
       "  <tbody>\n",
       "    <tr>\n",
       "      <th>0</th>\n",
       "      <td>MainScreenAppear</td>\n",
       "      <td>7419</td>\n",
       "      <td>NaN</td>\n",
       "    </tr>\n",
       "    <tr>\n",
       "      <th>1</th>\n",
       "      <td>OffersScreenAppear</td>\n",
       "      <td>4593</td>\n",
       "      <td>-38.091387</td>\n",
       "    </tr>\n",
       "    <tr>\n",
       "      <th>2</th>\n",
       "      <td>CartScreenAppear</td>\n",
       "      <td>3734</td>\n",
       "      <td>-18.702373</td>\n",
       "    </tr>\n",
       "    <tr>\n",
       "      <th>3</th>\n",
       "      <td>PaymentScreenSuccessful</td>\n",
       "      <td>3539</td>\n",
       "      <td>-5.222282</td>\n",
       "    </tr>\n",
       "    <tr>\n",
       "      <th>4</th>\n",
       "      <td>Tutorial</td>\n",
       "      <td>840</td>\n",
       "      <td>-76.264481</td>\n",
       "    </tr>\n",
       "  </tbody>\n",
       "</table>\n",
       "</div>"
      ],
      "text/plain": [
       "                event_name  unique_users  unique_users_change\n",
       "0         MainScreenAppear          7419                  NaN\n",
       "1       OffersScreenAppear          4593           -38.091387\n",
       "2         CartScreenAppear          3734           -18.702373\n",
       "3  PaymentScreenSuccessful          3539            -5.222282\n",
       "4                 Tutorial           840           -76.264481"
      ]
     },
     "metadata": {},
     "output_type": "display_data"
    }
   ],
   "source": [
    "events_users = (\n",
    "    df_filtered.groupby('event_name')\n",
    "    .agg({'device_id_hash': 'nunique'})\n",
    "    .sort_values(by='device_id_hash', ascending=False)\n",
    "    .reset_index()\n",
    ")\n",
    "\n",
    "events_users.columns = ['event_name', 'unique_users']\n",
    "events_users['unique_users_change'] = events_users['unique_users'].pct_change() * 100\n",
    "\n",
    "display(events_users)\n"
   ]
  },
  {
   "cell_type": "markdown",
   "metadata": {},
   "source": [
    "- Мы видим, как по мере прохождения воронки наши уникальные пользователи сокращают количество сеансов использования приложения: так после главного экрана на экран с предложениями переходит ***на 38% меньше пользователей***, что является весьма большим показателем для приложения для покупки продуктов. Возможно, у пользователей есть сложности с освоением работы с приложением и они просто не могут или не знают, как перейти на экран с предложениями. Либо переход осуществляется прямиком в корзину.\n",
    "\n",
    "**Так или иначе - на этом шаге мы теряем наибольшее количество пользователей.**\n",
    "\n",
    "В пользу этого предположения говорит крайне низкий % прохождения обучения работе с приложением - количество сеансов ***0.42%*** от общего числа событий в логе, как мы выяснили выше.\n",
    "\n",
    "- После экрана с предложениями идет корзина, куда переходит ***на 18.70% меньше*** пользователей из предыдущего пункта. Как я уже заметил ранее, в корзину можно перейти и с главной страницы.\n",
    "- Оплату успешно завершают ***всего на 5% меньшее*** количество пользователей от числа тех, кто добавил товар в корзину.\n",
    "\n",
    "**Посмотрим, какое количество пользователей доходит от открытия приложения до оплаты:**"
   ]
  },
  {
   "cell_type": "code",
   "execution_count": 21,
   "metadata": {},
   "outputs": [
    {
     "data": {
      "application/vnd.plotly.v1+json": {
       "config": {
        "plotlyServerURL": "https://plot.ly"
       },
       "data": [
        {
         "hovertemplate": "device_id_hash=%{x}<br>event_name=%{y}<extra></extra>",
         "legendgroup": "",
         "marker": {
          "color": "#636efa"
         },
         "name": "",
         "orientation": "h",
         "showlegend": false,
         "type": "funnel",
         "x": [
          7419,
          4593,
          3734,
          3539,
          840
         ],
         "xaxis": "x",
         "y": [
          "MainScreenAppear",
          "OffersScreenAppear",
          "CartScreenAppear",
          "PaymentScreenSuccessful",
          "Tutorial"
         ],
         "yaxis": "y"
        }
       ],
       "layout": {
        "legend": {
         "tracegroupgap": 0
        },
        "margin": {
         "t": 60
        },
        "template": {
         "data": {
          "bar": [
           {
            "error_x": {
             "color": "#2a3f5f"
            },
            "error_y": {
             "color": "#2a3f5f"
            },
            "marker": {
             "line": {
              "color": "#E5ECF6",
              "width": 0.5
             },
             "pattern": {
              "fillmode": "overlay",
              "size": 10,
              "solidity": 0.2
             }
            },
            "type": "bar"
           }
          ],
          "barpolar": [
           {
            "marker": {
             "line": {
              "color": "#E5ECF6",
              "width": 0.5
             },
             "pattern": {
              "fillmode": "overlay",
              "size": 10,
              "solidity": 0.2
             }
            },
            "type": "barpolar"
           }
          ],
          "carpet": [
           {
            "aaxis": {
             "endlinecolor": "#2a3f5f",
             "gridcolor": "white",
             "linecolor": "white",
             "minorgridcolor": "white",
             "startlinecolor": "#2a3f5f"
            },
            "baxis": {
             "endlinecolor": "#2a3f5f",
             "gridcolor": "white",
             "linecolor": "white",
             "minorgridcolor": "white",
             "startlinecolor": "#2a3f5f"
            },
            "type": "carpet"
           }
          ],
          "choropleth": [
           {
            "colorbar": {
             "outlinewidth": 0,
             "ticks": ""
            },
            "type": "choropleth"
           }
          ],
          "contour": [
           {
            "colorbar": {
             "outlinewidth": 0,
             "ticks": ""
            },
            "colorscale": [
             [
              0,
              "#0d0887"
             ],
             [
              0.1111111111111111,
              "#46039f"
             ],
             [
              0.2222222222222222,
              "#7201a8"
             ],
             [
              0.3333333333333333,
              "#9c179e"
             ],
             [
              0.4444444444444444,
              "#bd3786"
             ],
             [
              0.5555555555555556,
              "#d8576b"
             ],
             [
              0.6666666666666666,
              "#ed7953"
             ],
             [
              0.7777777777777778,
              "#fb9f3a"
             ],
             [
              0.8888888888888888,
              "#fdca26"
             ],
             [
              1,
              "#f0f921"
             ]
            ],
            "type": "contour"
           }
          ],
          "contourcarpet": [
           {
            "colorbar": {
             "outlinewidth": 0,
             "ticks": ""
            },
            "type": "contourcarpet"
           }
          ],
          "heatmap": [
           {
            "colorbar": {
             "outlinewidth": 0,
             "ticks": ""
            },
            "colorscale": [
             [
              0,
              "#0d0887"
             ],
             [
              0.1111111111111111,
              "#46039f"
             ],
             [
              0.2222222222222222,
              "#7201a8"
             ],
             [
              0.3333333333333333,
              "#9c179e"
             ],
             [
              0.4444444444444444,
              "#bd3786"
             ],
             [
              0.5555555555555556,
              "#d8576b"
             ],
             [
              0.6666666666666666,
              "#ed7953"
             ],
             [
              0.7777777777777778,
              "#fb9f3a"
             ],
             [
              0.8888888888888888,
              "#fdca26"
             ],
             [
              1,
              "#f0f921"
             ]
            ],
            "type": "heatmap"
           }
          ],
          "heatmapgl": [
           {
            "colorbar": {
             "outlinewidth": 0,
             "ticks": ""
            },
            "colorscale": [
             [
              0,
              "#0d0887"
             ],
             [
              0.1111111111111111,
              "#46039f"
             ],
             [
              0.2222222222222222,
              "#7201a8"
             ],
             [
              0.3333333333333333,
              "#9c179e"
             ],
             [
              0.4444444444444444,
              "#bd3786"
             ],
             [
              0.5555555555555556,
              "#d8576b"
             ],
             [
              0.6666666666666666,
              "#ed7953"
             ],
             [
              0.7777777777777778,
              "#fb9f3a"
             ],
             [
              0.8888888888888888,
              "#fdca26"
             ],
             [
              1,
              "#f0f921"
             ]
            ],
            "type": "heatmapgl"
           }
          ],
          "histogram": [
           {
            "marker": {
             "pattern": {
              "fillmode": "overlay",
              "size": 10,
              "solidity": 0.2
             }
            },
            "type": "histogram"
           }
          ],
          "histogram2d": [
           {
            "colorbar": {
             "outlinewidth": 0,
             "ticks": ""
            },
            "colorscale": [
             [
              0,
              "#0d0887"
             ],
             [
              0.1111111111111111,
              "#46039f"
             ],
             [
              0.2222222222222222,
              "#7201a8"
             ],
             [
              0.3333333333333333,
              "#9c179e"
             ],
             [
              0.4444444444444444,
              "#bd3786"
             ],
             [
              0.5555555555555556,
              "#d8576b"
             ],
             [
              0.6666666666666666,
              "#ed7953"
             ],
             [
              0.7777777777777778,
              "#fb9f3a"
             ],
             [
              0.8888888888888888,
              "#fdca26"
             ],
             [
              1,
              "#f0f921"
             ]
            ],
            "type": "histogram2d"
           }
          ],
          "histogram2dcontour": [
           {
            "colorbar": {
             "outlinewidth": 0,
             "ticks": ""
            },
            "colorscale": [
             [
              0,
              "#0d0887"
             ],
             [
              0.1111111111111111,
              "#46039f"
             ],
             [
              0.2222222222222222,
              "#7201a8"
             ],
             [
              0.3333333333333333,
              "#9c179e"
             ],
             [
              0.4444444444444444,
              "#bd3786"
             ],
             [
              0.5555555555555556,
              "#d8576b"
             ],
             [
              0.6666666666666666,
              "#ed7953"
             ],
             [
              0.7777777777777778,
              "#fb9f3a"
             ],
             [
              0.8888888888888888,
              "#fdca26"
             ],
             [
              1,
              "#f0f921"
             ]
            ],
            "type": "histogram2dcontour"
           }
          ],
          "mesh3d": [
           {
            "colorbar": {
             "outlinewidth": 0,
             "ticks": ""
            },
            "type": "mesh3d"
           }
          ],
          "parcoords": [
           {
            "line": {
             "colorbar": {
              "outlinewidth": 0,
              "ticks": ""
             }
            },
            "type": "parcoords"
           }
          ],
          "pie": [
           {
            "automargin": true,
            "type": "pie"
           }
          ],
          "scatter": [
           {
            "fillpattern": {
             "fillmode": "overlay",
             "size": 10,
             "solidity": 0.2
            },
            "type": "scatter"
           }
          ],
          "scatter3d": [
           {
            "line": {
             "colorbar": {
              "outlinewidth": 0,
              "ticks": ""
             }
            },
            "marker": {
             "colorbar": {
              "outlinewidth": 0,
              "ticks": ""
             }
            },
            "type": "scatter3d"
           }
          ],
          "scattercarpet": [
           {
            "marker": {
             "colorbar": {
              "outlinewidth": 0,
              "ticks": ""
             }
            },
            "type": "scattercarpet"
           }
          ],
          "scattergeo": [
           {
            "marker": {
             "colorbar": {
              "outlinewidth": 0,
              "ticks": ""
             }
            },
            "type": "scattergeo"
           }
          ],
          "scattergl": [
           {
            "marker": {
             "colorbar": {
              "outlinewidth": 0,
              "ticks": ""
             }
            },
            "type": "scattergl"
           }
          ],
          "scattermapbox": [
           {
            "marker": {
             "colorbar": {
              "outlinewidth": 0,
              "ticks": ""
             }
            },
            "type": "scattermapbox"
           }
          ],
          "scatterpolar": [
           {
            "marker": {
             "colorbar": {
              "outlinewidth": 0,
              "ticks": ""
             }
            },
            "type": "scatterpolar"
           }
          ],
          "scatterpolargl": [
           {
            "marker": {
             "colorbar": {
              "outlinewidth": 0,
              "ticks": ""
             }
            },
            "type": "scatterpolargl"
           }
          ],
          "scatterternary": [
           {
            "marker": {
             "colorbar": {
              "outlinewidth": 0,
              "ticks": ""
             }
            },
            "type": "scatterternary"
           }
          ],
          "surface": [
           {
            "colorbar": {
             "outlinewidth": 0,
             "ticks": ""
            },
            "colorscale": [
             [
              0,
              "#0d0887"
             ],
             [
              0.1111111111111111,
              "#46039f"
             ],
             [
              0.2222222222222222,
              "#7201a8"
             ],
             [
              0.3333333333333333,
              "#9c179e"
             ],
             [
              0.4444444444444444,
              "#bd3786"
             ],
             [
              0.5555555555555556,
              "#d8576b"
             ],
             [
              0.6666666666666666,
              "#ed7953"
             ],
             [
              0.7777777777777778,
              "#fb9f3a"
             ],
             [
              0.8888888888888888,
              "#fdca26"
             ],
             [
              1,
              "#f0f921"
             ]
            ],
            "type": "surface"
           }
          ],
          "table": [
           {
            "cells": {
             "fill": {
              "color": "#EBF0F8"
             },
             "line": {
              "color": "white"
             }
            },
            "header": {
             "fill": {
              "color": "#C8D4E3"
             },
             "line": {
              "color": "white"
             }
            },
            "type": "table"
           }
          ]
         },
         "layout": {
          "annotationdefaults": {
           "arrowcolor": "#2a3f5f",
           "arrowhead": 0,
           "arrowwidth": 1
          },
          "autotypenumbers": "strict",
          "coloraxis": {
           "colorbar": {
            "outlinewidth": 0,
            "ticks": ""
           }
          },
          "colorscale": {
           "diverging": [
            [
             0,
             "#8e0152"
            ],
            [
             0.1,
             "#c51b7d"
            ],
            [
             0.2,
             "#de77ae"
            ],
            [
             0.3,
             "#f1b6da"
            ],
            [
             0.4,
             "#fde0ef"
            ],
            [
             0.5,
             "#f7f7f7"
            ],
            [
             0.6,
             "#e6f5d0"
            ],
            [
             0.7,
             "#b8e186"
            ],
            [
             0.8,
             "#7fbc41"
            ],
            [
             0.9,
             "#4d9221"
            ],
            [
             1,
             "#276419"
            ]
           ],
           "sequential": [
            [
             0,
             "#0d0887"
            ],
            [
             0.1111111111111111,
             "#46039f"
            ],
            [
             0.2222222222222222,
             "#7201a8"
            ],
            [
             0.3333333333333333,
             "#9c179e"
            ],
            [
             0.4444444444444444,
             "#bd3786"
            ],
            [
             0.5555555555555556,
             "#d8576b"
            ],
            [
             0.6666666666666666,
             "#ed7953"
            ],
            [
             0.7777777777777778,
             "#fb9f3a"
            ],
            [
             0.8888888888888888,
             "#fdca26"
            ],
            [
             1,
             "#f0f921"
            ]
           ],
           "sequentialminus": [
            [
             0,
             "#0d0887"
            ],
            [
             0.1111111111111111,
             "#46039f"
            ],
            [
             0.2222222222222222,
             "#7201a8"
            ],
            [
             0.3333333333333333,
             "#9c179e"
            ],
            [
             0.4444444444444444,
             "#bd3786"
            ],
            [
             0.5555555555555556,
             "#d8576b"
            ],
            [
             0.6666666666666666,
             "#ed7953"
            ],
            [
             0.7777777777777778,
             "#fb9f3a"
            ],
            [
             0.8888888888888888,
             "#fdca26"
            ],
            [
             1,
             "#f0f921"
            ]
           ]
          },
          "colorway": [
           "#636efa",
           "#EF553B",
           "#00cc96",
           "#ab63fa",
           "#FFA15A",
           "#19d3f3",
           "#FF6692",
           "#B6E880",
           "#FF97FF",
           "#FECB52"
          ],
          "font": {
           "color": "#2a3f5f"
          },
          "geo": {
           "bgcolor": "white",
           "lakecolor": "white",
           "landcolor": "#E5ECF6",
           "showlakes": true,
           "showland": true,
           "subunitcolor": "white"
          },
          "hoverlabel": {
           "align": "left"
          },
          "hovermode": "closest",
          "mapbox": {
           "style": "light"
          },
          "paper_bgcolor": "white",
          "plot_bgcolor": "#E5ECF6",
          "polar": {
           "angularaxis": {
            "gridcolor": "white",
            "linecolor": "white",
            "ticks": ""
           },
           "bgcolor": "#E5ECF6",
           "radialaxis": {
            "gridcolor": "white",
            "linecolor": "white",
            "ticks": ""
           }
          },
          "scene": {
           "xaxis": {
            "backgroundcolor": "#E5ECF6",
            "gridcolor": "white",
            "gridwidth": 2,
            "linecolor": "white",
            "showbackground": true,
            "ticks": "",
            "zerolinecolor": "white"
           },
           "yaxis": {
            "backgroundcolor": "#E5ECF6",
            "gridcolor": "white",
            "gridwidth": 2,
            "linecolor": "white",
            "showbackground": true,
            "ticks": "",
            "zerolinecolor": "white"
           },
           "zaxis": {
            "backgroundcolor": "#E5ECF6",
            "gridcolor": "white",
            "gridwidth": 2,
            "linecolor": "white",
            "showbackground": true,
            "ticks": "",
            "zerolinecolor": "white"
           }
          },
          "shapedefaults": {
           "line": {
            "color": "#2a3f5f"
           }
          },
          "ternary": {
           "aaxis": {
            "gridcolor": "white",
            "linecolor": "white",
            "ticks": ""
           },
           "baxis": {
            "gridcolor": "white",
            "linecolor": "white",
            "ticks": ""
           },
           "bgcolor": "#E5ECF6",
           "caxis": {
            "gridcolor": "white",
            "linecolor": "white",
            "ticks": ""
           }
          },
          "title": {
           "x": 0.05
          },
          "xaxis": {
           "automargin": true,
           "gridcolor": "white",
           "linecolor": "white",
           "ticks": "",
           "title": {
            "standoff": 15
           },
           "zerolinecolor": "white",
           "zerolinewidth": 2
          },
          "yaxis": {
           "automargin": true,
           "gridcolor": "white",
           "linecolor": "white",
           "ticks": "",
           "title": {
            "standoff": 15
           },
           "zerolinecolor": "white",
           "zerolinewidth": 2
          }
         }
        },
        "title": {
         "text": "Воронка продаж: стадии воронки и количество уникальных пользователей на каждой",
         "x": 0.5,
         "xanchor": "center"
        },
        "xaxis": {
         "anchor": "y",
         "domain": [
          0,
          1
         ],
         "title": {
          "text": "device_id_hash"
         }
        },
        "yaxis": {
         "anchor": "x",
         "domain": [
          0,
          1
         ],
         "title": {
          "text": ""
         }
        }
       }
      }
     },
     "metadata": {},
     "output_type": "display_data"
    }
   ],
   "source": [
    "import plotly.express as px\n",
    "\n",
    "data = df_filtered.groupby('event_name')['device_id_hash'].nunique().sort_values(ascending = False).reset_index()\n",
    "\n",
    "fig = px.funnel(data, x=data['device_id_hash'], y=data['event_name'])\n",
    "\n",
    "# Обновление макета графика: убираем лейбл оси Y и добавляем заголовок\n",
    "fig.update_layout(\n",
    "    yaxis_title='',  # Убираем лейбл оси Y\n",
    "    title='Воронка продаж: стадии воронки и количество уникальных пользователей на каждой',\n",
    "    title_x=0.5,  # Центрируем заголовок\n",
    "    title_xanchor='center'  # Указываем якорь для выравнивания заголовка\n",
    ")\n",
    "\n",
    "\n",
    "fig.show()"
   ]
  },
  {
   "cell_type": "code",
   "execution_count": 22,
   "metadata": {
    "scrolled": true
   },
   "outputs": [
    {
     "name": "stdout",
     "output_type": "stream",
     "text": [
      "Процент пользователей, которые доходят от открытия приложения до оплаты; 47.7 %\n"
     ]
    }
   ],
   "source": [
    "(print('Процент пользователей, которые доходят от открытия приложения до оплаты;',\n",
    "round((events_users.loc[3, 'unique_users'] / events_users.loc[0, 'unique_users']) * 100, 2)\n",
    ", '%')\n",
    ")"
   ]
  },
  {
   "cell_type": "markdown",
   "metadata": {},
   "source": [
    "- менее 50%, есть куда расти. Например, расширить количество специальных предложений, персонифицировать их для пользователя на основе истории покупок и предпочений"
   ]
  },
  {
   "cell_type": "markdown",
   "metadata": {},
   "source": [
    "**Стоит изучить, сколько проходит времени в среднем по пользователям каждой группы между первыми событиями MainScreenAppear и PaymentScreenSuccessful - от открытия приложения до покупки**"
   ]
  },
  {
   "cell_type": "code",
   "execution_count": 23,
   "metadata": {
    "scrolled": false
   },
   "outputs": [
    {
     "data": {
      "text/html": [
       "<div>\n",
       "<style scoped>\n",
       "    .dataframe tbody tr th:only-of-type {\n",
       "        vertical-align: middle;\n",
       "    }\n",
       "\n",
       "    .dataframe tbody tr th {\n",
       "        vertical-align: top;\n",
       "    }\n",
       "\n",
       "    .dataframe thead th {\n",
       "        text-align: right;\n",
       "    }\n",
       "</style>\n",
       "<table border=\"1\" class=\"dataframe\">\n",
       "  <thead>\n",
       "    <tr style=\"text-align: right;\">\n",
       "      <th></th>\n",
       "      <th>exp_id</th>\n",
       "      <th>time_difference</th>\n",
       "      <th>time_difference_sec</th>\n",
       "    </tr>\n",
       "    <tr>\n",
       "      <th>device_id_hash</th>\n",
       "      <th></th>\n",
       "      <th></th>\n",
       "      <th></th>\n",
       "    </tr>\n",
       "  </thead>\n",
       "  <tbody>\n",
       "    <tr>\n",
       "      <th>6909561520679493</th>\n",
       "      <td>247</td>\n",
       "      <td>0 days 00:00:04</td>\n",
       "      <td>4.0</td>\n",
       "    </tr>\n",
       "    <tr>\n",
       "      <th>6922444491712477</th>\n",
       "      <td>246</td>\n",
       "      <td>0 days 00:00:07</td>\n",
       "      <td>7.0</td>\n",
       "    </tr>\n",
       "    <tr>\n",
       "      <th>7702139951469979</th>\n",
       "      <td>247</td>\n",
       "      <td>1 days 09:58:51</td>\n",
       "      <td>122331.0</td>\n",
       "    </tr>\n",
       "    <tr>\n",
       "      <th>9841258664663090</th>\n",
       "      <td>248</td>\n",
       "      <td>0 days 07:09:28</td>\n",
       "      <td>25768.0</td>\n",
       "    </tr>\n",
       "    <tr>\n",
       "      <th>18658818197810381</th>\n",
       "      <td>246</td>\n",
       "      <td>1 days 10:41:58</td>\n",
       "      <td>124918.0</td>\n",
       "    </tr>\n",
       "    <tr>\n",
       "      <th>...</th>\n",
       "      <td>...</td>\n",
       "      <td>...</td>\n",
       "      <td>...</td>\n",
       "    </tr>\n",
       "    <tr>\n",
       "      <th>9212420551954885212</th>\n",
       "      <td>248</td>\n",
       "      <td>0 days 00:03:09</td>\n",
       "      <td>189.0</td>\n",
       "    </tr>\n",
       "    <tr>\n",
       "      <th>9212961170535635779</th>\n",
       "      <td>246</td>\n",
       "      <td>4 days 10:45:37</td>\n",
       "      <td>384337.0</td>\n",
       "    </tr>\n",
       "    <tr>\n",
       "      <th>9214668690707156694</th>\n",
       "      <td>248</td>\n",
       "      <td>2 days 00:40:02</td>\n",
       "      <td>175202.0</td>\n",
       "    </tr>\n",
       "    <tr>\n",
       "      <th>9216369613838971606</th>\n",
       "      <td>246</td>\n",
       "      <td>0 days 00:00:06</td>\n",
       "      <td>6.0</td>\n",
       "    </tr>\n",
       "    <tr>\n",
       "      <th>9219463515465815368</th>\n",
       "      <td>248</td>\n",
       "      <td>1 days 11:25:50</td>\n",
       "      <td>127550.0</td>\n",
       "    </tr>\n",
       "  </tbody>\n",
       "</table>\n",
       "<p>3268 rows × 3 columns</p>\n",
       "</div>"
      ],
      "text/plain": [
       "                     exp_id time_difference  time_difference_sec\n",
       "device_id_hash                                                  \n",
       "6909561520679493        247 0 days 00:00:04                  4.0\n",
       "6922444491712477        246 0 days 00:00:07                  7.0\n",
       "7702139951469979        247 1 days 09:58:51             122331.0\n",
       "9841258664663090        248 0 days 07:09:28              25768.0\n",
       "18658818197810381       246 1 days 10:41:58             124918.0\n",
       "...                     ...             ...                  ...\n",
       "9212420551954885212     248 0 days 00:03:09                189.0\n",
       "9212961170535635779     246 4 days 10:45:37             384337.0\n",
       "9214668690707156694     248 2 days 00:40:02             175202.0\n",
       "9216369613838971606     246 0 days 00:00:06                  6.0\n",
       "9219463515465815368     248 1 days 11:25:50             127550.0\n",
       "\n",
       "[3268 rows x 3 columns]"
      ]
     },
     "metadata": {},
     "output_type": "display_data"
    }
   ],
   "source": [
    "# Отфильтровать только нужные события\n",
    "filtered_df = df_filtered[df_filtered['event_name'].isin(['MainScreenAppear', 'PaymentScreenSuccessful'])]\n",
    "\n",
    "# Найти первое появление каждого события для каждого пользователя\n",
    "first_events = filtered_df.groupby(['device_id_hash', 'event_name'])['event_timestamp'].min().unstack()\n",
    "\n",
    "# Рассчитать время между событиями\n",
    "first_events['time_difference'] = first_events['PaymentScreenSuccessful'] - first_events['MainScreenAppear']\n",
    "\n",
    "# Преобразовать это обратно в формат DataFrame\n",
    "first_events = first_events.reset_index()\n",
    "\n",
    "# Мержим это обратно с оригинальным DataFrame\n",
    "df_filtered = df_filtered.merge(first_events[['device_id_hash', 'time_difference']], on='device_id_hash', how='left')\n",
    "\n",
    "# И выделяем в отдельный DataFrame с уникальными пользователями, временем до покупки и группой\n",
    "df_filtered_time_to_purchase = df_filtered.groupby('device_id_hash').agg({'exp_id':'min', 'time_difference':'min'})\n",
    "\n",
    "# Преобразовать timedelta в секунды\n",
    "df_filtered_time_to_purchase['time_difference_sec'] = df_filtered_time_to_purchase['time_difference'].dt.total_seconds()\n",
    "\n",
    "# Удалить строки с отрицательными значениями времени или NaN\n",
    "df_filtered_time_to_purchase = df_filtered_time_to_purchase.dropna(subset=['time_difference_sec'])\n",
    "first_events_clean = df_filtered_time_to_purchase[df_filtered_time_to_purchase['time_difference_sec'] > 0]\n",
    "\n",
    "display(first_events_clean)"
   ]
  },
  {
   "cell_type": "markdown",
   "metadata": {},
   "source": [
    "- у нас есть данные времени между первым открытием приложения до первой покупки по всем уникальным пользоваелям.\n",
    "\n",
    "**Посмотрим на график распределения**\n",
    "\n"
   ]
  },
  {
   "cell_type": "code",
   "execution_count": 24,
   "metadata": {
    "scrolled": false
   },
   "outputs": [
    {
     "data": {
      "image/png": "[encoded data removed]",
      "text/plain": [
       "<Figure size 1000x600 with 1 Axes>"
      ]
     },
     "metadata": {},
     "output_type": "display_data"
    }
   ],
   "source": [
    "# общее распределение\n",
    "\n",
    "plt.figure(figsize=(10,6))\n",
    "first_events_clean['time_difference_sec'].hist(bins=100)\n",
    "plt.xlabel('Время, секунд')\n",
    "plt.ylabel('Количество пользователей')\n",
    "plt.title('Время от первого открытия приложения до первой покупки')\n",
    "plt.show()"
   ]
  },
  {
   "cell_type": "markdown",
   "metadata": {},
   "source": [
    "- на графике видно, что большая часть пользователей совершает свою первую покупку практически сразу после открытия.\n",
    "Более детально можно узнать из описательной статистики:"
   ]
  },
  {
   "cell_type": "code",
   "execution_count": 25,
   "metadata": {
    "scrolled": true
   },
   "outputs": [
    {
     "data": {
      "text/plain": [
       "count      3268.000000\n",
       "mean      53798.817013\n",
       "std      101265.332728\n",
       "min           1.000000\n",
       "25%           9.000000\n",
       "50%         396.000000\n",
       "75%       67426.500000\n",
       "max      566684.000000\n",
       "Name: time_difference_sec, dtype: float64"
      ]
     },
     "execution_count": 25,
     "metadata": {},
     "output_type": "execute_result"
    }
   ],
   "source": [
    "first_events_clean['time_difference_sec'].describe()"
   ]
  },
  {
   "cell_type": "markdown",
   "metadata": {},
   "source": [
    "**Медиана времени - 396 секунд**, или почти 7 минут. Интересно, какие значения будут у разных групп?"
   ]
  },
  {
   "cell_type": "code",
   "execution_count": 26,
   "metadata": {
    "scrolled": true
   },
   "outputs": [
    {
     "name": "stdout",
     "output_type": "stream",
     "text": [
      "Статистика группы 246:\n",
      "\n"
     ]
    },
    {
     "data": {
      "text/plain": [
       "count      1100.000000\n",
       "mean      54245.236364\n",
       "std      102197.903640\n",
       "min           1.000000\n",
       "25%           9.000000\n",
       "50%         409.000000\n",
       "75%       71138.000000\n",
       "max      527907.000000\n",
       "Name: time_difference_sec, dtype: float64"
      ]
     },
     "execution_count": 26,
     "metadata": {},
     "output_type": "execute_result"
    }
   ],
   "source": [
    "print('Статистика группы 246:\\n')\n",
    "first_events_clean.loc[first_events_clean['exp_id']==246]['time_difference_sec'].describe()\n"
   ]
  },
  {
   "cell_type": "code",
   "execution_count": 27,
   "metadata": {
    "scrolled": true
   },
   "outputs": [
    {
     "name": "stdout",
     "output_type": "stream",
     "text": [
      "Статистика группы 247:\n",
      "\n"
     ]
    },
    {
     "data": {
      "text/plain": [
       "count      1069.000000\n",
       "mean      57449.418148\n",
       "std      105815.831533\n",
       "min           1.000000\n",
       "25%           9.000000\n",
       "50%         524.000000\n",
       "75%       72709.000000\n",
       "max      566684.000000\n",
       "Name: time_difference_sec, dtype: float64"
      ]
     },
     "execution_count": 27,
     "metadata": {},
     "output_type": "execute_result"
    }
   ],
   "source": [
    "print('Статистика группы 247:\\n')\n",
    "first_events_clean.loc[first_events_clean['exp_id']==247]['time_difference_sec'].describe()"
   ]
  },
  {
   "cell_type": "code",
   "execution_count": 28,
   "metadata": {
    "scrolled": true
   },
   "outputs": [
    {
     "name": "stdout",
     "output_type": "stream",
     "text": [
      "Статистика группы 248:\n",
      "\n"
     ]
    },
    {
     "data": {
      "text/plain": [
       "count      1099.000000\n",
       "mean      49801.042766\n",
       "std       95591.225207\n",
       "min           1.000000\n",
       "25%           9.500000\n",
       "50%         297.000000\n",
       "75%       54182.000000\n",
       "max      559162.000000\n",
       "Name: time_difference_sec, dtype: float64"
      ]
     },
     "execution_count": 28,
     "metadata": {},
     "output_type": "execute_result"
    }
   ],
   "source": [
    "print('Статистика группы 248:\\n')\n",
    "first_events_clean.loc[first_events_clean['exp_id']==248]['time_difference_sec'].describe()"
   ]
  },
  {
   "cell_type": "markdown",
   "metadata": {},
   "source": [
    "**Вот, интересное наблюдение! Время, которое пользователи группы 248 затратили на покупку - наименьшее среди 3х групп:**\n",
    "- 248 гр. = 297 секунд\n",
    "- 247 гр. = 524 секунды\n",
    "- 246 гр. = 409 секунд\n"
   ]
  },
  {
   "cell_type": "markdown",
   "metadata": {},
   "source": [
    "Это может говорить нам о успешности нашего эксперимента со шрифтами, пользователи быстрее принимают решение о покупке.  "
   ]
  },
  {
   "cell_type": "markdown",
   "metadata": {},
   "source": [
    "# Итоги исследования воронки событий:\n",
    "\n",
    "Мы провели углубленную оценку данных о поведении пользователя на основе имеющихся данных логов и определили:\n",
    "1. Типы событий и их количество\n",
    "2. Самое раннее и позднее время события\n",
    "3. Уникальных пользователей: 7551\n",
    "4. Среднее количество событий на пользователя: 32.2756\n",
    "5. Распределение логов и пользователей по группам теста\n",
    "6. Статистику перехода по ступеням воронки: главных моментов 2\n",
    "    - после главного экрана на экран с предложениями переходит на 38% меньше пользователей\n",
    "    - крайне низкий % прохождения обучения работе с приложением - количество сеансов 0.42% от общего числа событий в логе.\n",
    "7. Процент пользователей, которые доходят от открытия приложения до оплаты; 47.7 %. При этом на дороге от корзины до оплаты теряется лишь 5%\n",
    "\n",
    "Также мы провели анализ данных времени, затрачиваемого пользователями разных групп на оплату (время с первого визита до первой оплаты) и обнаружили, что пользователи группы 248 (экспериментальной) показывают лучшие показатели.\n"
   ]
  },
  {
   "cell_type": "markdown",
   "metadata": {},
   "source": [
    "## Изучим результаты эксперимента (тесты А/А/В)"
   ]
  },
  {
   "cell_type": "markdown",
   "metadata": {},
   "source": [
    "**Выясним, как уникальные пользователи распределены по событиям и группам:**\n",
    "- сначала вспомним, сколько уникальных пользователей в каждой группе "
   ]
  },
  {
   "cell_type": "code",
   "execution_count": 29,
   "metadata": {
    "scrolled": true
   },
   "outputs": [
    {
     "name": "stdout",
     "output_type": "stream",
     "text": [
      "exp_id\n",
      "246    2484\n",
      "247    2513\n",
      "248    2537\n",
      "Name: device_id_hash, dtype: int64\n"
     ]
    }
   ],
   "source": [
    "print(df_filtered.groupby('exp_id')['device_id_hash'].nunique())"
   ]
  },
  {
   "cell_type": "markdown",
   "metadata": {},
   "source": [
    "- теперь посмотрим, как они распределены по событиям. *Другими словами, сколько пользоваелей хотя бы 1 раз открыли страницу*"
   ]
  },
  {
   "cell_type": "code",
   "execution_count": 30,
   "metadata": {
    "scrolled": true
   },
   "outputs": [
    {
     "data": {
      "text/html": [
       "<div>\n",
       "<style scoped>\n",
       "    .dataframe tbody tr th:only-of-type {\n",
       "        vertical-align: middle;\n",
       "    }\n",
       "\n",
       "    .dataframe tbody tr th {\n",
       "        vertical-align: top;\n",
       "    }\n",
       "\n",
       "    .dataframe thead th {\n",
       "        text-align: right;\n",
       "    }\n",
       "</style>\n",
       "<table border=\"1\" class=\"dataframe\">\n",
       "  <thead>\n",
       "    <tr style=\"text-align: right;\">\n",
       "      <th>exp_id</th>\n",
       "      <th>246</th>\n",
       "      <th>247</th>\n",
       "      <th>248</th>\n",
       "    </tr>\n",
       "    <tr>\n",
       "      <th>event_name</th>\n",
       "      <th></th>\n",
       "      <th></th>\n",
       "      <th></th>\n",
       "    </tr>\n",
       "  </thead>\n",
       "  <tbody>\n",
       "    <tr>\n",
       "      <th>CartScreenAppear</th>\n",
       "      <td>1266</td>\n",
       "      <td>1238</td>\n",
       "      <td>1230</td>\n",
       "    </tr>\n",
       "    <tr>\n",
       "      <th>MainScreenAppear</th>\n",
       "      <td>2450</td>\n",
       "      <td>2476</td>\n",
       "      <td>2493</td>\n",
       "    </tr>\n",
       "    <tr>\n",
       "      <th>OffersScreenAppear</th>\n",
       "      <td>1542</td>\n",
       "      <td>1520</td>\n",
       "      <td>1531</td>\n",
       "    </tr>\n",
       "    <tr>\n",
       "      <th>PaymentScreenSuccessful</th>\n",
       "      <td>1200</td>\n",
       "      <td>1158</td>\n",
       "      <td>1181</td>\n",
       "    </tr>\n",
       "    <tr>\n",
       "      <th>Tutorial</th>\n",
       "      <td>278</td>\n",
       "      <td>283</td>\n",
       "      <td>279</td>\n",
       "    </tr>\n",
       "  </tbody>\n",
       "</table>\n",
       "</div>"
      ],
      "text/plain": [
       "exp_id                    246   247   248\n",
       "event_name                               \n",
       "CartScreenAppear         1266  1238  1230\n",
       "MainScreenAppear         2450  2476  2493\n",
       "OffersScreenAppear       1542  1520  1531\n",
       "PaymentScreenSuccessful  1200  1158  1181\n",
       "Tutorial                  278   283   279"
      ]
     },
     "metadata": {},
     "output_type": "display_data"
    }
   ],
   "source": [
    "users_events_groups = (\n",
    "    df_filtered.groupby(['event_name', 'exp_id'])\n",
    "                 .agg({'device_id_hash':'nunique'})\n",
    "                 .reset_index()  \n",
    "                 .pivot_table(index='event_name', columns='exp_id', values='device_id_hash')\n",
    "                 \n",
    ")\n",
    " \n",
    "display(users_events_groups)"
   ]
  },
  {
   "cell_type": "markdown",
   "metadata": {},
   "source": [
    "- Стоит обратить внимание на цифры MainScreenAppear по группам и их сравнение с числом пользователей, которое мы вывели ранее: выходит, что не все 100% пользователей увидели главный экран. Например, группа 246: пользователей 2484, а главный экран окрыли 2450, на 34 человека меньше. Как это возможно? \n",
    "\n",
    "Это возможно,, если человек открыл tutorial (попав при этом в наши логи, как уникальный пользователь), ничего там не понял и решил приложением не пользоваться. И таких пользователей у нас по группам получается столько:\n"
   ]
  },
  {
   "cell_type": "markdown",
   "metadata": {},
   "source": []
  },
  {
   "cell_type": "code",
   "execution_count": 31,
   "metadata": {
    "scrolled": true
   },
   "outputs": [
    {
     "data": {
      "text/html": [
       "<div>\n",
       "<style scoped>\n",
       "    .dataframe tbody tr th:only-of-type {\n",
       "        vertical-align: middle;\n",
       "    }\n",
       "\n",
       "    .dataframe tbody tr th {\n",
       "        vertical-align: top;\n",
       "    }\n",
       "\n",
       "    .dataframe thead th {\n",
       "        text-align: right;\n",
       "    }\n",
       "</style>\n",
       "<table border=\"1\" class=\"dataframe\">\n",
       "  <thead>\n",
       "    <tr style=\"text-align: right;\">\n",
       "      <th></th>\n",
       "      <th>group</th>\n",
       "      <th>gone</th>\n",
       "    </tr>\n",
       "  </thead>\n",
       "  <tbody>\n",
       "    <tr>\n",
       "      <th>0</th>\n",
       "      <td>246</td>\n",
       "      <td>34</td>\n",
       "    </tr>\n",
       "    <tr>\n",
       "      <th>1</th>\n",
       "      <td>247</td>\n",
       "      <td>37</td>\n",
       "    </tr>\n",
       "    <tr>\n",
       "      <th>2</th>\n",
       "      <td>248</td>\n",
       "      <td>44</td>\n",
       "    </tr>\n",
       "  </tbody>\n",
       "</table>\n",
       "</div>"
      ],
      "text/plain": [
       "   group  gone\n",
       "0    246    34\n",
       "1    247    37\n",
       "2    248    44"
      ]
     },
     "metadata": {},
     "output_type": "display_data"
    }
   ],
   "source": [
    "unique_users_by_group = pd.DataFrame(df_filtered.groupby('exp_id')['device_id_hash'].nunique()).reset_index()\n",
    "temp = users_events_groups.T.reset_index()\n",
    "\n",
    "temp = temp.merge(unique_users_by_group, how='left', left_on='exp_id', right_on='exp_id')\n",
    "\n",
    "gone_after_tutorial = pd.DataFrame()\n",
    "gone_after_tutorial['group'] = temp['exp_id']\n",
    "gone_after_tutorial['gone'] = temp['device_id_hash'] - temp['MainScreenAppear']\n",
    "\n",
    "display(gone_after_tutorial)\n",
    "\n",
    "\n"
   ]
  },
  {
   "cell_type": "markdown",
   "metadata": {},
   "source": [
    "- Посмотрим, как выглядит распределение по событиям и группам графически"
   ]
  },
  {
   "cell_type": "code",
   "execution_count": 32,
   "metadata": {},
   "outputs": [
    {
     "data": {
      "image/png": "[encoded data removed]",
      "text/plain": [
       "<Figure size 1000x700 with 1 Axes>"
      ]
     },
     "metadata": {},
     "output_type": "display_data"
    }
   ],
   "source": [
    "users_events_groups.sort_values(by=246).plot(kind='barh', figsize=(10, 7), grid = True)\n",
    "\n",
    "plt.xlabel('Количество уникальных пользователей')\n",
    "plt.ylabel('')\n",
    "plt.title('Распределение уникальных пользователей по событиям и группам')\n",
    "plt.tight_layout()\n",
    "plt.show()"
   ]
  },
  {
   "cell_type": "markdown",
   "metadata": {},
   "source": [
    "- из данных графика можно заключить, что, в целом, поведение пользователей во всех 3х группах похоже, больших \"перекосов\" нет. Выделить можно группу 246, пользователи из которой проходят воронку с большим количеством остающихся: в этой группе главный экран увидело наименьшее количество пользователей, а к выбору товара, добавлению в корзину и оплате перешло наибольшее\n",
    "\n",
    "- касательно прохождения обучения (Tutorial) - количество уникальных пользователей во всех группах схожее и составляет ***всего 10%*** от количества пользователей, открывших приложение."
   ]
  },
  {
   "cell_type": "markdown",
   "metadata": {},
   "source": [
    "**Давайте узнаем, сколько раз в среднем пользователь из каждой группы видит страницу**"
   ]
  },
  {
   "cell_type": "code",
   "execution_count": 33,
   "metadata": {},
   "outputs": [
    {
     "data": {
      "text/html": [
       "<div>\n",
       "<style scoped>\n",
       "    .dataframe tbody tr th:only-of-type {\n",
       "        vertical-align: middle;\n",
       "    }\n",
       "\n",
       "    .dataframe tbody tr th {\n",
       "        vertical-align: top;\n",
       "    }\n",
       "\n",
       "    .dataframe thead tr th {\n",
       "        text-align: left;\n",
       "    }\n",
       "</style>\n",
       "<table border=\"1\" class=\"dataframe\">\n",
       "  <thead>\n",
       "    <tr>\n",
       "      <th></th>\n",
       "      <th>event_name</th>\n",
       "      <th colspan=\"3\" halign=\"left\">average_logs_per_user</th>\n",
       "      <th colspan=\"3\" halign=\"left\">logs</th>\n",
       "      <th colspan=\"3\" halign=\"left\">unique_users</th>\n",
       "    </tr>\n",
       "    <tr>\n",
       "      <th>exp_id</th>\n",
       "      <th></th>\n",
       "      <th>246</th>\n",
       "      <th>247</th>\n",
       "      <th>248</th>\n",
       "      <th>246</th>\n",
       "      <th>247</th>\n",
       "      <th>248</th>\n",
       "      <th>246</th>\n",
       "      <th>247</th>\n",
       "      <th>248</th>\n",
       "    </tr>\n",
       "  </thead>\n",
       "  <tbody>\n",
       "    <tr>\n",
       "      <th>0</th>\n",
       "      <td>MainScreenAppear</td>\n",
       "      <td>15.57</td>\n",
       "      <td>15.99</td>\n",
       "      <td>16.46</td>\n",
       "      <td>38249</td>\n",
       "      <td>39677</td>\n",
       "      <td>41175</td>\n",
       "      <td>2456</td>\n",
       "      <td>2482</td>\n",
       "      <td>2501</td>\n",
       "    </tr>\n",
       "    <tr>\n",
       "      <th>1</th>\n",
       "      <td>OffersScreenAppear</td>\n",
       "      <td>9.65</td>\n",
       "      <td>10.03</td>\n",
       "      <td>10.77</td>\n",
       "      <td>14904</td>\n",
       "      <td>15341</td>\n",
       "      <td>16563</td>\n",
       "      <td>1545</td>\n",
       "      <td>1530</td>\n",
       "      <td>1538</td>\n",
       "    </tr>\n",
       "    <tr>\n",
       "      <th>2</th>\n",
       "      <td>CartScreenAppear</td>\n",
       "      <td>11.65</td>\n",
       "      <td>10.12</td>\n",
       "      <td>12.37</td>\n",
       "      <td>14798</td>\n",
       "      <td>12548</td>\n",
       "      <td>15322</td>\n",
       "      <td>1270</td>\n",
       "      <td>1240</td>\n",
       "      <td>1239</td>\n",
       "    </tr>\n",
       "    <tr>\n",
       "      <th>3</th>\n",
       "      <td>PaymentScreenSuccessful</td>\n",
       "      <td>9.91</td>\n",
       "      <td>8.65</td>\n",
       "      <td>10.27</td>\n",
       "      <td>11912</td>\n",
       "      <td>10039</td>\n",
       "      <td>12167</td>\n",
       "      <td>1202</td>\n",
       "      <td>1160</td>\n",
       "      <td>1185</td>\n",
       "    </tr>\n",
       "    <tr>\n",
       "      <th>4</th>\n",
       "      <td>Tutorial</td>\n",
       "      <td>1.14</td>\n",
       "      <td>1.21</td>\n",
       "      <td>1.26</td>\n",
       "      <td>318</td>\n",
       "      <td>345</td>\n",
       "      <td>355</td>\n",
       "      <td>279</td>\n",
       "      <td>286</td>\n",
       "      <td>282</td>\n",
       "    </tr>\n",
       "  </tbody>\n",
       "</table>\n",
       "</div>"
      ],
      "text/plain": [
       "                     event_name average_logs_per_user                 logs  \\\n",
       "exp_id                                            246    247    248    246   \n",
       "0              MainScreenAppear                 15.57  15.99  16.46  38249   \n",
       "1            OffersScreenAppear                  9.65  10.03  10.77  14904   \n",
       "2              CartScreenAppear                 11.65  10.12  12.37  14798   \n",
       "3       PaymentScreenSuccessful                  9.91   8.65  10.27  11912   \n",
       "4                      Tutorial                  1.14   1.21   1.26    318   \n",
       "\n",
       "                     unique_users              \n",
       "exp_id    247    248          246   247   248  \n",
       "0       39677  41175         2456  2482  2501  \n",
       "1       15341  16563         1545  1530  1538  \n",
       "2       12548  15322         1270  1240  1239  \n",
       "3       10039  12167         1202  1160  1185  \n",
       "4         345    355          279   286   282  "
      ]
     },
     "metadata": {},
     "output_type": "display_data"
    }
   ],
   "source": [
    "\n",
    "# Группировка с агрегацией и расчетом среднего значения через apply\n",
    "avg_logs_per_user = (df.groupby(['event_name', 'exp_id'])\n",
    "      .agg(unique_users=('device_id_hash', 'nunique'), \n",
    "           logs=('event_timestamp', 'count'),\n",
    "           average_logs_per_user=('event_timestamp', lambda x: round(x.count() / df.loc[x.index, 'device_id_hash'].nunique(), 2)))\n",
    "      .reset_index()\n",
    "      .pivot_table(index='event_name', columns='exp_id', values=['unique_users', 'logs', 'average_logs_per_user'])\n",
    "      .sort_values(by=('logs', 246), ascending=False)\n",
    "      .reset_index())\n",
    "\n",
    "\n",
    "display(avg_logs_per_user)"
   ]
  },
  {
   "cell_type": "markdown",
   "metadata": {},
   "source": [
    "- по данной таблице видно, что \n",
    "    - во всех группах обучение открывают примерно 1 раз\n",
    "    - пользователь группы 248 самый активный - среднее количество каждого события у этой группы наибольшее   \n",
    "    - пользователь группы 247 отстает в среднем количестве открытия корзины и оплаты. Можно предположить, что результаты продаж в группе 247 тоже должны быть меньше"
   ]
  },
  {
   "cell_type": "markdown",
   "metadata": {},
   "source": [
    "<a id='check2'></a>\n",
    "## Проверим, находят ли статистические критерии разницу между выборками 246 и 247 (А/А тест)"
   ]
  },
  {
   "cell_type": "markdown",
   "metadata": {},
   "source": [
    "- Подготовим данные контрольный групп для теста и проведем z-тест пропорций на сравнение долей пользователей, совершивших покупку"
   ]
  },
  {
   "cell_type": "code",
   "execution_count": 34,
   "metadata": {},
   "outputs": [
    {
     "data": {
      "text/html": [
       "<div>\n",
       "<style scoped>\n",
       "    .dataframe tbody tr th:only-of-type {\n",
       "        vertical-align: middle;\n",
       "    }\n",
       "\n",
       "    .dataframe tbody tr th {\n",
       "        vertical-align: top;\n",
       "    }\n",
       "\n",
       "    .dataframe thead th {\n",
       "        text-align: right;\n",
       "    }\n",
       "</style>\n",
       "<table border=\"1\" class=\"dataframe\">\n",
       "  <thead>\n",
       "    <tr style=\"text-align: right;\">\n",
       "      <th></th>\n",
       "      <th>event_name</th>\n",
       "      <th>device_id_hash</th>\n",
       "      <th>event_timestamp</th>\n",
       "      <th>exp_id</th>\n",
       "      <th>event_date</th>\n",
       "      <th>time_difference</th>\n",
       "    </tr>\n",
       "  </thead>\n",
       "  <tbody>\n",
       "    <tr>\n",
       "      <th>0</th>\n",
       "      <td>MainScreenAppear</td>\n",
       "      <td>2413191300976302222</td>\n",
       "      <td>2019-07-31 23:59:59</td>\n",
       "      <td>247</td>\n",
       "      <td>2019-07-31</td>\n",
       "      <td>5 days 17:00:27</td>\n",
       "    </tr>\n",
       "    <tr>\n",
       "      <th>1</th>\n",
       "      <td>Tutorial</td>\n",
       "      <td>3737462046622621720</td>\n",
       "      <td>2019-08-01 00:07:28</td>\n",
       "      <td>246</td>\n",
       "      <td>2019-08-01</td>\n",
       "      <td>0 days 13:22:37</td>\n",
       "    </tr>\n",
       "    <tr>\n",
       "      <th>2</th>\n",
       "      <td>MainScreenAppear</td>\n",
       "      <td>3737462046622621720</td>\n",
       "      <td>2019-08-01 00:08:00</td>\n",
       "      <td>246</td>\n",
       "      <td>2019-08-01</td>\n",
       "      <td>0 days 13:22:37</td>\n",
       "    </tr>\n",
       "    <tr>\n",
       "      <th>3</th>\n",
       "      <td>MainScreenAppear</td>\n",
       "      <td>3737462046622621720</td>\n",
       "      <td>2019-08-01 00:08:55</td>\n",
       "      <td>246</td>\n",
       "      <td>2019-08-01</td>\n",
       "      <td>0 days 13:22:37</td>\n",
       "    </tr>\n",
       "    <tr>\n",
       "      <th>4</th>\n",
       "      <td>OffersScreenAppear</td>\n",
       "      <td>3737462046622621720</td>\n",
       "      <td>2019-08-01 00:08:58</td>\n",
       "      <td>246</td>\n",
       "      <td>2019-08-01</td>\n",
       "      <td>0 days 13:22:37</td>\n",
       "    </tr>\n",
       "    <tr>\n",
       "      <th>...</th>\n",
       "      <td>...</td>\n",
       "      <td>...</td>\n",
       "      <td>...</td>\n",
       "      <td>...</td>\n",
       "      <td>...</td>\n",
       "      <td>...</td>\n",
       "    </tr>\n",
       "    <tr>\n",
       "      <th>240883</th>\n",
       "      <td>MainScreenAppear</td>\n",
       "      <td>4599628364049201812</td>\n",
       "      <td>2019-08-07 21:12:25</td>\n",
       "      <td>247</td>\n",
       "      <td>2019-08-07</td>\n",
       "      <td>0 days 02:05:23</td>\n",
       "    </tr>\n",
       "    <tr>\n",
       "      <th>240884</th>\n",
       "      <td>MainScreenAppear</td>\n",
       "      <td>5849806612437486590</td>\n",
       "      <td>2019-08-07 21:13:59</td>\n",
       "      <td>246</td>\n",
       "      <td>2019-08-07</td>\n",
       "      <td>NaT</td>\n",
       "    </tr>\n",
       "    <tr>\n",
       "      <th>240885</th>\n",
       "      <td>MainScreenAppear</td>\n",
       "      <td>5746969938801999050</td>\n",
       "      <td>2019-08-07 21:14:43</td>\n",
       "      <td>246</td>\n",
       "      <td>2019-08-07</td>\n",
       "      <td>0 days 00:00:18</td>\n",
       "    </tr>\n",
       "    <tr>\n",
       "      <th>240886</th>\n",
       "      <td>MainScreenAppear</td>\n",
       "      <td>5746969938801999050</td>\n",
       "      <td>2019-08-07 21:14:58</td>\n",
       "      <td>246</td>\n",
       "      <td>2019-08-07</td>\n",
       "      <td>0 days 00:00:18</td>\n",
       "    </tr>\n",
       "    <tr>\n",
       "      <th>240887</th>\n",
       "      <td>OffersScreenAppear</td>\n",
       "      <td>5746969938801999050</td>\n",
       "      <td>2019-08-07 21:15:17</td>\n",
       "      <td>246</td>\n",
       "      <td>2019-08-07</td>\n",
       "      <td>0 days 00:00:18</td>\n",
       "    </tr>\n",
       "  </tbody>\n",
       "</table>\n",
       "<p>240888 rows × 6 columns</p>\n",
       "</div>"
      ],
      "text/plain": [
       "                event_name       device_id_hash     event_timestamp  exp_id  \\\n",
       "0         MainScreenAppear  2413191300976302222 2019-07-31 23:59:59     247   \n",
       "1                 Tutorial  3737462046622621720 2019-08-01 00:07:28     246   \n",
       "2         MainScreenAppear  3737462046622621720 2019-08-01 00:08:00     246   \n",
       "3         MainScreenAppear  3737462046622621720 2019-08-01 00:08:55     246   \n",
       "4       OffersScreenAppear  3737462046622621720 2019-08-01 00:08:58     246   \n",
       "...                    ...                  ...                 ...     ...   \n",
       "240883    MainScreenAppear  4599628364049201812 2019-08-07 21:12:25     247   \n",
       "240884    MainScreenAppear  5849806612437486590 2019-08-07 21:13:59     246   \n",
       "240885    MainScreenAppear  5746969938801999050 2019-08-07 21:14:43     246   \n",
       "240886    MainScreenAppear  5746969938801999050 2019-08-07 21:14:58     246   \n",
       "240887  OffersScreenAppear  5746969938801999050 2019-08-07 21:15:17     246   \n",
       "\n",
       "        event_date time_difference  \n",
       "0       2019-07-31 5 days 17:00:27  \n",
       "1       2019-08-01 0 days 13:22:37  \n",
       "2       2019-08-01 0 days 13:22:37  \n",
       "3       2019-08-01 0 days 13:22:37  \n",
       "4       2019-08-01 0 days 13:22:37  \n",
       "...            ...             ...  \n",
       "240883  2019-08-07 0 days 02:05:23  \n",
       "240884  2019-08-07             NaT  \n",
       "240885  2019-08-07 0 days 00:00:18  \n",
       "240886  2019-08-07 0 days 00:00:18  \n",
       "240887  2019-08-07 0 days 00:00:18  \n",
       "\n",
       "[240888 rows x 6 columns]"
      ]
     },
     "metadata": {},
     "output_type": "display_data"
    }
   ],
   "source": [
    "display(df_filtered)"
   ]
  },
  {
   "cell_type": "code",
   "execution_count": 35,
   "metadata": {
    "scrolled": true
   },
   "outputs": [
    {
     "data": {
      "text/html": [
       "<div>\n",
       "<style scoped>\n",
       "    .dataframe tbody tr th:only-of-type {\n",
       "        vertical-align: middle;\n",
       "    }\n",
       "\n",
       "    .dataframe tbody tr th {\n",
       "        vertical-align: top;\n",
       "    }\n",
       "\n",
       "    .dataframe thead th {\n",
       "        text-align: right;\n",
       "    }\n",
       "</style>\n",
       "<table border=\"1\" class=\"dataframe\">\n",
       "  <thead>\n",
       "    <tr style=\"text-align: right;\">\n",
       "      <th></th>\n",
       "      <th>exp_id</th>\n",
       "      <th>purchased</th>\n",
       "      <th>total</th>\n",
       "      <th>share</th>\n",
       "    </tr>\n",
       "  </thead>\n",
       "  <tbody>\n",
       "    <tr>\n",
       "      <th>0</th>\n",
       "      <td>246</td>\n",
       "      <td>1200</td>\n",
       "      <td>2484</td>\n",
       "      <td>48.31</td>\n",
       "    </tr>\n",
       "    <tr>\n",
       "      <th>1</th>\n",
       "      <td>247</td>\n",
       "      <td>1158</td>\n",
       "      <td>2513</td>\n",
       "      <td>46.08</td>\n",
       "    </tr>\n",
       "    <tr>\n",
       "      <th>2</th>\n",
       "      <td>248</td>\n",
       "      <td>1181</td>\n",
       "      <td>2537</td>\n",
       "      <td>46.55</td>\n",
       "    </tr>\n",
       "  </tbody>\n",
       "</table>\n",
       "</div>"
      ],
      "text/plain": [
       "   exp_id  purchased  total  share\n",
       "0     246       1200   2484  48.31\n",
       "1     247       1158   2513  46.08\n",
       "2     248       1181   2537  46.55"
      ]
     },
     "metadata": {},
     "output_type": "display_data"
    }
   ],
   "source": [
    "# считаем долю уникальных пользоваелей, совершивших покупку, от общего их числа в группе\n",
    "purchased = (\n",
    "    df_filtered.loc[df_filtered['event_name']=='PaymentScreenSuccessful']\n",
    "    .groupby('exp_id').agg(\n",
    "    purchased=('device_id_hash','nunique'))\n",
    "    .reset_index()\n",
    ")\n",
    "\n",
    "total = (\n",
    "    df_filtered\n",
    "    .groupby('exp_id').agg(\n",
    "    total=('device_id_hash','nunique'))\n",
    "    .reset_index()\n",
    ")\n",
    "\n",
    "purchase_share = (\n",
    "    purchased.merge(\n",
    "    total,\n",
    "    how='inner',\n",
    "    left_on='exp_id',\n",
    "    right_on='exp_id'\n",
    "    )\n",
    ")\n",
    "\n",
    "purchase_share['share'] = round(purchase_share['purchased'] * 100 / purchase_share['total'], 2)\n",
    "\n",
    "display(purchase_share)\n"
   ]
  },
  {
   "cell_type": "markdown",
   "metadata": {},
   "source": [
    "- Проведем z-тест пропорций для групп 246/247, А/А тест. \n",
    "\n",
    "Нулевая гипотеза - пропорции равны, альтернативная гипотеза - пропорции отличаются.\n",
    "\n",
    "Используем функцию proportions_ztest из библиотеки statsmodels, чтобы получить значение z-статистики и p-value.\n",
    "\n",
    "Функция proportions_ztest принимает два аргумента:\n",
    "\n",
    "**count**: количество успехов (в нашем случае, количество пользователей, совершивших \"purchase\") в каждой группе.\n",
    "\n",
    "**nobs:** общее количество наблюдений (в нашем случае, общее количество пользователей) в каждой группе.\n",
    "\n",
    "Полученное значение z-статистики и p-value покажет, есть ли статистически значимые различия между пропорциями двух групп. Если p-value меньше выбранного уровня значимости (например, 0.05), то нулевая гипотеза о равенстве пропорций отвергается."
   ]
  },
  {
   "cell_type": "code",
   "execution_count": 36,
   "metadata": {},
   "outputs": [
    {
     "name": "stdout",
     "output_type": "stream",
     "text": [
      "z-statistic: 1.5779948491596598, p-value: 0.11456679313141847\n"
     ]
    }
   ],
   "source": [
    "count = purchase_share[purchase_share['exp_id'].isin([246, 247])]['purchased'].values\n",
    "nobs = purchase_share[purchase_share['exp_id'].isin([246, 247])]['total'].values\n",
    "\n",
    "# Проведение z-теста\n",
    "z_stat, p_value = proportions_ztest(count, nobs)\n",
    "\n",
    "print(f'z-statistic: {z_stat}, p-value: {p_value}')"
   ]
  },
  {
   "cell_type": "markdown",
   "metadata": {},
   "source": [
    "**Итоговое заключение - тест показал нам `отсутствие статистически значимых различий` в пропорциях групп 246 и 247**"
   ]
  },
  {
   "cell_type": "markdown",
   "metadata": {},
   "source": [
    "**Посчитаем число пользователей, совершивших самое популяное событие в каждой из контрольных групп. Посчитаем долю пользователей, совершивших это событие. Проверим, будет ли отличие между группами статистически достоверным с помощью z-test**"
   ]
  },
  {
   "cell_type": "code",
   "execution_count": 37,
   "metadata": {},
   "outputs": [
    {
     "data": {
      "text/html": [
       "<div>\n",
       "<style scoped>\n",
       "    .dataframe tbody tr th:only-of-type {\n",
       "        vertical-align: middle;\n",
       "    }\n",
       "\n",
       "    .dataframe tbody tr th {\n",
       "        vertical-align: top;\n",
       "    }\n",
       "\n",
       "    .dataframe thead th {\n",
       "        text-align: right;\n",
       "    }\n",
       "</style>\n",
       "<table border=\"1\" class=\"dataframe\">\n",
       "  <thead>\n",
       "    <tr style=\"text-align: right;\">\n",
       "      <th>exp_id</th>\n",
       "      <th>event_name</th>\n",
       "      <th>246</th>\n",
       "      <th>247</th>\n",
       "      <th>248</th>\n",
       "    </tr>\n",
       "  </thead>\n",
       "  <tbody>\n",
       "    <tr>\n",
       "      <th>0</th>\n",
       "      <td>MainScreenAppear</td>\n",
       "      <td>2450</td>\n",
       "      <td>2476</td>\n",
       "      <td>2493</td>\n",
       "    </tr>\n",
       "    <tr>\n",
       "      <th>1</th>\n",
       "      <td>OffersScreenAppear</td>\n",
       "      <td>1542</td>\n",
       "      <td>1520</td>\n",
       "      <td>1531</td>\n",
       "    </tr>\n",
       "    <tr>\n",
       "      <th>2</th>\n",
       "      <td>CartScreenAppear</td>\n",
       "      <td>1266</td>\n",
       "      <td>1238</td>\n",
       "      <td>1230</td>\n",
       "    </tr>\n",
       "    <tr>\n",
       "      <th>3</th>\n",
       "      <td>PaymentScreenSuccessful</td>\n",
       "      <td>1200</td>\n",
       "      <td>1158</td>\n",
       "      <td>1181</td>\n",
       "    </tr>\n",
       "    <tr>\n",
       "      <th>4</th>\n",
       "      <td>Tutorial</td>\n",
       "      <td>278</td>\n",
       "      <td>283</td>\n",
       "      <td>279</td>\n",
       "    </tr>\n",
       "  </tbody>\n",
       "</table>\n",
       "</div>"
      ],
      "text/plain": [
       "exp_id               event_name   246   247   248\n",
       "0              MainScreenAppear  2450  2476  2493\n",
       "1            OffersScreenAppear  1542  1520  1531\n",
       "2              CartScreenAppear  1266  1238  1230\n",
       "3       PaymentScreenSuccessful  1200  1158  1181\n",
       "4                      Tutorial   278   283   279"
      ]
     },
     "metadata": {},
     "output_type": "display_data"
    }
   ],
   "source": [
    "popular_events = (\n",
    "    df_filtered.groupby(['event_name', 'exp_id'])['device_id_hash']\n",
    "    .nunique()\n",
    "    .reset_index()\n",
    "    .pivot_table(index='event_name', columns='exp_id', values='device_id_hash')\n",
    "    .reset_index()\n",
    "    .sort_values(by=246, ascending=False)\n",
    "    .reset_index(drop=True)\n",
    ")\n",
    "\n",
    "display(popular_events)\n"
   ]
  },
  {
   "cell_type": "markdown",
   "metadata": {},
   "source": [
    "Самым популярным событием и по количеству уникальных пользователей и по количеству самого события является главный экран приложения - **MainScreenAppear**\n",
    "\n",
    "Посчитаем долю пользователей, совершивших каждое из событий \n"
   ]
  },
  {
   "cell_type": "code",
   "execution_count": 38,
   "metadata": {},
   "outputs": [],
   "source": [
    "# сначала подсчитаем количество уникальных пользователей в каждой группе\n",
    "users_by_group = df_filtered.groupby('exp_id')['device_id_hash'].nunique()\n",
    "\n",
    "# теперь переберем в цикле все типы событий и посчитаем долю пользоваелей, их совершивших хотя бы раз \n",
    "rate_246 = []\n",
    "rate_247 = []\n",
    "rate_248 = []\n",
    "\n",
    "for i, row in popular_events.iterrows():\n",
    "    x = round(row[246] / users_by_group[246] * 100, 2)\n",
    "    rate_246.append(x)\n",
    "    x = round(row[247] / users_by_group[247] * 100, 2)\n",
    "    rate_247.append(x)\n",
    "    x = round(row[248] / users_by_group[248] * 100, 2)\n",
    "    rate_248.append(x)\n"
   ]
  },
  {
   "cell_type": "code",
   "execution_count": 39,
   "metadata": {
    "scrolled": true
   },
   "outputs": [
    {
     "data": {
      "text/html": [
       "<div>\n",
       "<style scoped>\n",
       "    .dataframe tbody tr th:only-of-type {\n",
       "        vertical-align: middle;\n",
       "    }\n",
       "\n",
       "    .dataframe tbody tr th {\n",
       "        vertical-align: top;\n",
       "    }\n",
       "\n",
       "    .dataframe thead th {\n",
       "        text-align: right;\n",
       "    }\n",
       "</style>\n",
       "<table border=\"1\" class=\"dataframe\">\n",
       "  <thead>\n",
       "    <tr style=\"text-align: right;\">\n",
       "      <th>exp_id</th>\n",
       "      <th>event_name</th>\n",
       "      <th>246</th>\n",
       "      <th>247</th>\n",
       "      <th>248</th>\n",
       "      <th>rate_246</th>\n",
       "      <th>rate_247</th>\n",
       "      <th>rate_248</th>\n",
       "    </tr>\n",
       "  </thead>\n",
       "  <tbody>\n",
       "    <tr>\n",
       "      <th>0</th>\n",
       "      <td>MainScreenAppear</td>\n",
       "      <td>2450</td>\n",
       "      <td>2476</td>\n",
       "      <td>2493</td>\n",
       "      <td>98.63</td>\n",
       "      <td>98.53</td>\n",
       "      <td>98.27</td>\n",
       "    </tr>\n",
       "    <tr>\n",
       "      <th>1</th>\n",
       "      <td>OffersScreenAppear</td>\n",
       "      <td>1542</td>\n",
       "      <td>1520</td>\n",
       "      <td>1531</td>\n",
       "      <td>62.08</td>\n",
       "      <td>60.49</td>\n",
       "      <td>60.35</td>\n",
       "    </tr>\n",
       "    <tr>\n",
       "      <th>2</th>\n",
       "      <td>CartScreenAppear</td>\n",
       "      <td>1266</td>\n",
       "      <td>1238</td>\n",
       "      <td>1230</td>\n",
       "      <td>50.97</td>\n",
       "      <td>49.26</td>\n",
       "      <td>48.48</td>\n",
       "    </tr>\n",
       "    <tr>\n",
       "      <th>3</th>\n",
       "      <td>PaymentScreenSuccessful</td>\n",
       "      <td>1200</td>\n",
       "      <td>1158</td>\n",
       "      <td>1181</td>\n",
       "      <td>48.31</td>\n",
       "      <td>46.08</td>\n",
       "      <td>46.55</td>\n",
       "    </tr>\n",
       "    <tr>\n",
       "      <th>4</th>\n",
       "      <td>Tutorial</td>\n",
       "      <td>278</td>\n",
       "      <td>283</td>\n",
       "      <td>279</td>\n",
       "      <td>11.19</td>\n",
       "      <td>11.26</td>\n",
       "      <td>11.00</td>\n",
       "    </tr>\n",
       "  </tbody>\n",
       "</table>\n",
       "</div>"
      ],
      "text/plain": [
       "exp_id               event_name   246   247   248  rate_246  rate_247  \\\n",
       "0              MainScreenAppear  2450  2476  2493     98.63     98.53   \n",
       "1            OffersScreenAppear  1542  1520  1531     62.08     60.49   \n",
       "2              CartScreenAppear  1266  1238  1230     50.97     49.26   \n",
       "3       PaymentScreenSuccessful  1200  1158  1181     48.31     46.08   \n",
       "4                      Tutorial   278   283   279     11.19     11.26   \n",
       "\n",
       "exp_id  rate_248  \n",
       "0          98.27  \n",
       "1          60.35  \n",
       "2          48.48  \n",
       "3          46.55  \n",
       "4          11.00  "
      ]
     },
     "metadata": {},
     "output_type": "display_data"
    }
   ],
   "source": [
    "# добавим доли в общую таблицу\n",
    "popular_events['rate_246'] = rate_246\n",
    "popular_events['rate_247'] = rate_247\n",
    "popular_events['rate_248'] = rate_248\n",
    "\n",
    "display(popular_events)"
   ]
  },
  {
   "cell_type": "markdown",
   "metadata": {},
   "source": [
    "- также в таблицу добавим общее количество пользователей в каждой группе"
   ]
  },
  {
   "cell_type": "code",
   "execution_count": 40,
   "metadata": {},
   "outputs": [
    {
     "data": {
      "text/html": [
       "<div>\n",
       "<style scoped>\n",
       "    .dataframe tbody tr th:only-of-type {\n",
       "        vertical-align: middle;\n",
       "    }\n",
       "\n",
       "    .dataframe tbody tr th {\n",
       "        vertical-align: top;\n",
       "    }\n",
       "\n",
       "    .dataframe thead th {\n",
       "        text-align: right;\n",
       "    }\n",
       "</style>\n",
       "<table border=\"1\" class=\"dataframe\">\n",
       "  <thead>\n",
       "    <tr style=\"text-align: right;\">\n",
       "      <th>exp_id</th>\n",
       "      <th>event_name</th>\n",
       "      <th>246</th>\n",
       "      <th>247</th>\n",
       "      <th>248</th>\n",
       "      <th>rate_246</th>\n",
       "      <th>rate_247</th>\n",
       "      <th>rate_248</th>\n",
       "      <th>total_246</th>\n",
       "      <th>total_247</th>\n",
       "      <th>total_248</th>\n",
       "    </tr>\n",
       "  </thead>\n",
       "  <tbody>\n",
       "    <tr>\n",
       "      <th>0</th>\n",
       "      <td>MainScreenAppear</td>\n",
       "      <td>2450</td>\n",
       "      <td>2476</td>\n",
       "      <td>2493</td>\n",
       "      <td>98.63</td>\n",
       "      <td>98.53</td>\n",
       "      <td>98.27</td>\n",
       "      <td>2484</td>\n",
       "      <td>2513</td>\n",
       "      <td>2537</td>\n",
       "    </tr>\n",
       "    <tr>\n",
       "      <th>1</th>\n",
       "      <td>OffersScreenAppear</td>\n",
       "      <td>1542</td>\n",
       "      <td>1520</td>\n",
       "      <td>1531</td>\n",
       "      <td>62.08</td>\n",
       "      <td>60.49</td>\n",
       "      <td>60.35</td>\n",
       "      <td>2484</td>\n",
       "      <td>2513</td>\n",
       "      <td>2537</td>\n",
       "    </tr>\n",
       "    <tr>\n",
       "      <th>2</th>\n",
       "      <td>CartScreenAppear</td>\n",
       "      <td>1266</td>\n",
       "      <td>1238</td>\n",
       "      <td>1230</td>\n",
       "      <td>50.97</td>\n",
       "      <td>49.26</td>\n",
       "      <td>48.48</td>\n",
       "      <td>2484</td>\n",
       "      <td>2513</td>\n",
       "      <td>2537</td>\n",
       "    </tr>\n",
       "    <tr>\n",
       "      <th>3</th>\n",
       "      <td>PaymentScreenSuccessful</td>\n",
       "      <td>1200</td>\n",
       "      <td>1158</td>\n",
       "      <td>1181</td>\n",
       "      <td>48.31</td>\n",
       "      <td>46.08</td>\n",
       "      <td>46.55</td>\n",
       "      <td>2484</td>\n",
       "      <td>2513</td>\n",
       "      <td>2537</td>\n",
       "    </tr>\n",
       "    <tr>\n",
       "      <th>4</th>\n",
       "      <td>Tutorial</td>\n",
       "      <td>278</td>\n",
       "      <td>283</td>\n",
       "      <td>279</td>\n",
       "      <td>11.19</td>\n",
       "      <td>11.26</td>\n",
       "      <td>11.00</td>\n",
       "      <td>2484</td>\n",
       "      <td>2513</td>\n",
       "      <td>2537</td>\n",
       "    </tr>\n",
       "  </tbody>\n",
       "</table>\n",
       "</div>"
      ],
      "text/plain": [
       "exp_id               event_name   246   247   248  rate_246  rate_247  \\\n",
       "0              MainScreenAppear  2450  2476  2493     98.63     98.53   \n",
       "1            OffersScreenAppear  1542  1520  1531     62.08     60.49   \n",
       "2              CartScreenAppear  1266  1238  1230     50.97     49.26   \n",
       "3       PaymentScreenSuccessful  1200  1158  1181     48.31     46.08   \n",
       "4                      Tutorial   278   283   279     11.19     11.26   \n",
       "\n",
       "exp_id  rate_248  total_246  total_247  total_248  \n",
       "0          98.27       2484       2513       2537  \n",
       "1          60.35       2484       2513       2537  \n",
       "2          48.48       2484       2513       2537  \n",
       "3          46.55       2484       2513       2537  \n",
       "4          11.00       2484       2513       2537  "
      ]
     },
     "metadata": {},
     "output_type": "display_data"
    }
   ],
   "source": [
    "popular_events['total_246'] = users_by_group[246]\n",
    "popular_events['total_247'] = users_by_group[247]\n",
    "popular_events['total_248'] = users_by_group[248]\n",
    "\n",
    "display(popular_events)"
   ]
  },
  {
   "cell_type": "markdown",
   "metadata": {},
   "source": [
    "**Напишем функцию для проверки z-тестом гипотезы о равенстве средних значений и передадим ей выборки доли пользователей по каждой группе и типу события.**  \n",
    "\n",
    "Также надо учесть возможнось ошибки FWER при множественном проведении теста для одних данных. У нас 5 тестов (по числу типов событий), в которых мы используем данные пользователей из одной пары групп (246 и 247, например).\n",
    "\n",
    "Следует провести коррекцию уровня значимости, используя Метод Бонферрони: если наш требуемый уровень значимости = 0.05, то при проведении 5 тестов его надо делать 0.05 / 5 =  **0.01**"
   ]
  },
  {
   "cell_type": "markdown",
   "metadata": {},
   "source": []
  },
  {
   "cell_type": "code",
   "execution_count": 41,
   "metadata": {},
   "outputs": [],
   "source": [
    "def z_test(count, nobs, event):\n",
    "\n",
    "    # Проведение z-теста\n",
    "    z_stat, p_value = proportions_ztest(count, nobs)\n",
    "\n",
    "    # Вывод результатов\n",
    "    print(f'Результаты z-теста для события --  {event}')\n",
    "    print(f'Z-статистика: {z_stat}')\n",
    "    print(f'P-значение: {p_value}')\n",
    "\n",
    "    # Интерпретация результатов\n",
    "    alpha = 0.01 # с учетом поправки Метода Бонферрони \n",
    "    if p_value < alpha:\n",
    "        print('Различие между долями статистически значимо.')\n",
    "    else:\n",
    "        print('Различие между долями статистически незначимо.')\n",
    "    line()    "
   ]
  },
  {
   "cell_type": "markdown",
   "metadata": {},
   "source": [
    "**Теперь для каждой пары групп (246 - 247, 246 - 248, 247 - 248) проведем тесты**"
   ]
  },
  {
   "cell_type": "code",
   "execution_count": 42,
   "metadata": {},
   "outputs": [
    {
     "data": {
      "text/html": [
       "<div>\n",
       "<style scoped>\n",
       "    .dataframe tbody tr th:only-of-type {\n",
       "        vertical-align: middle;\n",
       "    }\n",
       "\n",
       "    .dataframe tbody tr th {\n",
       "        vertical-align: top;\n",
       "    }\n",
       "\n",
       "    .dataframe thead th {\n",
       "        text-align: right;\n",
       "    }\n",
       "</style>\n",
       "<table border=\"1\" class=\"dataframe\">\n",
       "  <thead>\n",
       "    <tr style=\"text-align: right;\">\n",
       "      <th>exp_id</th>\n",
       "      <th>event_name</th>\n",
       "      <th>246</th>\n",
       "      <th>247</th>\n",
       "      <th>248</th>\n",
       "      <th>rate_246</th>\n",
       "      <th>rate_247</th>\n",
       "      <th>rate_248</th>\n",
       "      <th>total_246</th>\n",
       "      <th>total_247</th>\n",
       "      <th>total_248</th>\n",
       "    </tr>\n",
       "  </thead>\n",
       "  <tbody>\n",
       "    <tr>\n",
       "      <th>0</th>\n",
       "      <td>MainScreenAppear</td>\n",
       "      <td>2450</td>\n",
       "      <td>2476</td>\n",
       "      <td>2493</td>\n",
       "      <td>98.63</td>\n",
       "      <td>98.53</td>\n",
       "      <td>98.27</td>\n",
       "      <td>2484</td>\n",
       "      <td>2513</td>\n",
       "      <td>2537</td>\n",
       "    </tr>\n",
       "    <tr>\n",
       "      <th>1</th>\n",
       "      <td>OffersScreenAppear</td>\n",
       "      <td>1542</td>\n",
       "      <td>1520</td>\n",
       "      <td>1531</td>\n",
       "      <td>62.08</td>\n",
       "      <td>60.49</td>\n",
       "      <td>60.35</td>\n",
       "      <td>2484</td>\n",
       "      <td>2513</td>\n",
       "      <td>2537</td>\n",
       "    </tr>\n",
       "    <tr>\n",
       "      <th>2</th>\n",
       "      <td>CartScreenAppear</td>\n",
       "      <td>1266</td>\n",
       "      <td>1238</td>\n",
       "      <td>1230</td>\n",
       "      <td>50.97</td>\n",
       "      <td>49.26</td>\n",
       "      <td>48.48</td>\n",
       "      <td>2484</td>\n",
       "      <td>2513</td>\n",
       "      <td>2537</td>\n",
       "    </tr>\n",
       "    <tr>\n",
       "      <th>3</th>\n",
       "      <td>PaymentScreenSuccessful</td>\n",
       "      <td>1200</td>\n",
       "      <td>1158</td>\n",
       "      <td>1181</td>\n",
       "      <td>48.31</td>\n",
       "      <td>46.08</td>\n",
       "      <td>46.55</td>\n",
       "      <td>2484</td>\n",
       "      <td>2513</td>\n",
       "      <td>2537</td>\n",
       "    </tr>\n",
       "    <tr>\n",
       "      <th>4</th>\n",
       "      <td>Tutorial</td>\n",
       "      <td>278</td>\n",
       "      <td>283</td>\n",
       "      <td>279</td>\n",
       "      <td>11.19</td>\n",
       "      <td>11.26</td>\n",
       "      <td>11.00</td>\n",
       "      <td>2484</td>\n",
       "      <td>2513</td>\n",
       "      <td>2537</td>\n",
       "    </tr>\n",
       "  </tbody>\n",
       "</table>\n",
       "</div>"
      ],
      "text/plain": [
       "exp_id               event_name   246   247   248  rate_246  rate_247  \\\n",
       "0              MainScreenAppear  2450  2476  2493     98.63     98.53   \n",
       "1            OffersScreenAppear  1542  1520  1531     62.08     60.49   \n",
       "2              CartScreenAppear  1266  1238  1230     50.97     49.26   \n",
       "3       PaymentScreenSuccessful  1200  1158  1181     48.31     46.08   \n",
       "4                      Tutorial   278   283   279     11.19     11.26   \n",
       "\n",
       "exp_id  rate_248  total_246  total_247  total_248  \n",
       "0          98.27       2484       2513       2537  \n",
       "1          60.35       2484       2513       2537  \n",
       "2          48.48       2484       2513       2537  \n",
       "3          46.55       2484       2513       2537  \n",
       "4          11.00       2484       2513       2537  "
      ]
     },
     "metadata": {},
     "output_type": "display_data"
    }
   ],
   "source": [
    "display(popular_events)"
   ]
  },
  {
   "cell_type": "code",
   "execution_count": 43,
   "metadata": {
    "scrolled": false
   },
   "outputs": [
    {
     "name": "stdout",
     "output_type": "stream",
     "text": [
      "Тесты для групп 246 - 247\n",
      "\n",
      "Результаты z-теста для события --  MainScreenAppear\n",
      "Z-статистика: 0.3093441851418436\n",
      "P-значение: 0.7570597232046099\n",
      "Различие между долями статистически незначимо.\n",
      "------------------------------------------------------------------\n",
      "Результаты z-теста для события --  Tutorial\n",
      "Z-статистика: -0.0781614596617372\n",
      "P-значение: 0.9376996189257114\n",
      "Различие между долями статистически незначимо.\n",
      "------------------------------------------------------------------\n",
      "Результаты z-теста для события --  OffersScreenAppear\n",
      "Z-статистика: 1.154987713610383\n",
      "P-значение: 0.2480954578522181\n",
      "Различие между долями статистически незначимо.\n",
      "------------------------------------------------------------------\n",
      "Результаты z-теста для события --  CartScreenAppear\n",
      "Z-статистика: 1.203368576486285\n",
      "P-значение: 0.22883372237997213\n",
      "Различие между долями статистически незначимо.\n",
      "------------------------------------------------------------------\n",
      "Результаты z-теста для события --  PaymentScreenSuccessful\n",
      "Z-статистика: 1.5779948491596598\n",
      "P-значение: 0.11456679313141847\n",
      "Различие между долями статистически незначимо.\n",
      "------------------------------------------------------------------\n"
     ]
    }
   ],
   "source": [
    "print('Тесты для групп 246 - 247\\n')\n",
    "\n",
    "for events in df_filtered['event_name'].unique():\n",
    "    count = (popular_events[popular_events['event_name']==events][[246,247]].values.flatten()\n",
    "    )\n",
    "    total = (popular_events[popular_events['event_name']==events][['total_246','total_247']].values.flatten()\n",
    "    )\n",
    "    z_test(count, nobs, events)"
   ]
  },
  {
   "cell_type": "markdown",
   "metadata": {},
   "source": [
    "**Вердикт - между долями в группах 246 и 247 (контрольных) нет статистически значимых различий в разрезе каждого типа событий. Другими словами - поведение пользователей не отличаеся, значит А/А тест подтверждает правильность распределения пользователей по группам**"
   ]
  },
  {
   "cell_type": "code",
   "execution_count": 44,
   "metadata": {
    "scrolled": false
   },
   "outputs": [
    {
     "name": "stdout",
     "output_type": "stream",
     "text": [
      "Тесты для групп 246 - 248\n",
      "\n",
      "Результаты z-теста для события --  MainScreenAppear\n",
      "Z-статистика: -1.9584489179907973\n",
      "P-значение: 0.050177359474672695\n",
      "Различие между долями статистически незначимо.\n",
      "------------------------------------------------------------------\n",
      "Результаты z-теста для события --  Tutorial\n",
      "Z-статистика: 0.10035570401838094\n",
      "P-значение: 0.920061935241805\n",
      "Различие между долями статистически незначимо.\n",
      "------------------------------------------------------------------\n",
      "Результаты z-теста для события --  OffersScreenAppear\n",
      "Z-статистика: 0.838271269681762\n",
      "P-значение: 0.4018783678293105\n",
      "Различие между долями статистически незначимо.\n",
      "------------------------------------------------------------------\n",
      "Результаты z-теста для события --  CartScreenAppear\n",
      "Z-статистика: 1.4283986760811875\n",
      "P-значение: 0.15317714002828972\n",
      "Различие между долями статистически незначимо.\n",
      "------------------------------------------------------------------\n",
      "Результаты z-теста для события --  PaymentScreenSuccessful\n",
      "Z-статистика: 0.9295585159406047\n",
      "P-значение: 0.35259971468472906\n",
      "Различие между долями статистически незначимо.\n",
      "------------------------------------------------------------------\n"
     ]
    }
   ],
   "source": [
    "print('Тесты для групп 246 - 248\\n')\n",
    "\n",
    "for events in df_filtered['event_name'].unique():\n",
    "    count = (popular_events[popular_events['event_name']==events][[246,248]].values.flatten()\n",
    "    )\n",
    "    total = (popular_events[popular_events['event_name']==events][['total_246','total_248']].values.flatten()\n",
    "    )\n",
    "    z_test(count, nobs, events)"
   ]
  },
  {
   "cell_type": "markdown",
   "metadata": {},
   "source": [
    "**Согласно результатам z-теста для групп 246 и 248, `нет оснований отвергнуть нулевую гипотезу о равенстве долей групп`** "
   ]
  },
  {
   "cell_type": "code",
   "execution_count": 45,
   "metadata": {},
   "outputs": [
    {
     "name": "stdout",
     "output_type": "stream",
     "text": [
      "Тесты для групп 247 - 248\n",
      "\n",
      "Результаты z-теста для события --  MainScreenAppear\n",
      "Z-статистика: 0.740980338642352\n",
      "P-значение: 0.45870536166215137\n",
      "Различие между долями статистически незначимо.\n",
      "------------------------------------------------------------------\n",
      "Результаты z-теста для события --  Tutorial\n",
      "Z-статистика: 0.2984969253006019\n",
      "P-значение: 0.7653239224745011\n",
      "Различие между долями статистически незначимо.\n",
      "------------------------------------------------------------------\n",
      "Результаты z-теста для события --  OffersScreenAppear\n",
      "Z-статистика: 0.1007086015299871\n",
      "P-значение: 0.919781783059226\n",
      "Различие между долями статистически незначимо.\n",
      "------------------------------------------------------------------\n",
      "Результаты z-теста для события --  CartScreenAppear\n",
      "Z-статистика: 0.5554019078073092\n",
      "P-значение: 0.5786197879539782\n",
      "Различие между долями статистически незначимо.\n",
      "------------------------------------------------------------------\n",
      "Результаты z-теста для события --  PaymentScreenSuccessful\n",
      "Z-статистика: -0.3353759529753951\n",
      "P-значение: 0.7373415053803964\n",
      "Различие между долями статистически незначимо.\n",
      "------------------------------------------------------------------\n"
     ]
    }
   ],
   "source": [
    "print('Тесты для групп 247 - 248\\n')\n",
    "\n",
    "for events in df_filtered['event_name'].unique():\n",
    "    count = (popular_events[popular_events['event_name']==events][[247,248]].values.flatten()\n",
    "    )\n",
    "    total = (popular_events[popular_events['event_name']==events][['total_247','total_248']].values.flatten()\n",
    "    )\n",
    "    z_test(count, total, events)"
   ]
  },
  {
   "cell_type": "markdown",
   "metadata": {},
   "source": [
    "**Согласно результатам z-тестов по долям в группах 247 и 248, мы также можем заключить, что нулевую гипотезу о равенстве долей мы не можем отвергнуть**"
   ]
  },
  {
   "cell_type": "markdown",
   "metadata": {},
   "source": [
    "# Итоги эксперимента\n",
    "\n",
    "Мы провели исследования данных групп и тесты на сравнение долей. Результатом является следующие заключения:\n",
    "1. Между группами 246 и 247 статистически значимых различий нет\n",
    "2. Между группами 246 и 248  и 247 248 также нет статистически значимых различий   "
   ]
  },
  {
   "cell_type": "markdown",
   "metadata": {},
   "source": [
    "# Финальные заключения и рекомендации\n",
    "\n",
    "1. Следует обратить внимание на 2 этапа воронки:\n",
    "- переход с главного экрана на экран предложений - мы теряем 38% пользователей на нем. Помогут дополнительные рассылки о спец. предложениях, персональные предложения на основе исории покупок и предпочтений.\n",
    "- 5% пользователей после экрана формирования заказа (корзины) не переходят на страницу его оплаты. Следует\n",
    "- обучение - всего 0.42% от логов, 1% пользователей после него перестали пользоваться приложением даже не начав. Стоит доработать этот блок.\n",
    "- из общего количества пользователей всего 47.7% доходит до покупки, это большой потенциал для роста.\n",
    "2. Тесты показали отсутствие влияние новых шрифтов на пользователей - нет смысла раскатывать их для всей аудитории."
   ]
  }
 ],
 "metadata": {
  "ExecuteTimeLog": [
   {
    "duration": 1155,
    "start_time": "2024-05-15T20:49:37.593Z"
   },
   {
    "duration": 451,
    "start_time": "2024-05-15T20:49:40.205Z"
   },
   {
    "duration": 181,
    "start_time": "2024-05-15T20:50:23.232Z"
   },
   {
    "duration": 174,
    "start_time": "2024-05-15T20:52:19.483Z"
   },
   {
    "duration": 206,
    "start_time": "2024-05-15T20:59:37.135Z"
   },
   {
    "duration": 92,
    "start_time": "2024-05-15T21:07:36.751Z"
   },
   {
    "duration": 4,
    "start_time": "2024-05-15T21:08:03.811Z"
   },
   {
    "duration": 6,
    "start_time": "2024-05-15T21:08:20.447Z"
   },
   {
    "duration": 182,
    "start_time": "2024-05-15T21:11:55.268Z"
   },
   {
    "duration": 13,
    "start_time": "2024-05-15T21:12:57.903Z"
   },
   {
    "duration": 11,
    "start_time": "2024-05-15T21:16:25.046Z"
   },
   {
    "duration": 46,
    "start_time": "2024-05-15T21:17:16.985Z"
   },
   {
    "duration": 44,
    "start_time": "2024-05-15T21:17:56.325Z"
   },
   {
    "duration": 55,
    "start_time": "2024-05-15T21:19:02.376Z"
   },
   {
    "duration": 54,
    "start_time": "2024-05-15T21:20:13.153Z"
   },
   {
    "duration": 50,
    "start_time": "2024-05-15T21:20:37.076Z"
   },
   {
    "duration": 48,
    "start_time": "2024-05-15T21:21:56.683Z"
   },
   {
    "duration": 45,
    "start_time": "2024-05-15T21:23:24.963Z"
   },
   {
    "duration": 48,
    "start_time": "2024-05-15T21:25:29.237Z"
   },
   {
    "duration": 2,
    "start_time": "2024-05-15T21:25:31.655Z"
   },
   {
    "duration": 59,
    "start_time": "2024-05-15T21:27:58.909Z"
   },
   {
    "duration": 73,
    "start_time": "2024-05-15T21:28:25.262Z"
   },
   {
    "duration": 80,
    "start_time": "2024-05-15T21:29:07.714Z"
   },
   {
    "duration": 32,
    "start_time": "2024-05-15T21:31:50.713Z"
   },
   {
    "duration": 47,
    "start_time": "2024-05-15T21:32:59.076Z"
   },
   {
    "duration": 48,
    "start_time": "2024-05-15T21:33:22.865Z"
   },
   {
    "duration": 42,
    "start_time": "2024-05-15T21:35:50.865Z"
   },
   {
    "duration": 10,
    "start_time": "2024-05-15T21:36:30.385Z"
   },
   {
    "duration": 8,
    "start_time": "2024-05-15T21:36:37.764Z"
   },
   {
    "duration": 23,
    "start_time": "2024-05-15T21:37:08.876Z"
   },
   {
    "duration": 17,
    "start_time": "2024-05-15T21:38:42.040Z"
   },
   {
    "duration": 19,
    "start_time": "2024-05-15T21:39:55.081Z"
   },
   {
    "duration": 20,
    "start_time": "2024-05-15T21:41:47.508Z"
   },
   {
    "duration": 54,
    "start_time": "2024-05-15T21:43:30.585Z"
   },
   {
    "duration": 36,
    "start_time": "2024-05-15T21:44:01.948Z"
   },
   {
    "duration": 34,
    "start_time": "2024-05-15T21:44:24.668Z"
   },
   {
    "duration": 38,
    "start_time": "2024-05-15T21:44:33.248Z"
   },
   {
    "duration": 37,
    "start_time": "2024-05-15T21:44:46.708Z"
   },
   {
    "duration": 9,
    "start_time": "2024-05-15T21:44:53.475Z"
   },
   {
    "duration": 10,
    "start_time": "2024-05-15T21:45:00.448Z"
   },
   {
    "duration": 37,
    "start_time": "2024-05-15T21:45:38.341Z"
   },
   {
    "duration": 36,
    "start_time": "2024-05-15T21:47:37.268Z"
   },
   {
    "duration": 38,
    "start_time": "2024-05-15T21:49:23.189Z"
   },
   {
    "duration": 41,
    "start_time": "2024-05-15T21:50:21.399Z"
   },
   {
    "duration": 253,
    "start_time": "2024-05-15T21:52:32.745Z"
   },
   {
    "duration": 173,
    "start_time": "2024-05-15T21:53:22.941Z"
   },
   {
    "duration": 56,
    "start_time": "2024-05-15T21:54:20.128Z"
   },
   {
    "duration": 50,
    "start_time": "2024-05-15T21:54:32.628Z"
   },
   {
    "duration": 11,
    "start_time": "2024-05-15T21:54:38.511Z"
   },
   {
    "duration": 8,
    "start_time": "2024-05-15T21:54:45.214Z"
   },
   {
    "duration": 363,
    "start_time": "2024-05-15T21:55:01.109Z"
   },
   {
    "duration": 397,
    "start_time": "2024-05-15T21:55:17.420Z"
   },
   {
    "duration": 412,
    "start_time": "2024-05-15T21:57:57.268Z"
   },
   {
    "duration": 400,
    "start_time": "2024-05-15T21:59:05.310Z"
   },
   {
    "duration": 520,
    "start_time": "2024-05-15T21:59:17.481Z"
   },
   {
    "duration": 258,
    "start_time": "2024-05-15T22:02:26.209Z"
   },
   {
    "duration": 4,
    "start_time": "2024-05-15T22:02:48.429Z"
   },
   {
    "duration": 410,
    "start_time": "2024-05-15T22:02:53.089Z"
   },
   {
    "duration": 420,
    "start_time": "2024-05-15T22:05:47.177Z"
   },
   {
    "duration": 386,
    "start_time": "2024-05-15T22:06:10.620Z"
   },
   {
    "duration": 495,
    "start_time": "2024-05-15T22:07:45.889Z"
   },
   {
    "duration": 428,
    "start_time": "2024-05-15T22:17:52.173Z"
   },
   {
    "duration": 390,
    "start_time": "2024-05-15T22:18:23.673Z"
   },
   {
    "duration": 339,
    "start_time": "2024-05-15T22:18:37.502Z"
   },
   {
    "duration": 330,
    "start_time": "2024-05-15T22:19:27.763Z"
   },
   {
    "duration": 301,
    "start_time": "2024-05-15T22:19:45.442Z"
   },
   {
    "duration": 351,
    "start_time": "2024-05-15T22:20:05.136Z"
   },
   {
    "duration": 365,
    "start_time": "2024-05-15T22:21:06.955Z"
   },
   {
    "duration": 544,
    "start_time": "2024-05-15T22:21:28.143Z"
   },
   {
    "duration": 56,
    "start_time": "2024-05-15T22:24:21.340Z"
   },
   {
    "duration": 389,
    "start_time": "2024-05-15T22:26:08.094Z"
   },
   {
    "duration": 97,
    "start_time": "2024-05-15T22:26:26.774Z"
   },
   {
    "duration": 461,
    "start_time": "2024-05-15T22:26:30.826Z"
   },
   {
    "duration": 376,
    "start_time": "2024-05-15T22:26:53.306Z"
   },
   {
    "duration": 87,
    "start_time": "2024-05-15T22:31:19.556Z"
   },
   {
    "duration": 52,
    "start_time": "2024-05-15T22:34:43.945Z"
   },
   {
    "duration": 43,
    "start_time": "2024-05-15T22:35:07.969Z"
   },
   {
    "duration": 63,
    "start_time": "2024-05-15T22:35:32.471Z"
   },
   {
    "duration": 43,
    "start_time": "2024-05-15T22:35:58.077Z"
   },
   {
    "duration": 54,
    "start_time": "2024-05-15T22:36:18.437Z"
   },
   {
    "duration": 51,
    "start_time": "2024-05-15T22:36:37.928Z"
   },
   {
    "duration": 43,
    "start_time": "2024-05-15T22:36:54.106Z"
   },
   {
    "duration": 43,
    "start_time": "2024-05-15T22:37:11.470Z"
   },
   {
    "duration": 99,
    "start_time": "2024-05-15T22:37:29.329Z"
   },
   {
    "duration": 47,
    "start_time": "2024-05-15T22:37:38.925Z"
   },
   {
    "duration": 63,
    "start_time": "2024-05-15T22:38:00.738Z"
   },
   {
    "duration": 42,
    "start_time": "2024-05-15T22:38:07.168Z"
   },
   {
    "duration": 8357,
    "start_time": "2024-05-15T22:43:33.746Z"
   },
   {
    "duration": 894,
    "start_time": "2024-05-15T22:52:02.798Z"
   },
   {
    "duration": 980,
    "start_time": "2024-05-15T22:53:25.439Z"
   },
   {
    "duration": 834,
    "start_time": "2024-05-15T22:53:42.308Z"
   },
   {
    "duration": 925,
    "start_time": "2024-05-15T22:54:14.617Z"
   },
   {
    "duration": 859,
    "start_time": "2024-05-15T22:54:30.209Z"
   },
   {
    "duration": 822,
    "start_time": "2024-05-15T22:54:42.888Z"
   },
   {
    "duration": 967,
    "start_time": "2024-05-15T23:02:20.577Z"
   },
   {
    "duration": 449,
    "start_time": "2024-05-15T23:06:29.637Z"
   },
   {
    "duration": 362,
    "start_time": "2024-05-15T23:06:31.409Z"
   },
   {
    "duration": 957,
    "start_time": "2024-05-15T23:06:32.236Z"
   },
   {
    "duration": 856,
    "start_time": "2024-05-15T23:08:10.657Z"
   },
   {
    "duration": 926,
    "start_time": "2024-05-15T23:08:45.817Z"
   },
   {
    "duration": 862,
    "start_time": "2024-05-15T23:09:03.705Z"
   },
   {
    "duration": 586,
    "start_time": "2024-05-15T23:09:53.118Z"
   },
   {
    "duration": 976,
    "start_time": "2024-05-15T23:10:07.498Z"
   },
   {
    "duration": 892,
    "start_time": "2024-05-15T23:16:05.357Z"
   },
   {
    "duration": 9,
    "start_time": "2024-05-15T23:28:25.435Z"
   },
   {
    "duration": 31,
    "start_time": "2024-05-15T23:28:50.386Z"
   },
   {
    "duration": 18,
    "start_time": "2024-05-15T23:29:20.454Z"
   },
   {
    "duration": 9,
    "start_time": "2024-05-15T23:29:37.326Z"
   },
   {
    "duration": 7,
    "start_time": "2024-05-15T23:30:35.152Z"
   },
   {
    "duration": 7,
    "start_time": "2024-05-15T23:30:56.252Z"
   },
   {
    "duration": 9,
    "start_time": "2024-05-15T23:33:13.970Z"
   },
   {
    "duration": 7,
    "start_time": "2024-05-15T23:33:41.551Z"
   },
   {
    "duration": 8,
    "start_time": "2024-05-15T23:36:18.404Z"
   },
   {
    "duration": 18,
    "start_time": "2024-05-15T23:36:51.771Z"
   },
   {
    "duration": 8,
    "start_time": "2024-05-15T23:37:19.583Z"
   },
   {
    "duration": 9,
    "start_time": "2024-05-15T23:38:44.211Z"
   },
   {
    "duration": 4,
    "start_time": "2024-05-15T23:39:31.937Z"
   },
   {
    "duration": 212,
    "start_time": "2024-05-15T23:39:31.943Z"
   },
   {
    "duration": 79,
    "start_time": "2024-05-15T23:39:32.156Z"
   },
   {
    "duration": 87,
    "start_time": "2024-05-15T23:39:32.237Z"
   },
   {
    "duration": 121,
    "start_time": "2024-05-15T23:39:32.327Z"
   },
   {
    "duration": 49,
    "start_time": "2024-05-15T23:39:32.450Z"
   },
   {
    "duration": 68,
    "start_time": "2024-05-15T23:39:32.501Z"
   },
   {
    "duration": 438,
    "start_time": "2024-05-15T23:39:32.571Z"
   },
   {
    "duration": 386,
    "start_time": "2024-05-15T23:39:33.011Z"
   },
   {
    "duration": 945,
    "start_time": "2024-05-15T23:39:33.399Z"
   },
   {
    "duration": 11,
    "start_time": "2024-05-15T23:39:34.346Z"
   },
   {
    "duration": 43,
    "start_time": "2024-05-15T23:39:34.358Z"
   },
   {
    "duration": 862,
    "start_time": "2024-05-15T23:42:33.513Z"
   },
   {
    "duration": 4,
    "start_time": "2024-05-15T23:43:45.200Z"
   },
   {
    "duration": 231,
    "start_time": "2024-05-15T23:43:45.206Z"
   },
   {
    "duration": 81,
    "start_time": "2024-05-15T23:43:45.438Z"
   },
   {
    "duration": 80,
    "start_time": "2024-05-15T23:43:45.520Z"
   },
   {
    "duration": 122,
    "start_time": "2024-05-15T23:43:45.602Z"
   },
   {
    "duration": 56,
    "start_time": "2024-05-15T23:43:45.726Z"
   },
   {
    "duration": 52,
    "start_time": "2024-05-15T23:43:45.783Z"
   },
   {
    "duration": 543,
    "start_time": "2024-05-15T23:43:45.855Z"
   },
   {
    "duration": 405,
    "start_time": "2024-05-15T23:43:46.400Z"
   },
   {
    "duration": 839,
    "start_time": "2024-05-15T23:43:46.807Z"
   },
   {
    "duration": 7,
    "start_time": "2024-05-15T23:43:47.655Z"
   },
   {
    "duration": 50,
    "start_time": "2024-05-15T23:43:47.664Z"
   },
   {
    "duration": 950,
    "start_time": "2024-05-15T23:43:47.715Z"
   },
   {
    "duration": 844,
    "start_time": "2024-05-15T23:44:21.380Z"
   },
   {
    "duration": 4,
    "start_time": "2024-05-15T23:44:56.188Z"
   },
   {
    "duration": 197,
    "start_time": "2024-05-15T23:44:56.193Z"
   },
   {
    "duration": 77,
    "start_time": "2024-05-15T23:44:56.391Z"
   },
   {
    "duration": 65,
    "start_time": "2024-05-15T23:44:56.469Z"
   },
   {
    "duration": 122,
    "start_time": "2024-05-15T23:44:56.536Z"
   },
   {
    "duration": 43,
    "start_time": "2024-05-15T23:44:56.659Z"
   },
   {
    "duration": 65,
    "start_time": "2024-05-15T23:44:56.703Z"
   },
   {
    "duration": 432,
    "start_time": "2024-05-15T23:44:56.770Z"
   },
   {
    "duration": 352,
    "start_time": "2024-05-15T23:44:57.204Z"
   },
   {
    "duration": 922,
    "start_time": "2024-05-15T23:44:57.557Z"
   },
   {
    "duration": 8,
    "start_time": "2024-05-15T23:44:58.480Z"
   },
   {
    "duration": 47,
    "start_time": "2024-05-15T23:44:58.489Z"
   },
   {
    "duration": 808,
    "start_time": "2024-05-15T23:44:58.538Z"
   },
   {
    "duration": 1291,
    "start_time": "2024-05-16T20:54:30.869Z"
   },
   {
    "duration": 418,
    "start_time": "2024-05-16T20:54:32.162Z"
   },
   {
    "duration": 112,
    "start_time": "2024-05-16T20:54:32.582Z"
   },
   {
    "duration": 101,
    "start_time": "2024-05-16T20:54:32.697Z"
   },
   {
    "duration": 155,
    "start_time": "2024-05-16T20:54:32.801Z"
   },
   {
    "duration": 59,
    "start_time": "2024-05-16T20:54:32.959Z"
   },
   {
    "duration": 59,
    "start_time": "2024-05-16T20:54:33.020Z"
   },
   {
    "duration": 599,
    "start_time": "2024-05-16T20:54:33.080Z"
   },
   {
    "duration": 409,
    "start_time": "2024-05-16T20:54:33.682Z"
   },
   {
    "duration": 899,
    "start_time": "2024-05-16T20:54:34.092Z"
   },
   {
    "duration": 9,
    "start_time": "2024-05-16T20:54:34.993Z"
   },
   {
    "duration": 81,
    "start_time": "2024-05-16T20:54:35.004Z"
   },
   {
    "duration": 992,
    "start_time": "2024-05-16T20:54:35.086Z"
   },
   {
    "duration": 33,
    "start_time": "2024-05-16T20:57:39.032Z"
   },
   {
    "duration": 11,
    "start_time": "2024-05-16T21:02:24.187Z"
   },
   {
    "duration": 35,
    "start_time": "2024-05-16T21:02:49.787Z"
   },
   {
    "duration": 35,
    "start_time": "2024-05-16T21:03:33.199Z"
   },
   {
    "duration": 29,
    "start_time": "2024-05-16T21:15:43.664Z"
   },
   {
    "duration": 3,
    "start_time": "2024-05-16T21:18:33.879Z"
   },
   {
    "duration": 32,
    "start_time": "2024-05-16T21:18:39.846Z"
   },
   {
    "duration": 29,
    "start_time": "2024-05-16T21:19:11.557Z"
   },
   {
    "duration": 31,
    "start_time": "2024-05-16T21:20:40.402Z"
   },
   {
    "duration": 3,
    "start_time": "2024-05-16T21:23:22.686Z"
   },
   {
    "duration": 91,
    "start_time": "2024-05-16T21:23:25.455Z"
   },
   {
    "duration": 29,
    "start_time": "2024-05-16T21:23:31.888Z"
   },
   {
    "duration": 33,
    "start_time": "2024-05-16T21:23:43.593Z"
   },
   {
    "duration": 36,
    "start_time": "2024-05-16T21:24:16.193Z"
   },
   {
    "duration": 30,
    "start_time": "2024-05-16T21:27:50.132Z"
   },
   {
    "duration": 27,
    "start_time": "2024-05-16T21:28:07.565Z"
   },
   {
    "duration": 25,
    "start_time": "2024-05-16T21:28:14.693Z"
   },
   {
    "duration": 15,
    "start_time": "2024-05-16T21:28:39.813Z"
   },
   {
    "duration": 9,
    "start_time": "2024-05-16T21:29:03.698Z"
   },
   {
    "duration": 55,
    "start_time": "2024-05-16T21:29:21.572Z"
   },
   {
    "duration": 24,
    "start_time": "2024-05-16T21:30:07.724Z"
   },
   {
    "duration": 25,
    "start_time": "2024-05-16T21:30:30.393Z"
   },
   {
    "duration": 25,
    "start_time": "2024-05-16T21:31:06.255Z"
   },
   {
    "duration": 34,
    "start_time": "2024-05-16T21:32:26.402Z"
   },
   {
    "duration": 32,
    "start_time": "2024-05-16T21:32:52.224Z"
   },
   {
    "duration": 246,
    "start_time": "2024-05-16T21:34:11.212Z"
   },
   {
    "duration": 3,
    "start_time": "2024-05-16T21:34:25.255Z"
   },
   {
    "duration": 203,
    "start_time": "2024-05-16T21:34:25.260Z"
   },
   {
    "duration": 79,
    "start_time": "2024-05-16T21:34:25.464Z"
   },
   {
    "duration": 76,
    "start_time": "2024-05-16T21:34:25.544Z"
   },
   {
    "duration": 108,
    "start_time": "2024-05-16T21:34:25.622Z"
   },
   {
    "duration": 67,
    "start_time": "2024-05-16T21:34:25.732Z"
   },
   {
    "duration": 56,
    "start_time": "2024-05-16T21:34:25.801Z"
   },
   {
    "duration": 444,
    "start_time": "2024-05-16T21:34:25.859Z"
   },
   {
    "duration": 365,
    "start_time": "2024-05-16T21:34:26.304Z"
   },
   {
    "duration": 910,
    "start_time": "2024-05-16T21:34:26.671Z"
   },
   {
    "duration": 8,
    "start_time": "2024-05-16T21:34:27.582Z"
   },
   {
    "duration": 65,
    "start_time": "2024-05-16T21:34:27.591Z"
   },
   {
    "duration": 890,
    "start_time": "2024-05-16T21:34:27.658Z"
   },
   {
    "duration": 28,
    "start_time": "2024-05-16T21:34:28.556Z"
   },
   {
    "duration": 33,
    "start_time": "2024-05-16T21:34:28.586Z"
   },
   {
    "duration": 250,
    "start_time": "2024-05-16T21:34:28.621Z"
   },
   {
    "duration": 26,
    "start_time": "2024-05-16T21:34:58.852Z"
   },
   {
    "duration": 247,
    "start_time": "2024-05-16T21:36:41.928Z"
   },
   {
    "duration": 30,
    "start_time": "2024-05-16T21:36:47.789Z"
   },
   {
    "duration": 30,
    "start_time": "2024-05-16T21:37:03.972Z"
   },
   {
    "duration": 29,
    "start_time": "2024-05-16T21:37:20.012Z"
   },
   {
    "duration": 29,
    "start_time": "2024-05-16T21:40:00.495Z"
   },
   {
    "duration": 13,
    "start_time": "2024-05-16T21:59:31.503Z"
   },
   {
    "duration": 11,
    "start_time": "2024-05-16T22:00:21.235Z"
   },
   {
    "duration": 12,
    "start_time": "2024-05-16T22:00:32.423Z"
   },
   {
    "duration": 60,
    "start_time": "2024-05-16T22:00:50.708Z"
   },
   {
    "duration": 9,
    "start_time": "2024-05-16T22:01:42.578Z"
   },
   {
    "duration": 61,
    "start_time": "2024-05-16T22:01:56.163Z"
   },
   {
    "duration": 60,
    "start_time": "2024-05-16T22:02:20.523Z"
   },
   {
    "duration": 52,
    "start_time": "2024-05-16T22:02:52.982Z"
   },
   {
    "duration": 56,
    "start_time": "2024-05-16T22:03:08.001Z"
   },
   {
    "duration": 55,
    "start_time": "2024-05-16T22:03:20.943Z"
   },
   {
    "duration": 57,
    "start_time": "2024-05-16T22:03:49.144Z"
   },
   {
    "duration": 112,
    "start_time": "2024-05-16T22:04:41.735Z"
   },
   {
    "duration": 61,
    "start_time": "2024-05-16T22:05:14.285Z"
   },
   {
    "duration": 65,
    "start_time": "2024-05-16T22:06:48.764Z"
   },
   {
    "duration": 68,
    "start_time": "2024-05-16T22:07:48.775Z"
   },
   {
    "duration": 64,
    "start_time": "2024-05-16T22:08:37.424Z"
   },
   {
    "duration": 29,
    "start_time": "2024-05-16T22:10:10.625Z"
   },
   {
    "duration": 65,
    "start_time": "2024-05-16T22:11:03.412Z"
   },
   {
    "duration": 63,
    "start_time": "2024-05-16T22:12:05.845Z"
   },
   {
    "duration": 27,
    "start_time": "2024-05-16T22:12:37.165Z"
   },
   {
    "duration": 55,
    "start_time": "2024-05-16T22:14:01.006Z"
   },
   {
    "duration": 53,
    "start_time": "2024-05-16T22:14:42.426Z"
   },
   {
    "duration": 53,
    "start_time": "2024-05-16T22:16:02.565Z"
   },
   {
    "duration": 52,
    "start_time": "2024-05-16T22:18:35.505Z"
   },
   {
    "duration": 62,
    "start_time": "2024-05-16T22:20:53.437Z"
   },
   {
    "duration": 56,
    "start_time": "2024-05-16T22:21:02.246Z"
   },
   {
    "duration": 59,
    "start_time": "2024-05-16T22:22:00.601Z"
   },
   {
    "duration": 56,
    "start_time": "2024-05-16T22:22:44.786Z"
   },
   {
    "duration": 67,
    "start_time": "2024-05-16T22:40:27.107Z"
   },
   {
    "duration": 66,
    "start_time": "2024-05-16T22:41:01.547Z"
   },
   {
    "duration": 168,
    "start_time": "2024-05-16T22:45:54.539Z"
   },
   {
    "duration": 170,
    "start_time": "2024-05-16T22:46:35.487Z"
   },
   {
    "duration": 201,
    "start_time": "2024-05-16T22:47:48.326Z"
   },
   {
    "duration": 152,
    "start_time": "2024-05-16T22:48:24.106Z"
   },
   {
    "duration": 417,
    "start_time": "2024-05-16T22:48:49.646Z"
   },
   {
    "duration": 256,
    "start_time": "2024-05-16T22:49:11.273Z"
   },
   {
    "duration": 266,
    "start_time": "2024-05-16T22:49:22.169Z"
   },
   {
    "duration": 331,
    "start_time": "2024-05-16T22:50:29.695Z"
   },
   {
    "duration": 320,
    "start_time": "2024-05-16T22:50:51.144Z"
   },
   {
    "duration": 316,
    "start_time": "2024-05-16T22:51:10.224Z"
   },
   {
    "duration": 11,
    "start_time": "2024-05-16T22:52:37.052Z"
   },
   {
    "duration": 70,
    "start_time": "2024-05-16T22:53:01.424Z"
   },
   {
    "duration": 10,
    "start_time": "2024-05-16T22:53:12.318Z"
   },
   {
    "duration": 312,
    "start_time": "2024-05-16T22:53:26.820Z"
   },
   {
    "duration": 310,
    "start_time": "2024-05-16T22:55:00.531Z"
   },
   {
    "duration": 178,
    "start_time": "2024-05-16T22:55:09.284Z"
   },
   {
    "duration": 192,
    "start_time": "2024-05-16T22:55:30.212Z"
   },
   {
    "duration": 90,
    "start_time": "2024-05-16T22:59:36.511Z"
   },
   {
    "duration": 15,
    "start_time": "2024-05-16T22:59:42.159Z"
   },
   {
    "duration": 178,
    "start_time": "2024-05-16T23:11:25.609Z"
   },
   {
    "duration": 271,
    "start_time": "2024-05-16T23:12:24.139Z"
   },
   {
    "duration": 169,
    "start_time": "2024-05-16T23:12:33.390Z"
   },
   {
    "duration": 173,
    "start_time": "2024-05-16T23:20:32.649Z"
   },
   {
    "duration": 68,
    "start_time": "2024-05-16T23:21:37.089Z"
   },
   {
    "duration": 316,
    "start_time": "2024-05-16T23:21:46.989Z"
   },
   {
    "duration": 349,
    "start_time": "2024-05-16T23:22:25.511Z"
   },
   {
    "duration": 1195,
    "start_time": "2024-05-17T12:30:12.023Z"
   },
   {
    "duration": 950,
    "start_time": "2024-05-17T12:30:13.220Z"
   },
   {
    "duration": 101,
    "start_time": "2024-05-17T12:30:14.172Z"
   },
   {
    "duration": 96,
    "start_time": "2024-05-17T12:30:14.274Z"
   },
   {
    "duration": 174,
    "start_time": "2024-05-17T12:30:14.372Z"
   },
   {
    "duration": 74,
    "start_time": "2024-05-17T12:30:14.547Z"
   },
   {
    "duration": 55,
    "start_time": "2024-05-17T12:30:14.623Z"
   },
   {
    "duration": 653,
    "start_time": "2024-05-17T12:30:14.679Z"
   },
   {
    "duration": 402,
    "start_time": "2024-05-17T12:30:15.334Z"
   },
   {
    "duration": 938,
    "start_time": "2024-05-17T12:30:15.738Z"
   },
   {
    "duration": 15,
    "start_time": "2024-05-17T12:30:16.677Z"
   },
   {
    "duration": 60,
    "start_time": "2024-05-17T12:30:16.693Z"
   },
   {
    "duration": 1017,
    "start_time": "2024-05-17T12:30:16.754Z"
   },
   {
    "duration": 41,
    "start_time": "2024-05-17T12:30:17.774Z"
   },
   {
    "duration": 37,
    "start_time": "2024-05-17T12:30:17.817Z"
   },
   {
    "duration": 60,
    "start_time": "2024-05-17T12:30:17.856Z"
   },
   {
    "duration": 77,
    "start_time": "2024-05-17T12:30:17.917Z"
   },
   {
    "duration": 78,
    "start_time": "2024-05-17T12:30:17.996Z"
   },
   {
    "duration": 367,
    "start_time": "2024-05-17T12:30:18.076Z"
   },
   {
    "duration": 156,
    "start_time": "2024-05-17T12:31:18.775Z"
   },
   {
    "duration": 78,
    "start_time": "2024-05-17T12:31:31.446Z"
   },
   {
    "duration": 85,
    "start_time": "2024-05-17T12:31:40.645Z"
   },
   {
    "duration": 371,
    "start_time": "2024-05-17T12:31:44.020Z"
   },
   {
    "duration": 377,
    "start_time": "2024-05-17T13:04:54.651Z"
   },
   {
    "duration": 267,
    "start_time": "2024-05-17T13:24:25.634Z"
   },
   {
    "duration": 4,
    "start_time": "2024-05-17T13:24:37.321Z"
   },
   {
    "duration": 340,
    "start_time": "2024-05-17T13:24:37.327Z"
   },
   {
    "duration": 95,
    "start_time": "2024-05-17T13:24:37.668Z"
   },
   {
    "duration": 122,
    "start_time": "2024-05-17T13:24:37.764Z"
   },
   {
    "duration": 126,
    "start_time": "2024-05-17T13:24:37.888Z"
   },
   {
    "duration": 56,
    "start_time": "2024-05-17T13:24:38.016Z"
   },
   {
    "duration": 58,
    "start_time": "2024-05-17T13:24:38.073Z"
   },
   {
    "duration": 505,
    "start_time": "2024-05-17T13:24:38.133Z"
   },
   {
    "duration": 415,
    "start_time": "2024-05-17T13:24:38.639Z"
   },
   {
    "duration": 1100,
    "start_time": "2024-05-17T13:24:39.056Z"
   },
   {
    "duration": 8,
    "start_time": "2024-05-17T13:24:40.158Z"
   },
   {
    "duration": 121,
    "start_time": "2024-05-17T13:24:40.168Z"
   },
   {
    "duration": 966,
    "start_time": "2024-05-17T13:24:40.291Z"
   },
   {
    "duration": 42,
    "start_time": "2024-05-17T13:24:41.260Z"
   },
   {
    "duration": 168,
    "start_time": "2024-05-17T13:24:41.303Z"
   },
   {
    "duration": 30,
    "start_time": "2024-05-17T13:24:41.472Z"
   },
   {
    "duration": 90,
    "start_time": "2024-05-17T13:24:41.504Z"
   },
   {
    "duration": 332,
    "start_time": "2024-05-17T13:24:41.596Z"
   },
   {
    "duration": 387,
    "start_time": "2024-05-17T13:24:41.929Z"
   },
   {
    "duration": 583,
    "start_time": "2024-05-17T13:30:08.194Z"
   },
   {
    "duration": 15,
    "start_time": "2024-05-17T13:42:44.231Z"
   },
   {
    "duration": 9,
    "start_time": "2024-05-17T13:43:00.731Z"
   },
   {
    "duration": 19,
    "start_time": "2024-05-17T13:46:01.741Z"
   },
   {
    "duration": 73,
    "start_time": "2024-05-17T13:46:28.090Z"
   },
   {
    "duration": 81,
    "start_time": "2024-05-17T13:47:26.911Z"
   },
   {
    "duration": 86,
    "start_time": "2024-05-17T13:49:20.828Z"
   },
   {
    "duration": 92,
    "start_time": "2024-05-17T13:53:17.548Z"
   },
   {
    "duration": 87,
    "start_time": "2024-05-17T13:56:46.794Z"
   },
   {
    "duration": 85,
    "start_time": "2024-05-17T13:57:06.870Z"
   },
   {
    "duration": 121,
    "start_time": "2024-05-17T14:11:40.938Z"
   },
   {
    "duration": 153,
    "start_time": "2024-05-17T14:12:04.966Z"
   },
   {
    "duration": 112,
    "start_time": "2024-05-17T14:14:57.048Z"
   },
   {
    "duration": 1901,
    "start_time": "2024-05-17T14:15:15.007Z"
   },
   {
    "duration": 133,
    "start_time": "2024-05-17T14:16:08.587Z"
   },
   {
    "duration": 137,
    "start_time": "2024-05-17T14:17:23.267Z"
   },
   {
    "duration": 139,
    "start_time": "2024-05-17T14:18:16.219Z"
   },
   {
    "duration": 140,
    "start_time": "2024-05-17T14:18:33.247Z"
   },
   {
    "duration": 135,
    "start_time": "2024-05-17T14:19:04.576Z"
   },
   {
    "duration": 133,
    "start_time": "2024-05-17T14:19:47.157Z"
   },
   {
    "duration": 52,
    "start_time": "2024-05-17T14:20:25.782Z"
   },
   {
    "duration": 137,
    "start_time": "2024-05-17T14:20:54.918Z"
   },
   {
    "duration": 51,
    "start_time": "2024-05-17T14:21:24.408Z"
   },
   {
    "duration": 137,
    "start_time": "2024-05-17T14:21:46.198Z"
   },
   {
    "duration": 55,
    "start_time": "2024-05-17T14:22:08.138Z"
   },
   {
    "duration": 136,
    "start_time": "2024-05-17T14:23:35.768Z"
   },
   {
    "duration": 140,
    "start_time": "2024-05-17T14:24:11.059Z"
   },
   {
    "duration": 1129,
    "start_time": "2024-05-18T13:52:05.374Z"
   },
   {
    "duration": 860,
    "start_time": "2024-05-18T13:52:06.505Z"
   },
   {
    "duration": 71,
    "start_time": "2024-05-18T13:52:07.366Z"
   },
   {
    "duration": 81,
    "start_time": "2024-05-18T13:52:07.438Z"
   },
   {
    "duration": 120,
    "start_time": "2024-05-18T13:52:07.520Z"
   },
   {
    "duration": 55,
    "start_time": "2024-05-18T13:52:07.641Z"
   },
   {
    "duration": 41,
    "start_time": "2024-05-18T13:52:07.697Z"
   },
   {
    "duration": 507,
    "start_time": "2024-05-18T13:52:07.739Z"
   },
   {
    "duration": 337,
    "start_time": "2024-05-18T13:52:08.248Z"
   },
   {
    "duration": 747,
    "start_time": "2024-05-18T13:52:08.587Z"
   },
   {
    "duration": 7,
    "start_time": "2024-05-18T13:52:09.336Z"
   },
   {
    "duration": 56,
    "start_time": "2024-05-18T13:52:09.344Z"
   },
   {
    "duration": 803,
    "start_time": "2024-05-18T13:52:09.402Z"
   },
   {
    "duration": 26,
    "start_time": "2024-05-18T13:52:10.207Z"
   },
   {
    "duration": 31,
    "start_time": "2024-05-18T13:52:10.234Z"
   },
   {
    "duration": 37,
    "start_time": "2024-05-18T13:52:10.267Z"
   },
   {
    "duration": 60,
    "start_time": "2024-05-18T13:52:10.306Z"
   },
   {
    "duration": 66,
    "start_time": "2024-05-18T13:52:10.367Z"
   },
   {
    "duration": 341,
    "start_time": "2024-05-18T13:52:10.434Z"
   },
   {
    "duration": 103,
    "start_time": "2024-05-18T13:52:10.784Z"
   },
   {
    "duration": 52,
    "start_time": "2024-05-18T13:56:47.217Z"
   },
   {
    "duration": 54,
    "start_time": "2024-05-18T13:57:05.004Z"
   },
   {
    "duration": 51,
    "start_time": "2024-05-18T14:02:38.877Z"
   },
   {
    "duration": 52,
    "start_time": "2024-05-18T14:08:57.629Z"
   },
   {
    "duration": 1025,
    "start_time": "2024-05-18T14:10:19.613Z"
   },
   {
    "duration": 3,
    "start_time": "2024-05-18T14:10:47.454Z"
   },
   {
    "duration": 48,
    "start_time": "2024-05-18T14:13:03.303Z"
   },
   {
    "duration": 3,
    "start_time": "2024-05-18T14:13:12.553Z"
   },
   {
    "duration": 3,
    "start_time": "2024-05-18T14:13:24.591Z"
   },
   {
    "duration": 4,
    "start_time": "2024-05-18T14:13:40.571Z"
   },
   {
    "duration": 2,
    "start_time": "2024-05-18T14:13:54.071Z"
   },
   {
    "duration": 3,
    "start_time": "2024-05-18T14:13:56.961Z"
   },
   {
    "duration": 3,
    "start_time": "2024-05-18T14:14:42.903Z"
   },
   {
    "duration": 4,
    "start_time": "2024-05-18T14:14:48.621Z"
   },
   {
    "duration": 4,
    "start_time": "2024-05-18T14:14:55.427Z"
   },
   {
    "duration": 3,
    "start_time": "2024-05-18T14:15:03.493Z"
   },
   {
    "duration": 4,
    "start_time": "2024-05-18T14:15:09.290Z"
   },
   {
    "duration": 3,
    "start_time": "2024-05-18T14:15:13.250Z"
   },
   {
    "duration": 63,
    "start_time": "2024-05-18T14:20:44.289Z"
   },
   {
    "duration": 25,
    "start_time": "2024-05-18T14:26:07.514Z"
   },
   {
    "duration": 8,
    "start_time": "2024-05-18T14:39:55.712Z"
   },
   {
    "duration": 6,
    "start_time": "2024-05-18T14:40:03.750Z"
   },
   {
    "duration": 29,
    "start_time": "2024-05-18T14:40:09.168Z"
   },
   {
    "duration": 5,
    "start_time": "2024-05-18T14:47:54.444Z"
   },
   {
    "duration": 157,
    "start_time": "2024-05-18T14:47:54.451Z"
   },
   {
    "duration": 60,
    "start_time": "2024-05-18T14:47:54.609Z"
   },
   {
    "duration": 80,
    "start_time": "2024-05-18T14:47:54.670Z"
   },
   {
    "duration": 100,
    "start_time": "2024-05-18T14:47:54.751Z"
   },
   {
    "duration": 42,
    "start_time": "2024-05-18T14:47:54.853Z"
   },
   {
    "duration": 38,
    "start_time": "2024-05-18T14:47:54.897Z"
   },
   {
    "duration": 365,
    "start_time": "2024-05-18T14:47:54.936Z"
   },
   {
    "duration": 349,
    "start_time": "2024-05-18T14:47:55.302Z"
   },
   {
    "duration": 770,
    "start_time": "2024-05-18T14:47:55.652Z"
   },
   {
    "duration": 6,
    "start_time": "2024-05-18T14:47:56.424Z"
   },
   {
    "duration": 37,
    "start_time": "2024-05-18T14:47:56.431Z"
   },
   {
    "duration": 747,
    "start_time": "2024-05-18T14:47:56.471Z"
   },
   {
    "duration": 24,
    "start_time": "2024-05-18T14:47:57.219Z"
   },
   {
    "duration": 42,
    "start_time": "2024-05-18T14:47:57.244Z"
   },
   {
    "duration": 24,
    "start_time": "2024-05-18T14:47:57.287Z"
   },
   {
    "duration": 47,
    "start_time": "2024-05-18T14:47:57.312Z"
   },
   {
    "duration": 25,
    "start_time": "2024-05-18T14:47:57.361Z"
   },
   {
    "duration": 28,
    "start_time": "2024-05-18T14:47:57.388Z"
   },
   {
    "duration": 60,
    "start_time": "2024-05-18T14:47:57.418Z"
   },
   {
    "duration": 50,
    "start_time": "2024-05-18T14:47:57.485Z"
   },
   {
    "duration": 311,
    "start_time": "2024-05-18T14:47:57.537Z"
   },
   {
    "duration": 106,
    "start_time": "2024-05-18T14:47:57.849Z"
   },
   {
    "duration": 30,
    "start_time": "2024-05-18T14:49:55.211Z"
   },
   {
    "duration": 51,
    "start_time": "2024-05-18T14:50:35.375Z"
   },
   {
    "duration": 29,
    "start_time": "2024-05-18T14:54:56.406Z"
   },
   {
    "duration": 37,
    "start_time": "2024-05-18T14:55:38.883Z"
   },
   {
    "duration": 33,
    "start_time": "2024-05-18T14:55:58.726Z"
   },
   {
    "duration": 33,
    "start_time": "2024-05-18T14:57:17.642Z"
   },
   {
    "duration": 31,
    "start_time": "2024-05-18T14:57:39.366Z"
   },
   {
    "duration": 32,
    "start_time": "2024-05-18T14:59:09.128Z"
   },
   {
    "duration": 32,
    "start_time": "2024-05-18T14:59:30.450Z"
   },
   {
    "duration": 967,
    "start_time": "2024-05-18T15:00:45.888Z"
   },
   {
    "duration": 36,
    "start_time": "2024-05-18T15:01:24.231Z"
   },
   {
    "duration": 37,
    "start_time": "2024-05-18T15:01:49.423Z"
   },
   {
    "duration": 31,
    "start_time": "2024-05-18T15:02:18.923Z"
   },
   {
    "duration": 37,
    "start_time": "2024-05-18T15:04:32.751Z"
   },
   {
    "duration": 1024,
    "start_time": "2024-05-18T15:07:59.709Z"
   },
   {
    "duration": 35,
    "start_time": "2024-05-18T15:09:19.432Z"
   },
   {
    "duration": 3,
    "start_time": "2024-05-18T15:09:50.385Z"
   },
   {
    "duration": 161,
    "start_time": "2024-05-18T15:09:50.392Z"
   },
   {
    "duration": 59,
    "start_time": "2024-05-18T15:09:50.555Z"
   },
   {
    "duration": 70,
    "start_time": "2024-05-18T15:09:50.615Z"
   },
   {
    "duration": 101,
    "start_time": "2024-05-18T15:09:50.686Z"
   },
   {
    "duration": 39,
    "start_time": "2024-05-18T15:09:50.789Z"
   },
   {
    "duration": 37,
    "start_time": "2024-05-18T15:09:50.830Z"
   },
   {
    "duration": 414,
    "start_time": "2024-05-18T15:09:50.885Z"
   },
   {
    "duration": 396,
    "start_time": "2024-05-18T15:09:51.300Z"
   },
   {
    "duration": 757,
    "start_time": "2024-05-18T15:09:51.697Z"
   },
   {
    "duration": 6,
    "start_time": "2024-05-18T15:09:52.456Z"
   },
   {
    "duration": 45,
    "start_time": "2024-05-18T15:09:52.463Z"
   },
   {
    "duration": 720,
    "start_time": "2024-05-18T15:09:52.509Z"
   },
   {
    "duration": 26,
    "start_time": "2024-05-18T15:09:53.230Z"
   },
   {
    "duration": 47,
    "start_time": "2024-05-18T15:09:53.258Z"
   },
   {
    "duration": 26,
    "start_time": "2024-05-18T15:09:53.307Z"
   },
   {
    "duration": 74,
    "start_time": "2024-05-18T15:09:53.335Z"
   },
   {
    "duration": 3,
    "start_time": "2024-05-18T15:09:53.410Z"
   },
   {
    "duration": 72,
    "start_time": "2024-05-18T15:09:53.415Z"
   },
   {
    "duration": 64,
    "start_time": "2024-05-18T15:09:53.488Z"
   },
   {
    "duration": 41,
    "start_time": "2024-05-18T15:09:53.554Z"
   },
   {
    "duration": 410,
    "start_time": "2024-05-18T15:09:53.596Z"
   },
   {
    "duration": 105,
    "start_time": "2024-05-18T15:09:54.007Z"
   },
   {
    "duration": 32,
    "start_time": "2024-05-18T15:11:15.243Z"
   },
   {
    "duration": 30,
    "start_time": "2024-05-18T15:11:21.605Z"
   },
   {
    "duration": 34,
    "start_time": "2024-05-18T15:11:52.441Z"
   },
   {
    "duration": 39,
    "start_time": "2024-05-18T15:12:24.995Z"
   },
   {
    "duration": 37,
    "start_time": "2024-05-18T15:13:13.273Z"
   },
   {
    "duration": 39,
    "start_time": "2024-05-18T15:13:32.605Z"
   },
   {
    "duration": 41,
    "start_time": "2024-05-18T15:13:57.265Z"
   },
   {
    "duration": 43,
    "start_time": "2024-05-18T15:14:29.304Z"
   },
   {
    "duration": 31,
    "start_time": "2024-05-18T15:15:09.196Z"
   },
   {
    "duration": 23,
    "start_time": "2024-05-18T15:34:40.336Z"
   },
   {
    "duration": 3,
    "start_time": "2024-05-18T15:35:10.395Z"
   },
   {
    "duration": 3,
    "start_time": "2024-05-18T15:35:20.936Z"
   },
   {
    "duration": 6619,
    "start_time": "2024-05-18T15:35:26.687Z"
   },
   {
    "duration": 10,
    "start_time": "2024-05-18T15:42:11.927Z"
   },
   {
    "duration": 37,
    "start_time": "2024-05-18T15:44:19.955Z"
   },
   {
    "duration": 42,
    "start_time": "2024-05-18T15:44:40.183Z"
   },
   {
    "duration": 77,
    "start_time": "2024-05-18T15:45:57.286Z"
   },
   {
    "duration": 40,
    "start_time": "2024-05-18T15:47:25.104Z"
   },
   {
    "duration": 40,
    "start_time": "2024-05-18T15:47:48.887Z"
   },
   {
    "duration": 40,
    "start_time": "2024-05-18T15:52:27.187Z"
   },
   {
    "duration": 9,
    "start_time": "2024-05-18T15:54:19.077Z"
   },
   {
    "duration": 47,
    "start_time": "2024-05-18T15:54:45.749Z"
   },
   {
    "duration": 96,
    "start_time": "2024-05-18T15:54:52.349Z"
   },
   {
    "duration": 46,
    "start_time": "2024-05-18T16:26:22.183Z"
   },
   {
    "duration": 42,
    "start_time": "2024-05-18T16:26:54.871Z"
   },
   {
    "duration": 116,
    "start_time": "2024-05-18T16:27:20.804Z"
   },
   {
    "duration": 56,
    "start_time": "2024-05-18T16:28:06.422Z"
   },
   {
    "duration": 99,
    "start_time": "2024-05-18T16:28:25.943Z"
   },
   {
    "duration": 889,
    "start_time": "2024-05-18T16:29:35.822Z"
   },
   {
    "duration": 443,
    "start_time": "2024-05-18T16:31:39.342Z"
   },
   {
    "duration": 3,
    "start_time": "2024-05-18T16:33:37.090Z"
   },
   {
    "duration": 3,
    "start_time": "2024-05-18T16:35:56.520Z"
   },
   {
    "duration": 3,
    "start_time": "2024-05-18T16:36:36.285Z"
   },
   {
    "duration": 3,
    "start_time": "2024-05-18T16:36:55.097Z"
   },
   {
    "duration": 3,
    "start_time": "2024-05-18T16:37:28.205Z"
   },
   {
    "duration": 3,
    "start_time": "2024-05-18T16:37:47.623Z"
   },
   {
    "duration": 3,
    "start_time": "2024-05-18T16:37:59.185Z"
   },
   {
    "duration": 3,
    "start_time": "2024-05-18T16:38:11.546Z"
   },
   {
    "duration": 1278,
    "start_time": "2024-05-18T16:59:57.923Z"
   },
   {
    "duration": 7,
    "start_time": "2024-05-18T17:01:03.772Z"
   },
   {
    "duration": 7,
    "start_time": "2024-05-18T17:02:01.028Z"
   },
   {
    "duration": 181,
    "start_time": "2024-05-18T17:12:26.039Z"
   },
   {
    "duration": 9,
    "start_time": "2024-05-18T17:18:25.665Z"
   },
   {
    "duration": 65,
    "start_time": "2024-05-18T17:19:02.172Z"
   },
   {
    "duration": 5,
    "start_time": "2024-05-18T17:19:06.264Z"
   },
   {
    "duration": 5,
    "start_time": "2024-05-18T17:19:43.385Z"
   },
   {
    "duration": 7,
    "start_time": "2024-05-18T17:19:57.661Z"
   },
   {
    "duration": 11,
    "start_time": "2024-05-18T17:23:05.718Z"
   },
   {
    "duration": 70,
    "start_time": "2024-05-18T17:24:39.076Z"
   },
   {
    "duration": 228,
    "start_time": "2024-05-18T17:24:58.117Z"
   },
   {
    "duration": 379,
    "start_time": "2024-05-18T17:25:23.905Z"
   },
   {
    "duration": 9,
    "start_time": "2024-05-18T17:26:05.121Z"
   },
   {
    "duration": 8,
    "start_time": "2024-05-18T17:26:56.001Z"
   },
   {
    "duration": 10,
    "start_time": "2024-05-18T17:27:06.670Z"
   },
   {
    "duration": 10,
    "start_time": "2024-05-18T17:27:32.838Z"
   },
   {
    "duration": 9,
    "start_time": "2024-05-18T17:28:17.684Z"
   },
   {
    "duration": 39,
    "start_time": "2024-05-18T17:29:31.678Z"
   },
   {
    "duration": 17,
    "start_time": "2024-05-18T17:31:07.110Z"
   },
   {
    "duration": 7,
    "start_time": "2024-05-18T17:37:00.466Z"
   },
   {
    "duration": 3,
    "start_time": "2024-05-18T17:37:28.743Z"
   },
   {
    "duration": 3,
    "start_time": "2024-05-18T17:40:45.505Z"
   },
   {
    "duration": 5,
    "start_time": "2024-05-18T17:41:06.744Z"
   },
   {
    "duration": 8,
    "start_time": "2024-05-18T17:46:27.319Z"
   },
   {
    "duration": 4,
    "start_time": "2024-05-18T17:50:51.846Z"
   },
   {
    "duration": 482,
    "start_time": "2024-05-18T17:50:55.179Z"
   },
   {
    "duration": 15,
    "start_time": "2024-05-18T17:51:52.975Z"
   },
   {
    "duration": 376,
    "start_time": "2024-05-18T17:52:18.047Z"
   },
   {
    "duration": 401,
    "start_time": "2024-05-18T17:52:58.567Z"
   },
   {
    "duration": 470,
    "start_time": "2024-05-18T17:53:15.935Z"
   },
   {
    "duration": 404,
    "start_time": "2024-05-18T17:54:04.859Z"
   },
   {
    "duration": 924,
    "start_time": "2024-05-18T17:54:14.087Z"
   },
   {
    "duration": 966,
    "start_time": "2024-05-18T17:55:54.697Z"
   },
   {
    "duration": 13,
    "start_time": "2024-05-18T17:56:04.879Z"
   },
   {
    "duration": 517,
    "start_time": "2024-05-18T17:58:04.522Z"
   },
   {
    "duration": 474,
    "start_time": "2024-05-18T17:58:37.799Z"
   },
   {
    "duration": 501,
    "start_time": "2024-05-18T17:58:56.479Z"
   },
   {
    "duration": 13,
    "start_time": "2024-05-18T17:59:12.161Z"
   },
   {
    "duration": 402,
    "start_time": "2024-05-18T18:00:15.199Z"
   },
   {
    "duration": 360,
    "start_time": "2024-05-18T18:06:11.329Z"
   },
   {
    "duration": 496,
    "start_time": "2024-05-18T18:07:00.898Z"
   },
   {
    "duration": 428,
    "start_time": "2024-05-18T18:07:39.850Z"
   },
   {
    "duration": 208,
    "start_time": "2024-05-18T18:08:12.240Z"
   },
   {
    "duration": 393,
    "start_time": "2024-05-18T18:08:19.053Z"
   },
   {
    "duration": 524,
    "start_time": "2024-05-18T18:08:54.131Z"
   },
   {
    "duration": 395,
    "start_time": "2024-05-18T18:09:36.064Z"
   },
   {
    "duration": 8,
    "start_time": "2024-05-18T18:09:37.160Z"
   },
   {
    "duration": 8,
    "start_time": "2024-05-18T18:10:33.844Z"
   },
   {
    "duration": 3,
    "start_time": "2024-05-18T18:14:56.513Z"
   },
   {
    "duration": 16,
    "start_time": "2024-05-18T18:16:11.656Z"
   },
   {
    "duration": 17,
    "start_time": "2024-05-18T18:17:15.797Z"
   },
   {
    "duration": 18,
    "start_time": "2024-05-18T18:17:49.739Z"
   },
   {
    "duration": 22,
    "start_time": "2024-05-18T18:24:58.631Z"
   },
   {
    "duration": 66,
    "start_time": "2024-05-18T18:25:14.942Z"
   },
   {
    "duration": 32,
    "start_time": "2024-05-18T18:25:18.792Z"
   },
   {
    "duration": 41,
    "start_time": "2024-05-18T18:25:47.794Z"
   },
   {
    "duration": 32,
    "start_time": "2024-05-18T18:26:51.395Z"
   },
   {
    "duration": 28,
    "start_time": "2024-05-18T18:27:04.687Z"
   },
   {
    "duration": 51,
    "start_time": "2024-05-18T18:28:42.936Z"
   },
   {
    "duration": 64,
    "start_time": "2024-05-18T18:34:56.275Z"
   },
   {
    "duration": 54,
    "start_time": "2024-05-18T18:35:15.939Z"
   },
   {
    "duration": 60,
    "start_time": "2024-05-18T18:35:31.270Z"
   },
   {
    "duration": 70,
    "start_time": "2024-05-18T18:36:02.167Z"
   },
   {
    "duration": 62,
    "start_time": "2024-05-18T18:36:14.066Z"
   },
   {
    "duration": 26,
    "start_time": "2024-05-18T18:43:10.326Z"
   },
   {
    "duration": 4,
    "start_time": "2024-05-18T18:52:20.185Z"
   },
   {
    "duration": 26,
    "start_time": "2024-05-18T18:52:27.505Z"
   },
   {
    "duration": 27,
    "start_time": "2024-05-18T18:52:53.771Z"
   },
   {
    "duration": 27,
    "start_time": "2024-05-18T18:55:44.020Z"
   },
   {
    "duration": 37,
    "start_time": "2024-05-18T18:56:11.143Z"
   },
   {
    "duration": 3,
    "start_time": "2024-05-18T18:57:14.683Z"
   },
   {
    "duration": 4,
    "start_time": "2024-05-18T18:57:35.253Z"
   },
   {
    "duration": 9,
    "start_time": "2024-05-18T18:57:45.380Z"
   },
   {
    "duration": 9,
    "start_time": "2024-05-18T18:58:17.038Z"
   },
   {
    "duration": 30,
    "start_time": "2024-05-18T18:58:19.657Z"
   },
   {
    "duration": 61,
    "start_time": "2024-05-18T18:58:53.283Z"
   },
   {
    "duration": 59,
    "start_time": "2024-05-18T18:59:09.473Z"
   },
   {
    "duration": 59,
    "start_time": "2024-05-18T18:59:37.232Z"
   },
   {
    "duration": 26,
    "start_time": "2024-05-18T18:59:43.511Z"
   },
   {
    "duration": 9,
    "start_time": "2024-05-18T18:59:44.203Z"
   },
   {
    "duration": 4,
    "start_time": "2024-05-18T19:13:17.158Z"
   },
   {
    "duration": 3,
    "start_time": "2024-05-18T19:13:29.882Z"
   },
   {
    "duration": 8,
    "start_time": "2024-05-18T19:14:18.110Z"
   },
   {
    "duration": 7,
    "start_time": "2024-05-18T19:15:11.741Z"
   },
   {
    "duration": 47,
    "start_time": "2024-05-18T19:26:10.212Z"
   },
   {
    "duration": 46,
    "start_time": "2024-05-18T19:26:57.717Z"
   },
   {
    "duration": 122,
    "start_time": "2024-05-18T19:27:17.746Z"
   },
   {
    "duration": 4,
    "start_time": "2024-05-18T19:28:14.377Z"
   },
   {
    "duration": 8,
    "start_time": "2024-05-18T19:28:16.489Z"
   },
   {
    "duration": 121,
    "start_time": "2024-05-18T19:28:16.903Z"
   },
   {
    "duration": 124,
    "start_time": "2024-05-18T19:30:35.315Z"
   },
   {
    "duration": 45,
    "start_time": "2024-05-18T19:30:49.074Z"
   },
   {
    "duration": 118,
    "start_time": "2024-05-18T19:30:57.422Z"
   },
   {
    "duration": 118,
    "start_time": "2024-05-18T19:31:43.721Z"
   },
   {
    "duration": 126,
    "start_time": "2024-05-18T19:32:12.433Z"
   },
   {
    "duration": 3,
    "start_time": "2024-05-18T20:58:42.694Z"
   },
   {
    "duration": 150,
    "start_time": "2024-05-18T20:58:42.709Z"
   },
   {
    "duration": 77,
    "start_time": "2024-05-18T20:58:42.860Z"
   },
   {
    "duration": 73,
    "start_time": "2024-05-18T20:58:42.938Z"
   },
   {
    "duration": 98,
    "start_time": "2024-05-18T20:58:43.013Z"
   },
   {
    "duration": 43,
    "start_time": "2024-05-18T20:58:43.113Z"
   },
   {
    "duration": 51,
    "start_time": "2024-05-18T20:58:43.157Z"
   },
   {
    "duration": 383,
    "start_time": "2024-05-18T20:58:43.209Z"
   },
   {
    "duration": 321,
    "start_time": "2024-05-18T20:58:43.593Z"
   },
   {
    "duration": 815,
    "start_time": "2024-05-18T20:58:43.916Z"
   },
   {
    "duration": 6,
    "start_time": "2024-05-18T20:58:44.733Z"
   },
   {
    "duration": 45,
    "start_time": "2024-05-18T20:58:44.740Z"
   },
   {
    "duration": 737,
    "start_time": "2024-05-18T20:58:44.786Z"
   },
   {
    "duration": 23,
    "start_time": "2024-05-18T20:58:45.525Z"
   },
   {
    "duration": 54,
    "start_time": "2024-05-18T20:58:45.551Z"
   },
   {
    "duration": 24,
    "start_time": "2024-05-18T20:58:45.606Z"
   },
   {
    "duration": 55,
    "start_time": "2024-05-18T20:58:45.631Z"
   },
   {
    "duration": 3,
    "start_time": "2024-05-18T20:58:45.687Z"
   },
   {
    "duration": 37,
    "start_time": "2024-05-18T20:58:45.691Z"
   },
   {
    "duration": 60,
    "start_time": "2024-05-18T20:58:45.729Z"
   },
   {
    "duration": 30,
    "start_time": "2024-05-18T20:58:45.790Z"
   },
   {
    "duration": 321,
    "start_time": "2024-05-18T20:58:45.821Z"
   },
   {
    "duration": 96,
    "start_time": "2024-05-18T20:58:46.143Z"
   },
   {
    "duration": 11,
    "start_time": "2024-05-18T20:58:46.240Z"
   },
   {
    "duration": 58,
    "start_time": "2024-05-18T20:58:46.252Z"
   },
   {
    "duration": 102,
    "start_time": "2024-05-18T20:58:46.311Z"
   },
   {
    "duration": 11,
    "start_time": "2024-05-18T20:58:46.414Z"
   },
   {
    "duration": 37,
    "start_time": "2024-05-18T20:58:46.426Z"
   },
   {
    "duration": 20,
    "start_time": "2024-05-18T20:58:46.465Z"
   },
   {
    "duration": 524,
    "start_time": "2024-05-18T20:58:46.487Z"
   },
   {
    "duration": 7,
    "start_time": "2024-05-18T20:58:47.012Z"
   },
   {
    "duration": 84,
    "start_time": "2024-05-18T20:58:47.020Z"
   },
   {
    "duration": 26,
    "start_time": "2024-05-18T20:58:47.105Z"
   },
   {
    "duration": 14,
    "start_time": "2024-05-18T20:58:47.132Z"
   },
   {
    "duration": 15,
    "start_time": "2024-05-18T20:58:47.148Z"
   },
   {
    "duration": 125,
    "start_time": "2024-05-18T20:58:47.164Z"
   },
   {
    "duration": 128,
    "start_time": "2024-05-18T20:58:47.290Z"
   },
   {
    "duration": 141,
    "start_time": "2024-05-18T20:58:47.419Z"
   },
   {
    "duration": 3,
    "start_time": "2024-05-18T21:00:16.414Z"
   },
   {
    "duration": 118,
    "start_time": "2024-05-18T21:00:17.946Z"
   },
   {
    "duration": 118,
    "start_time": "2024-05-18T21:00:18.451Z"
   },
   {
    "duration": 122,
    "start_time": "2024-05-18T21:00:18.970Z"
   },
   {
    "duration": 3,
    "start_time": "2024-05-18T21:02:43.492Z"
   },
   {
    "duration": 136,
    "start_time": "2024-05-18T21:02:44.456Z"
   },
   {
    "duration": 135,
    "start_time": "2024-05-18T21:02:44.593Z"
   },
   {
    "duration": 120,
    "start_time": "2024-05-18T21:02:44.740Z"
   },
   {
    "duration": 3,
    "start_time": "2024-05-18T21:03:57.315Z"
   },
   {
    "duration": 116,
    "start_time": "2024-05-18T21:03:57.832Z"
   },
   {
    "duration": 119,
    "start_time": "2024-05-18T21:03:58.044Z"
   },
   {
    "duration": 131,
    "start_time": "2024-05-18T21:03:58.166Z"
   },
   {
    "duration": 4,
    "start_time": "2024-05-18T21:05:03.649Z"
   },
   {
    "duration": 124,
    "start_time": "2024-05-18T21:05:04.011Z"
   },
   {
    "duration": 123,
    "start_time": "2024-05-18T21:05:04.275Z"
   },
   {
    "duration": 125,
    "start_time": "2024-05-18T21:05:05.012Z"
   },
   {
    "duration": 3,
    "start_time": "2024-05-18T21:23:57.189Z"
   },
   {
    "duration": 132,
    "start_time": "2024-05-18T21:23:58.089Z"
   },
   {
    "duration": 130,
    "start_time": "2024-05-18T21:23:58.246Z"
   },
   {
    "duration": 122,
    "start_time": "2024-05-18T21:23:58.430Z"
   },
   {
    "duration": 67,
    "start_time": "2024-05-18T22:44:23.201Z"
   },
   {
    "duration": 93,
    "start_time": "2024-05-18T22:46:33.181Z"
   },
   {
    "duration": 47,
    "start_time": "2024-05-18T22:46:59.481Z"
   },
   {
    "duration": 37,
    "start_time": "2024-05-18T22:48:02.820Z"
   },
   {
    "duration": 41,
    "start_time": "2024-05-18T22:48:18.361Z"
   },
   {
    "duration": 35,
    "start_time": "2024-05-18T22:50:09.740Z"
   },
   {
    "duration": 41,
    "start_time": "2024-05-18T22:50:29.974Z"
   },
   {
    "duration": 83,
    "start_time": "2024-05-18T22:51:15.012Z"
   },
   {
    "duration": 88,
    "start_time": "2024-05-18T22:51:34.019Z"
   },
   {
    "duration": 3,
    "start_time": "2024-05-18T22:51:41.261Z"
   },
   {
    "duration": 168,
    "start_time": "2024-05-18T22:51:41.265Z"
   },
   {
    "duration": 63,
    "start_time": "2024-05-18T22:51:41.435Z"
   },
   {
    "duration": 62,
    "start_time": "2024-05-18T22:51:41.500Z"
   },
   {
    "duration": 107,
    "start_time": "2024-05-18T22:51:41.564Z"
   },
   {
    "duration": 44,
    "start_time": "2024-05-18T22:51:41.673Z"
   },
   {
    "duration": 85,
    "start_time": "2024-05-18T22:51:41.718Z"
   },
   {
    "duration": 412,
    "start_time": "2024-05-18T22:51:41.804Z"
   },
   {
    "duration": 345,
    "start_time": "2024-05-18T22:51:42.218Z"
   },
   {
    "duration": 841,
    "start_time": "2024-05-18T22:51:42.564Z"
   },
   {
    "duration": 7,
    "start_time": "2024-05-18T22:51:43.406Z"
   },
   {
    "duration": 71,
    "start_time": "2024-05-18T22:51:43.414Z"
   },
   {
    "duration": 727,
    "start_time": "2024-05-18T22:51:43.486Z"
   },
   {
    "duration": 25,
    "start_time": "2024-05-18T22:51:44.215Z"
   },
   {
    "duration": 30,
    "start_time": "2024-05-18T22:51:44.242Z"
   },
   {
    "duration": 26,
    "start_time": "2024-05-18T22:51:44.284Z"
   },
   {
    "duration": 47,
    "start_time": "2024-05-18T22:51:44.311Z"
   },
   {
    "duration": 3,
    "start_time": "2024-05-18T22:51:44.360Z"
   },
   {
    "duration": 89,
    "start_time": "2024-05-18T22:51:44.364Z"
   },
   {
    "duration": 32,
    "start_time": "2024-05-18T22:51:44.455Z"
   },
   {
    "duration": 59,
    "start_time": "2024-05-18T22:51:44.489Z"
   },
   {
    "duration": 45,
    "start_time": "2024-05-18T22:51:44.549Z"
   },
   {
    "duration": 355,
    "start_time": "2024-05-18T22:51:44.595Z"
   },
   {
    "duration": 102,
    "start_time": "2024-05-18T22:51:44.951Z"
   },
   {
    "duration": 13,
    "start_time": "2024-05-18T22:51:45.054Z"
   },
   {
    "duration": 54,
    "start_time": "2024-05-18T22:51:45.068Z"
   },
   {
    "duration": 112,
    "start_time": "2024-05-18T22:51:45.123Z"
   },
   {
    "duration": 14,
    "start_time": "2024-05-18T22:51:45.236Z"
   },
   {
    "duration": 69,
    "start_time": "2024-05-18T22:51:45.251Z"
   },
   {
    "duration": 46,
    "start_time": "2024-05-18T22:51:45.322Z"
   },
   {
    "duration": 398,
    "start_time": "2024-05-18T22:51:45.369Z"
   },
   {
    "duration": 20,
    "start_time": "2024-05-18T22:51:45.768Z"
   },
   {
    "duration": 64,
    "start_time": "2024-05-18T22:51:45.789Z"
   },
   {
    "duration": 38,
    "start_time": "2024-05-18T22:51:45.854Z"
   },
   {
    "duration": 105,
    "start_time": "2024-05-18T22:51:45.893Z"
   },
   {
    "duration": 6,
    "start_time": "2024-05-18T22:51:45.999Z"
   },
   {
    "duration": 130,
    "start_time": "2024-05-18T22:51:46.006Z"
   },
   {
    "duration": 263,
    "start_time": "2024-05-18T22:51:46.137Z"
   },
   {
    "duration": 133,
    "start_time": "2024-05-18T22:51:46.402Z"
   },
   {
    "duration": 77,
    "start_time": "2024-05-18T22:56:02.627Z"
   },
   {
    "duration": 84,
    "start_time": "2024-05-18T22:56:53.374Z"
   },
   {
    "duration": 3,
    "start_time": "2024-05-18T22:57:04.816Z"
   },
   {
    "duration": 148,
    "start_time": "2024-05-18T22:57:04.821Z"
   },
   {
    "duration": 60,
    "start_time": "2024-05-18T22:57:04.970Z"
   },
   {
    "duration": 72,
    "start_time": "2024-05-18T22:57:05.032Z"
   },
   {
    "duration": 100,
    "start_time": "2024-05-18T22:57:05.106Z"
   },
   {
    "duration": 44,
    "start_time": "2024-05-18T22:57:05.208Z"
   },
   {
    "duration": 50,
    "start_time": "2024-05-18T22:57:05.253Z"
   },
   {
    "duration": 403,
    "start_time": "2024-05-18T22:57:05.305Z"
   },
   {
    "duration": 352,
    "start_time": "2024-05-18T22:57:05.709Z"
   },
   {
    "duration": 699,
    "start_time": "2024-05-18T22:57:06.062Z"
   },
   {
    "duration": 6,
    "start_time": "2024-05-18T22:57:06.762Z"
   },
   {
    "duration": 43,
    "start_time": "2024-05-18T22:57:06.769Z"
   },
   {
    "duration": 815,
    "start_time": "2024-05-18T22:57:06.814Z"
   },
   {
    "duration": 26,
    "start_time": "2024-05-18T22:57:07.631Z"
   },
   {
    "duration": 40,
    "start_time": "2024-05-18T22:57:07.658Z"
   },
   {
    "duration": 70,
    "start_time": "2024-05-18T22:57:07.699Z"
   },
   {
    "duration": 48,
    "start_time": "2024-05-18T22:57:07.770Z"
   },
   {
    "duration": 3,
    "start_time": "2024-05-18T22:57:07.819Z"
   },
   {
    "duration": 154,
    "start_time": "2024-05-18T22:57:07.824Z"
   },
   {
    "duration": 47,
    "start_time": "2024-05-18T22:57:07.980Z"
   },
   {
    "duration": 56,
    "start_time": "2024-05-18T22:57:08.028Z"
   },
   {
    "duration": 31,
    "start_time": "2024-05-18T22:57:08.085Z"
   },
   {
    "duration": 323,
    "start_time": "2024-05-18T22:57:08.117Z"
   },
   {
    "duration": 102,
    "start_time": "2024-05-18T22:57:08.441Z"
   },
   {
    "duration": 12,
    "start_time": "2024-05-18T22:57:08.544Z"
   },
   {
    "duration": 49,
    "start_time": "2024-05-18T22:57:08.558Z"
   },
   {
    "duration": 114,
    "start_time": "2024-05-18T22:57:08.608Z"
   },
   {
    "duration": 11,
    "start_time": "2024-05-18T22:57:08.723Z"
   },
   {
    "duration": 43,
    "start_time": "2024-05-18T22:57:08.736Z"
   },
   {
    "duration": 41,
    "start_time": "2024-05-18T22:57:08.780Z"
   },
   {
    "duration": 381,
    "start_time": "2024-05-18T22:57:08.822Z"
   },
   {
    "duration": 7,
    "start_time": "2024-05-18T22:57:09.204Z"
   },
   {
    "duration": 57,
    "start_time": "2024-05-18T22:57:09.212Z"
   },
   {
    "duration": 26,
    "start_time": "2024-05-18T22:57:09.284Z"
   },
   {
    "duration": 9,
    "start_time": "2024-05-18T22:57:09.311Z"
   },
   {
    "duration": 4,
    "start_time": "2024-05-18T22:57:09.321Z"
   },
   {
    "duration": 137,
    "start_time": "2024-05-18T22:57:09.326Z"
   },
   {
    "duration": 139,
    "start_time": "2024-05-18T22:57:09.464Z"
   },
   {
    "duration": 133,
    "start_time": "2024-05-18T22:57:09.604Z"
   },
   {
    "duration": 4,
    "start_time": "2024-05-18T22:58:06.504Z"
   },
   {
    "duration": 168,
    "start_time": "2024-05-18T22:58:06.509Z"
   },
   {
    "duration": 65,
    "start_time": "2024-05-18T22:58:06.678Z"
   },
   {
    "duration": 75,
    "start_time": "2024-05-18T22:58:06.745Z"
   },
   {
    "duration": 95,
    "start_time": "2024-05-18T22:58:06.821Z"
   },
   {
    "duration": 43,
    "start_time": "2024-05-18T22:58:06.917Z"
   },
   {
    "duration": 45,
    "start_time": "2024-05-18T22:58:06.961Z"
   },
   {
    "duration": 390,
    "start_time": "2024-05-18T22:58:07.007Z"
   },
   {
    "duration": 325,
    "start_time": "2024-05-18T22:58:07.398Z"
   },
   {
    "duration": 816,
    "start_time": "2024-05-18T22:58:07.725Z"
   },
   {
    "duration": 8,
    "start_time": "2024-05-18T22:58:08.542Z"
   },
   {
    "duration": 47,
    "start_time": "2024-05-18T22:58:08.551Z"
   },
   {
    "duration": 702,
    "start_time": "2024-05-18T22:58:08.601Z"
   },
   {
    "duration": 26,
    "start_time": "2024-05-18T22:58:09.305Z"
   },
   {
    "duration": 31,
    "start_time": "2024-05-18T22:58:09.333Z"
   },
   {
    "duration": 43,
    "start_time": "2024-05-18T22:58:09.366Z"
   },
   {
    "duration": 50,
    "start_time": "2024-05-18T22:58:09.410Z"
   },
   {
    "duration": 4,
    "start_time": "2024-05-18T22:58:09.461Z"
   },
   {
    "duration": 107,
    "start_time": "2024-05-18T22:58:09.466Z"
   },
   {
    "duration": 33,
    "start_time": "2024-05-18T22:58:09.575Z"
   },
   {
    "duration": 57,
    "start_time": "2024-05-18T22:58:09.610Z"
   },
   {
    "duration": 55,
    "start_time": "2024-05-18T22:58:09.669Z"
   },
   {
    "duration": 334,
    "start_time": "2024-05-18T22:58:09.726Z"
   },
   {
    "duration": 97,
    "start_time": "2024-05-18T22:58:10.061Z"
   },
   {
    "duration": 12,
    "start_time": "2024-05-18T22:58:10.159Z"
   },
   {
    "duration": 50,
    "start_time": "2024-05-18T22:58:10.172Z"
   },
   {
    "duration": 106,
    "start_time": "2024-05-18T22:58:10.224Z"
   },
   {
    "duration": 12,
    "start_time": "2024-05-18T22:58:10.331Z"
   },
   {
    "duration": 4,
    "start_time": "2024-05-18T22:58:10.344Z"
   },
   {
    "duration": 12,
    "start_time": "2024-05-18T22:58:10.349Z"
   },
   {
    "duration": 529,
    "start_time": "2024-05-18T22:58:10.362Z"
   },
   {
    "duration": 8,
    "start_time": "2024-05-18T22:58:10.893Z"
   },
   {
    "duration": 106,
    "start_time": "2024-05-18T22:58:10.902Z"
   },
   {
    "duration": 25,
    "start_time": "2024-05-18T22:58:11.010Z"
   },
   {
    "duration": 9,
    "start_time": "2024-05-18T22:58:11.037Z"
   },
   {
    "duration": 4,
    "start_time": "2024-05-18T22:58:11.047Z"
   },
   {
    "duration": 140,
    "start_time": "2024-05-18T22:58:11.054Z"
   },
   {
    "duration": 127,
    "start_time": "2024-05-18T22:58:11.196Z"
   },
   {
    "duration": 134,
    "start_time": "2024-05-18T22:58:11.325Z"
   },
   {
    "duration": 4,
    "start_time": "2024-05-18T22:58:28.889Z"
   },
   {
    "duration": 155,
    "start_time": "2024-05-18T22:58:28.894Z"
   },
   {
    "duration": 69,
    "start_time": "2024-05-18T22:58:29.051Z"
   },
   {
    "duration": 63,
    "start_time": "2024-05-18T22:58:29.122Z"
   },
   {
    "duration": 84,
    "start_time": "2024-05-18T22:58:29.187Z"
   },
   {
    "duration": 48,
    "start_time": "2024-05-18T22:58:29.272Z"
   },
   {
    "duration": 38,
    "start_time": "2024-05-18T22:58:29.322Z"
   },
   {
    "duration": 393,
    "start_time": "2024-05-18T22:58:29.361Z"
   },
   {
    "duration": 329,
    "start_time": "2024-05-18T22:58:29.755Z"
   },
   {
    "duration": 828,
    "start_time": "2024-05-18T22:58:30.086Z"
   },
   {
    "duration": 6,
    "start_time": "2024-05-18T22:58:30.915Z"
   },
   {
    "duration": 66,
    "start_time": "2024-05-18T22:58:30.923Z"
   },
   {
    "duration": 720,
    "start_time": "2024-05-18T22:58:30.991Z"
   },
   {
    "duration": 25,
    "start_time": "2024-05-18T22:58:31.714Z"
   },
   {
    "duration": 95,
    "start_time": "2024-05-18T22:58:31.740Z"
   },
   {
    "duration": 25,
    "start_time": "2024-05-18T22:58:31.836Z"
   },
   {
    "duration": 238,
    "start_time": "2024-05-18T22:58:31.862Z"
   },
   {
    "duration": 4,
    "start_time": "2024-05-18T22:58:32.101Z"
   },
   {
    "duration": 118,
    "start_time": "2024-05-18T22:58:32.106Z"
   },
   {
    "duration": 27,
    "start_time": "2024-05-18T22:58:32.225Z"
   },
   {
    "duration": 73,
    "start_time": "2024-05-18T22:58:32.253Z"
   },
   {
    "duration": 32,
    "start_time": "2024-05-18T22:58:32.327Z"
   },
   {
    "duration": 304,
    "start_time": "2024-05-18T22:58:32.360Z"
   },
   {
    "duration": 115,
    "start_time": "2024-05-18T22:58:32.665Z"
   },
   {
    "duration": 12,
    "start_time": "2024-05-18T22:58:32.784Z"
   },
   {
    "duration": 52,
    "start_time": "2024-05-18T22:58:32.797Z"
   },
   {
    "duration": 106,
    "start_time": "2024-05-18T22:58:32.850Z"
   },
   {
    "duration": 12,
    "start_time": "2024-05-18T22:58:32.957Z"
   },
   {
    "duration": 14,
    "start_time": "2024-05-18T22:58:32.970Z"
   },
   {
    "duration": 7,
    "start_time": "2024-05-18T22:58:32.986Z"
   },
   {
    "duration": 384,
    "start_time": "2024-05-18T22:58:32.994Z"
   },
   {
    "duration": 10,
    "start_time": "2024-05-18T22:58:33.379Z"
   },
   {
    "duration": 67,
    "start_time": "2024-05-18T22:58:33.391Z"
   },
   {
    "duration": 36,
    "start_time": "2024-05-18T22:58:33.459Z"
   },
   {
    "duration": 10,
    "start_time": "2024-05-18T22:58:33.496Z"
   },
   {
    "duration": 3,
    "start_time": "2024-05-18T22:58:33.507Z"
   },
   {
    "duration": 139,
    "start_time": "2024-05-18T22:58:33.511Z"
   },
   {
    "duration": 257,
    "start_time": "2024-05-18T22:58:33.652Z"
   },
   {
    "duration": 129,
    "start_time": "2024-05-18T22:58:33.911Z"
   },
   {
    "duration": 97,
    "start_time": "2024-05-18T23:02:49.335Z"
   },
   {
    "duration": 4,
    "start_time": "2024-05-18T23:06:06.847Z"
   },
   {
    "duration": 154,
    "start_time": "2024-05-18T23:06:06.852Z"
   },
   {
    "duration": 56,
    "start_time": "2024-05-18T23:06:07.008Z"
   },
   {
    "duration": 70,
    "start_time": "2024-05-18T23:06:07.065Z"
   },
   {
    "duration": 94,
    "start_time": "2024-05-18T23:06:07.137Z"
   },
   {
    "duration": 42,
    "start_time": "2024-05-18T23:06:07.233Z"
   },
   {
    "duration": 40,
    "start_time": "2024-05-18T23:06:07.277Z"
   },
   {
    "duration": 375,
    "start_time": "2024-05-18T23:06:07.318Z"
   },
   {
    "duration": 320,
    "start_time": "2024-05-18T23:06:07.694Z"
   },
   {
    "duration": 702,
    "start_time": "2024-05-18T23:06:08.015Z"
   },
   {
    "duration": 7,
    "start_time": "2024-05-18T23:06:08.719Z"
   },
   {
    "duration": 56,
    "start_time": "2024-05-18T23:06:08.727Z"
   },
   {
    "duration": 840,
    "start_time": "2024-05-18T23:06:08.784Z"
   },
   {
    "duration": 24,
    "start_time": "2024-05-18T23:06:09.627Z"
   },
   {
    "duration": 39,
    "start_time": "2024-05-18T23:06:09.652Z"
   },
   {
    "duration": 102,
    "start_time": "2024-05-18T23:06:09.692Z"
   },
   {
    "duration": 59,
    "start_time": "2024-05-18T23:06:09.796Z"
   },
   {
    "duration": 4,
    "start_time": "2024-05-18T23:06:09.856Z"
   },
   {
    "duration": 243,
    "start_time": "2024-05-18T23:06:09.861Z"
   },
   {
    "duration": 104,
    "start_time": "2024-05-18T23:06:10.105Z"
   },
   {
    "duration": 0,
    "start_time": "2024-05-18T23:06:10.211Z"
   },
   {
    "duration": 0,
    "start_time": "2024-05-18T23:06:10.212Z"
   },
   {
    "duration": 0,
    "start_time": "2024-05-18T23:06:10.213Z"
   },
   {
    "duration": 0,
    "start_time": "2024-05-18T23:06:10.214Z"
   },
   {
    "duration": 0,
    "start_time": "2024-05-18T23:06:10.215Z"
   },
   {
    "duration": 0,
    "start_time": "2024-05-18T23:06:10.216Z"
   },
   {
    "duration": 0,
    "start_time": "2024-05-18T23:06:10.217Z"
   },
   {
    "duration": 0,
    "start_time": "2024-05-18T23:06:10.218Z"
   },
   {
    "duration": 0,
    "start_time": "2024-05-18T23:06:10.219Z"
   },
   {
    "duration": 0,
    "start_time": "2024-05-18T23:06:10.220Z"
   },
   {
    "duration": 0,
    "start_time": "2024-05-18T23:06:10.221Z"
   },
   {
    "duration": 0,
    "start_time": "2024-05-18T23:06:10.222Z"
   },
   {
    "duration": 0,
    "start_time": "2024-05-18T23:06:10.223Z"
   },
   {
    "duration": 0,
    "start_time": "2024-05-18T23:06:10.223Z"
   },
   {
    "duration": 0,
    "start_time": "2024-05-18T23:06:10.224Z"
   },
   {
    "duration": 0,
    "start_time": "2024-05-18T23:06:10.225Z"
   },
   {
    "duration": 0,
    "start_time": "2024-05-18T23:06:10.226Z"
   },
   {
    "duration": 0,
    "start_time": "2024-05-18T23:06:10.228Z"
   },
   {
    "duration": 0,
    "start_time": "2024-05-18T23:06:10.228Z"
   },
   {
    "duration": 0,
    "start_time": "2024-05-18T23:06:10.229Z"
   },
   {
    "duration": 4,
    "start_time": "2024-05-18T23:07:23.042Z"
   },
   {
    "duration": 163,
    "start_time": "2024-05-18T23:07:23.048Z"
   },
   {
    "duration": 57,
    "start_time": "2024-05-18T23:07:23.212Z"
   },
   {
    "duration": 71,
    "start_time": "2024-05-18T23:07:23.270Z"
   },
   {
    "duration": 104,
    "start_time": "2024-05-18T23:07:23.342Z"
   },
   {
    "duration": 48,
    "start_time": "2024-05-18T23:07:23.447Z"
   },
   {
    "duration": 39,
    "start_time": "2024-05-18T23:07:23.497Z"
   },
   {
    "duration": 392,
    "start_time": "2024-05-18T23:07:23.537Z"
   },
   {
    "duration": 381,
    "start_time": "2024-05-18T23:07:23.930Z"
   },
   {
    "duration": 826,
    "start_time": "2024-05-18T23:07:24.312Z"
   },
   {
    "duration": 7,
    "start_time": "2024-05-18T23:07:25.139Z"
   },
   {
    "duration": 53,
    "start_time": "2024-05-18T23:07:25.148Z"
   },
   {
    "duration": 719,
    "start_time": "2024-05-18T23:07:25.202Z"
   },
   {
    "duration": 27,
    "start_time": "2024-05-18T23:07:25.923Z"
   },
   {
    "duration": 130,
    "start_time": "2024-05-18T23:07:25.952Z"
   },
   {
    "duration": 26,
    "start_time": "2024-05-18T23:07:26.084Z"
   },
   {
    "duration": 65,
    "start_time": "2024-05-18T23:07:26.112Z"
   },
   {
    "duration": 3,
    "start_time": "2024-05-18T23:07:26.179Z"
   },
   {
    "duration": 82,
    "start_time": "2024-05-18T23:07:30.327Z"
   },
   {
    "duration": 202,
    "start_time": "2024-05-18T23:08:04.031Z"
   },
   {
    "duration": 3,
    "start_time": "2024-05-18T23:15:47.241Z"
   },
   {
    "duration": 154,
    "start_time": "2024-05-18T23:15:47.246Z"
   },
   {
    "duration": 60,
    "start_time": "2024-05-18T23:15:47.401Z"
   },
   {
    "duration": 74,
    "start_time": "2024-05-18T23:15:47.463Z"
   },
   {
    "duration": 94,
    "start_time": "2024-05-18T23:15:47.539Z"
   },
   {
    "duration": 39,
    "start_time": "2024-05-18T23:15:47.635Z"
   },
   {
    "duration": 46,
    "start_time": "2024-05-18T23:15:47.675Z"
   },
   {
    "duration": 493,
    "start_time": "2024-05-18T23:15:47.722Z"
   },
   {
    "duration": 375,
    "start_time": "2024-05-18T23:15:48.216Z"
   },
   {
    "duration": 834,
    "start_time": "2024-05-18T23:15:48.592Z"
   },
   {
    "duration": 6,
    "start_time": "2024-05-18T23:15:49.427Z"
   },
   {
    "duration": 39,
    "start_time": "2024-05-18T23:15:49.435Z"
   },
   {
    "duration": 729,
    "start_time": "2024-05-18T23:15:49.475Z"
   },
   {
    "duration": 25,
    "start_time": "2024-05-18T23:15:50.206Z"
   },
   {
    "duration": 28,
    "start_time": "2024-05-18T23:15:50.232Z"
   },
   {
    "duration": 37,
    "start_time": "2024-05-18T23:15:50.261Z"
   },
   {
    "duration": 46,
    "start_time": "2024-05-18T23:15:50.300Z"
   },
   {
    "duration": 3,
    "start_time": "2024-05-18T23:15:50.347Z"
   },
   {
    "duration": 97,
    "start_time": "2024-05-18T23:15:50.352Z"
   },
   {
    "duration": 0,
    "start_time": "2024-05-18T23:15:50.450Z"
   },
   {
    "duration": 3,
    "start_time": "2024-05-18T23:17:38.481Z"
   },
   {
    "duration": 145,
    "start_time": "2024-05-18T23:17:38.486Z"
   },
   {
    "duration": 65,
    "start_time": "2024-05-18T23:17:38.633Z"
   },
   {
    "duration": 74,
    "start_time": "2024-05-18T23:17:38.699Z"
   },
   {
    "duration": 89,
    "start_time": "2024-05-18T23:17:38.775Z"
   },
   {
    "duration": 47,
    "start_time": "2024-05-18T23:17:38.865Z"
   },
   {
    "duration": 37,
    "start_time": "2024-05-18T23:17:38.914Z"
   },
   {
    "duration": 485,
    "start_time": "2024-05-18T23:17:38.952Z"
   },
   {
    "duration": 328,
    "start_time": "2024-05-18T23:17:39.439Z"
   },
   {
    "duration": 733,
    "start_time": "2024-05-18T23:17:39.768Z"
   },
   {
    "duration": 6,
    "start_time": "2024-05-18T23:17:40.503Z"
   },
   {
    "duration": 38,
    "start_time": "2024-05-18T23:17:40.510Z"
   },
   {
    "duration": 829,
    "start_time": "2024-05-18T23:17:40.550Z"
   },
   {
    "duration": 25,
    "start_time": "2024-05-18T23:17:41.381Z"
   },
   {
    "duration": 28,
    "start_time": "2024-05-18T23:17:41.407Z"
   },
   {
    "duration": 24,
    "start_time": "2024-05-18T23:17:41.436Z"
   },
   {
    "duration": 67,
    "start_time": "2024-05-18T23:17:41.461Z"
   },
   {
    "duration": 4,
    "start_time": "2024-05-18T23:17:41.529Z"
   },
   {
    "duration": 82,
    "start_time": "2024-05-18T23:17:49.188Z"
   },
   {
    "duration": 205,
    "start_time": "2024-05-18T23:18:17.719Z"
   },
   {
    "duration": 201,
    "start_time": "2024-05-18T23:18:46.212Z"
   },
   {
    "duration": 190,
    "start_time": "2024-05-18T23:18:54.460Z"
   },
   {
    "duration": 194,
    "start_time": "2024-05-18T23:19:05.180Z"
   },
   {
    "duration": 220,
    "start_time": "2024-05-18T23:19:12.576Z"
   },
   {
    "duration": 184,
    "start_time": "2024-05-18T23:19:59.560Z"
   },
   {
    "duration": 334,
    "start_time": "2024-05-18T23:22:10.272Z"
   },
   {
    "duration": 213,
    "start_time": "2024-05-18T23:23:00.713Z"
   },
   {
    "duration": 199,
    "start_time": "2024-05-18T23:23:10.021Z"
   },
   {
    "duration": 7,
    "start_time": "2024-05-18T23:27:25.046Z"
   },
   {
    "duration": 13,
    "start_time": "2024-05-18T23:32:00.620Z"
   },
   {
    "duration": 960,
    "start_time": "2024-05-18T23:34:06.622Z"
   },
   {
    "duration": 7,
    "start_time": "2024-05-18T23:34:54.880Z"
   },
   {
    "duration": 10,
    "start_time": "2024-05-18T23:35:33.342Z"
   },
   {
    "duration": 6,
    "start_time": "2024-05-18T23:36:11.322Z"
   },
   {
    "duration": 4,
    "start_time": "2024-05-18T23:36:20.669Z"
   },
   {
    "duration": 8,
    "start_time": "2024-05-18T23:36:24.829Z"
   },
   {
    "duration": 7,
    "start_time": "2024-05-18T23:36:55.910Z"
   },
   {
    "duration": 8,
    "start_time": "2024-05-18T23:37:22.510Z"
   },
   {
    "duration": 3,
    "start_time": "2024-05-19T00:10:59.077Z"
   },
   {
    "duration": 173,
    "start_time": "2024-05-19T00:10:59.081Z"
   },
   {
    "duration": 66,
    "start_time": "2024-05-19T00:10:59.255Z"
   },
   {
    "duration": 72,
    "start_time": "2024-05-19T00:10:59.322Z"
   },
   {
    "duration": 110,
    "start_time": "2024-05-19T00:10:59.396Z"
   },
   {
    "duration": 43,
    "start_time": "2024-05-19T00:10:59.507Z"
   },
   {
    "duration": 55,
    "start_time": "2024-05-19T00:10:59.551Z"
   },
   {
    "duration": 385,
    "start_time": "2024-05-19T00:10:59.607Z"
   },
   {
    "duration": 321,
    "start_time": "2024-05-19T00:10:59.993Z"
   },
   {
    "duration": 846,
    "start_time": "2024-05-19T00:11:00.315Z"
   },
   {
    "duration": 6,
    "start_time": "2024-05-19T00:11:01.164Z"
   },
   {
    "duration": 129,
    "start_time": "2024-05-19T00:11:01.172Z"
   },
   {
    "duration": 722,
    "start_time": "2024-05-19T00:11:01.303Z"
   },
   {
    "duration": 26,
    "start_time": "2024-05-19T00:11:02.026Z"
   },
   {
    "duration": 44,
    "start_time": "2024-05-19T00:11:02.053Z"
   },
   {
    "duration": 27,
    "start_time": "2024-05-19T00:11:02.099Z"
   },
   {
    "duration": 198,
    "start_time": "2024-05-19T00:11:02.127Z"
   },
   {
    "duration": 3,
    "start_time": "2024-05-19T00:11:02.327Z"
   },
   {
    "duration": 95,
    "start_time": "2024-05-19T00:11:02.331Z"
   },
   {
    "duration": 224,
    "start_time": "2024-05-19T00:11:02.427Z"
   },
   {
    "duration": 7,
    "start_time": "2024-05-19T00:11:02.653Z"
   },
   {
    "duration": 24,
    "start_time": "2024-05-19T00:11:02.662Z"
   },
   {
    "duration": 10,
    "start_time": "2024-05-19T00:11:02.688Z"
   },
   {
    "duration": 9,
    "start_time": "2024-05-19T00:11:02.699Z"
   },
   {
    "duration": 34,
    "start_time": "2024-05-19T00:11:02.710Z"
   },
   {
    "duration": 84,
    "start_time": "2024-05-19T00:11:02.748Z"
   },
   {
    "duration": 33,
    "start_time": "2024-05-19T00:11:02.833Z"
   },
   {
    "duration": 308,
    "start_time": "2024-05-19T00:11:02.867Z"
   },
   {
    "duration": 92,
    "start_time": "2024-05-19T00:11:03.184Z"
   },
   {
    "duration": 16,
    "start_time": "2024-05-19T00:11:03.278Z"
   },
   {
    "duration": 47,
    "start_time": "2024-05-19T00:11:03.296Z"
   },
   {
    "duration": 119,
    "start_time": "2024-05-19T00:11:03.344Z"
   },
   {
    "duration": 11,
    "start_time": "2024-05-19T00:11:03.465Z"
   },
   {
    "duration": 9,
    "start_time": "2024-05-19T00:11:03.477Z"
   },
   {
    "duration": 11,
    "start_time": "2024-05-19T00:11:03.488Z"
   },
   {
    "duration": 432,
    "start_time": "2024-05-19T00:11:03.500Z"
   },
   {
    "duration": 8,
    "start_time": "2024-05-19T00:11:03.934Z"
   },
   {
    "duration": 158,
    "start_time": "2024-05-19T00:11:03.943Z"
   },
   {
    "duration": 27,
    "start_time": "2024-05-19T00:11:04.103Z"
   },
   {
    "duration": 161,
    "start_time": "2024-05-19T00:11:04.131Z"
   },
   {
    "duration": 13,
    "start_time": "2024-05-19T00:11:04.294Z"
   },
   {
    "duration": 143,
    "start_time": "2024-05-19T00:11:04.309Z"
   },
   {
    "duration": 143,
    "start_time": "2024-05-19T00:11:04.454Z"
   },
   {
    "duration": 137,
    "start_time": "2024-05-19T00:11:04.599Z"
   },
   {
    "duration": 4,
    "start_time": "2024-05-19T00:34:10.202Z"
   },
   {
    "duration": 184,
    "start_time": "2024-05-19T00:34:10.208Z"
   },
   {
    "duration": 60,
    "start_time": "2024-05-19T00:34:10.394Z"
   },
   {
    "duration": 78,
    "start_time": "2024-05-19T00:34:10.456Z"
   },
   {
    "duration": 105,
    "start_time": "2024-05-19T00:34:10.535Z"
   },
   {
    "duration": 48,
    "start_time": "2024-05-19T00:34:10.641Z"
   },
   {
    "duration": 51,
    "start_time": "2024-05-19T00:34:10.691Z"
   },
   {
    "duration": 545,
    "start_time": "2024-05-19T00:34:10.744Z"
   },
   {
    "duration": 311,
    "start_time": "2024-05-19T00:34:11.291Z"
   },
   {
    "duration": 714,
    "start_time": "2024-05-19T00:34:11.604Z"
   },
   {
    "duration": 6,
    "start_time": "2024-05-19T00:34:12.320Z"
   },
   {
    "duration": 82,
    "start_time": "2024-05-19T00:34:12.328Z"
   },
   {
    "duration": 697,
    "start_time": "2024-05-19T00:34:12.412Z"
   },
   {
    "duration": 35,
    "start_time": "2024-05-19T00:34:13.111Z"
   },
   {
    "duration": 48,
    "start_time": "2024-05-19T00:34:13.147Z"
   },
   {
    "duration": 25,
    "start_time": "2024-05-19T00:34:13.197Z"
   },
   {
    "duration": 52,
    "start_time": "2024-05-19T00:34:13.224Z"
   },
   {
    "duration": 3,
    "start_time": "2024-05-19T00:34:13.285Z"
   },
   {
    "duration": 244,
    "start_time": "2024-05-19T00:34:13.289Z"
   },
   {
    "duration": 217,
    "start_time": "2024-05-19T00:34:13.534Z"
   },
   {
    "duration": 7,
    "start_time": "2024-05-19T00:34:13.753Z"
   },
   {
    "duration": 7,
    "start_time": "2024-05-19T00:34:13.761Z"
   },
   {
    "duration": 21,
    "start_time": "2024-05-19T00:34:13.769Z"
   },
   {
    "duration": 7,
    "start_time": "2024-05-19T00:34:13.792Z"
   },
   {
    "duration": 35,
    "start_time": "2024-05-19T00:34:13.800Z"
   },
   {
    "duration": 64,
    "start_time": "2024-05-19T00:34:13.836Z"
   },
   {
    "duration": 31,
    "start_time": "2024-05-19T00:34:13.901Z"
   },
   {
    "duration": 326,
    "start_time": "2024-05-19T00:34:13.934Z"
   },
   {
    "duration": 107,
    "start_time": "2024-05-19T00:34:14.261Z"
   },
   {
    "duration": 20,
    "start_time": "2024-05-19T00:34:14.370Z"
   },
   {
    "duration": 42,
    "start_time": "2024-05-19T00:34:14.391Z"
   },
   {
    "duration": 121,
    "start_time": "2024-05-19T00:34:14.434Z"
   },
   {
    "duration": 12,
    "start_time": "2024-05-19T00:34:14.556Z"
   },
   {
    "duration": 16,
    "start_time": "2024-05-19T00:34:14.569Z"
   },
   {
    "duration": 7,
    "start_time": "2024-05-19T00:34:14.586Z"
   },
   {
    "duration": 388,
    "start_time": "2024-05-19T00:34:14.595Z"
   },
   {
    "duration": 7,
    "start_time": "2024-05-19T00:34:14.985Z"
   },
   {
    "duration": 58,
    "start_time": "2024-05-19T00:34:14.993Z"
   },
   {
    "duration": 66,
    "start_time": "2024-05-19T00:34:15.052Z"
   },
   {
    "duration": 11,
    "start_time": "2024-05-19T00:34:15.119Z"
   },
   {
    "duration": 35,
    "start_time": "2024-05-19T00:34:15.131Z"
   },
   {
    "duration": 152,
    "start_time": "2024-05-19T00:34:15.168Z"
   },
   {
    "duration": 135,
    "start_time": "2024-05-19T00:34:15.322Z"
   },
   {
    "duration": 155,
    "start_time": "2024-05-19T00:34:15.459Z"
   },
   {
    "duration": 1188,
    "start_time": "2024-05-19T12:47:45.297Z"
   },
   {
    "duration": 830,
    "start_time": "2024-05-19T12:47:46.487Z"
   },
   {
    "duration": 67,
    "start_time": "2024-05-19T12:47:47.318Z"
   },
   {
    "duration": 72,
    "start_time": "2024-05-19T12:47:47.388Z"
   },
   {
    "duration": 110,
    "start_time": "2024-05-19T12:47:47.461Z"
   },
   {
    "duration": 53,
    "start_time": "2024-05-19T12:47:47.573Z"
   },
   {
    "duration": 38,
    "start_time": "2024-05-19T12:47:47.628Z"
   },
   {
    "duration": 502,
    "start_time": "2024-05-19T12:47:47.684Z"
   },
   {
    "duration": 321,
    "start_time": "2024-05-19T12:47:48.187Z"
   },
   {
    "duration": 770,
    "start_time": "2024-05-19T12:47:48.511Z"
   },
   {
    "duration": 7,
    "start_time": "2024-05-19T12:47:49.283Z"
   },
   {
    "duration": 41,
    "start_time": "2024-05-19T12:47:49.292Z"
   },
   {
    "duration": 712,
    "start_time": "2024-05-19T12:47:49.335Z"
   },
   {
    "duration": 38,
    "start_time": "2024-05-19T12:47:50.048Z"
   },
   {
    "duration": 30,
    "start_time": "2024-05-19T12:47:50.088Z"
   },
   {
    "duration": 37,
    "start_time": "2024-05-19T12:47:50.119Z"
   },
   {
    "duration": 69,
    "start_time": "2024-05-19T12:47:50.158Z"
   },
   {
    "duration": 4,
    "start_time": "2024-05-19T12:47:50.228Z"
   },
   {
    "duration": 101,
    "start_time": "2024-05-19T12:47:50.234Z"
   },
   {
    "duration": 223,
    "start_time": "2024-05-19T12:47:50.337Z"
   },
   {
    "duration": 7,
    "start_time": "2024-05-19T12:47:50.561Z"
   },
   {
    "duration": 20,
    "start_time": "2024-05-19T12:47:50.570Z"
   },
   {
    "duration": 17,
    "start_time": "2024-05-19T12:47:50.591Z"
   },
   {
    "duration": 8,
    "start_time": "2024-05-19T12:47:50.609Z"
   },
   {
    "duration": 26,
    "start_time": "2024-05-19T12:47:50.618Z"
   },
   {
    "duration": 87,
    "start_time": "2024-05-19T12:47:50.645Z"
   },
   {
    "duration": 36,
    "start_time": "2024-05-19T12:47:50.733Z"
   },
   {
    "duration": 275,
    "start_time": "2024-05-19T12:47:50.785Z"
   },
   {
    "duration": 100,
    "start_time": "2024-05-19T12:47:51.061Z"
   },
   {
    "duration": 12,
    "start_time": "2024-05-19T12:47:51.163Z"
   },
   {
    "duration": 70,
    "start_time": "2024-05-19T12:47:51.184Z"
   },
   {
    "duration": 102,
    "start_time": "2024-05-19T12:47:51.255Z"
   },
   {
    "duration": 15,
    "start_time": "2024-05-19T12:47:51.358Z"
   },
   {
    "duration": 56,
    "start_time": "2024-05-19T12:47:51.385Z"
   },
   {
    "duration": 24,
    "start_time": "2024-05-19T12:47:51.442Z"
   },
   {
    "duration": 455,
    "start_time": "2024-05-19T12:47:51.468Z"
   },
   {
    "duration": 8,
    "start_time": "2024-05-19T12:47:51.924Z"
   },
   {
    "duration": 84,
    "start_time": "2024-05-19T12:47:51.933Z"
   },
   {
    "duration": 26,
    "start_time": "2024-05-19T12:47:52.018Z"
   },
   {
    "duration": 9,
    "start_time": "2024-05-19T12:47:52.045Z"
   },
   {
    "duration": 11,
    "start_time": "2024-05-19T12:47:52.055Z"
   },
   {
    "duration": 171,
    "start_time": "2024-05-19T12:47:52.067Z"
   },
   {
    "duration": 137,
    "start_time": "2024-05-19T12:47:52.239Z"
   },
   {
    "duration": 140,
    "start_time": "2024-05-19T12:47:52.384Z"
   },
   {
    "duration": 6,
    "start_time": "2024-05-19T12:48:00.633Z"
   },
   {
    "duration": 12,
    "start_time": "2024-05-19T13:28:52.864Z"
   },
   {
    "duration": 164,
    "start_time": "2024-05-19T13:29:40.537Z"
   },
   {
    "duration": 1380,
    "start_time": "2024-05-19T18:38:55.336Z"
   },
   {
    "duration": 840,
    "start_time": "2024-05-19T18:38:56.718Z"
   },
   {
    "duration": 106,
    "start_time": "2024-05-19T18:38:57.560Z"
   },
   {
    "duration": 129,
    "start_time": "2024-05-19T18:38:57.669Z"
   },
   {
    "duration": 139,
    "start_time": "2024-05-19T18:38:57.800Z"
   },
   {
    "duration": 74,
    "start_time": "2024-05-19T18:38:57.941Z"
   },
   {
    "duration": 60,
    "start_time": "2024-05-19T18:38:58.016Z"
   },
   {
    "duration": 617,
    "start_time": "2024-05-19T18:38:58.078Z"
   },
   {
    "duration": 408,
    "start_time": "2024-05-19T18:38:58.697Z"
   },
   {
    "duration": 993,
    "start_time": "2024-05-19T18:38:59.109Z"
   },
   {
    "duration": 9,
    "start_time": "2024-05-19T18:39:00.105Z"
   },
   {
    "duration": 211,
    "start_time": "2024-05-19T18:39:00.117Z"
   },
   {
    "duration": 925,
    "start_time": "2024-05-19T18:39:00.329Z"
   },
   {
    "duration": 43,
    "start_time": "2024-05-19T18:39:01.256Z"
   },
   {
    "duration": 38,
    "start_time": "2024-05-19T18:39:01.300Z"
   },
   {
    "duration": 75,
    "start_time": "2024-05-19T18:39:01.339Z"
   },
   {
    "duration": 123,
    "start_time": "2024-05-19T18:39:01.416Z"
   },
   {
    "duration": 45,
    "start_time": "2024-05-19T18:39:01.541Z"
   },
   {
    "duration": 405,
    "start_time": "2024-05-19T18:39:01.588Z"
   },
   {
    "duration": 298,
    "start_time": "2024-05-19T18:39:01.995Z"
   },
   {
    "duration": 9,
    "start_time": "2024-05-19T18:39:02.295Z"
   },
   {
    "duration": 96,
    "start_time": "2024-05-19T18:39:02.305Z"
   },
   {
    "duration": 71,
    "start_time": "2024-05-19T18:39:02.402Z"
   },
   {
    "duration": 128,
    "start_time": "2024-05-19T18:39:02.475Z"
   },
   {
    "duration": 87,
    "start_time": "2024-05-19T18:39:02.604Z"
   },
   {
    "duration": 90,
    "start_time": "2024-05-19T18:39:02.692Z"
   },
   {
    "duration": 42,
    "start_time": "2024-05-19T18:39:02.784Z"
   },
   {
    "duration": 372,
    "start_time": "2024-05-19T18:39:02.830Z"
   },
   {
    "duration": 131,
    "start_time": "2024-05-19T18:39:03.204Z"
   },
   {
    "duration": 16,
    "start_time": "2024-05-19T18:39:03.337Z"
   },
   {
    "duration": 86,
    "start_time": "2024-05-19T18:39:03.355Z"
   },
   {
    "duration": 140,
    "start_time": "2024-05-19T18:39:03.442Z"
   },
   {
    "duration": 16,
    "start_time": "2024-05-19T18:39:03.583Z"
   },
   {
    "duration": 212,
    "start_time": "2024-05-19T18:39:03.601Z"
   },
   {
    "duration": 17,
    "start_time": "2024-05-19T18:39:03.815Z"
   },
   {
    "duration": 706,
    "start_time": "2024-05-19T18:39:03.833Z"
   },
   {
    "duration": 10,
    "start_time": "2024-05-19T18:39:04.541Z"
   },
   {
    "duration": 111,
    "start_time": "2024-05-19T18:39:04.552Z"
   },
   {
    "duration": 34,
    "start_time": "2024-05-19T18:39:04.665Z"
   },
   {
    "duration": 12,
    "start_time": "2024-05-19T18:39:04.701Z"
   },
   {
    "duration": 13,
    "start_time": "2024-05-19T18:39:04.714Z"
   },
   {
    "duration": 181,
    "start_time": "2024-05-19T18:39:04.728Z"
   },
   {
    "duration": 183,
    "start_time": "2024-05-19T18:39:04.911Z"
   },
   {
    "duration": 190,
    "start_time": "2024-05-19T18:39:05.096Z"
   },
   {
    "duration": 535,
    "start_time": "2024-05-19T18:44:55.225Z"
   },
   {
    "duration": 1401,
    "start_time": "2024-05-19T18:46:01.961Z"
   },
   {
    "duration": 4,
    "start_time": "2024-05-19T18:50:00.592Z"
   },
   {
    "duration": 9,
    "start_time": "2024-05-19T18:53:11.060Z"
   },
   {
    "duration": 8,
    "start_time": "2024-05-19T18:53:29.267Z"
   },
   {
    "duration": 9,
    "start_time": "2024-05-19T18:58:11.650Z"
   },
   {
    "duration": 1198,
    "start_time": "2024-05-19T18:58:36.685Z"
   },
   {
    "duration": 371,
    "start_time": "2024-05-19T19:17:13.103Z"
   },
   {
    "duration": 1020,
    "start_time": "2024-05-19T19:17:44.992Z"
   },
   {
    "duration": 55,
    "start_time": "2024-05-19T19:18:15.801Z"
   },
   {
    "duration": 58,
    "start_time": "2024-05-19T19:18:38.385Z"
   },
   {
    "duration": 432,
    "start_time": "2024-05-19T19:18:48.736Z"
   },
   {
    "duration": 152,
    "start_time": "2024-05-19T19:19:30.010Z"
   },
   {
    "duration": 190,
    "start_time": "2024-05-19T19:19:40.607Z"
   },
   {
    "duration": 82,
    "start_time": "2024-05-19T19:21:56.537Z"
   },
   {
    "duration": 98,
    "start_time": "2024-05-19T19:23:23.671Z"
   },
   {
    "duration": 1194,
    "start_time": "2024-05-19T20:37:15.923Z"
   },
   {
    "duration": 279,
    "start_time": "2024-05-19T20:37:17.121Z"
   },
   {
    "duration": 71,
    "start_time": "2024-05-19T20:37:17.402Z"
   },
   {
    "duration": 86,
    "start_time": "2024-05-19T20:37:17.475Z"
   },
   {
    "duration": 106,
    "start_time": "2024-05-19T20:37:17.562Z"
   },
   {
    "duration": 53,
    "start_time": "2024-05-19T20:37:17.669Z"
   },
   {
    "duration": 41,
    "start_time": "2024-05-19T20:37:17.723Z"
   },
   {
    "duration": 610,
    "start_time": "2024-05-19T20:37:17.766Z"
   },
   {
    "duration": 325,
    "start_time": "2024-05-19T20:37:18.377Z"
   },
   {
    "duration": 999,
    "start_time": "2024-05-19T20:37:18.705Z"
   },
   {
    "duration": 7,
    "start_time": "2024-05-19T20:37:19.706Z"
   },
   {
    "duration": 16,
    "start_time": "2024-05-19T20:37:19.714Z"
   },
   {
    "duration": 46,
    "start_time": "2024-05-19T20:37:19.731Z"
   },
   {
    "duration": 1107,
    "start_time": "2024-05-19T20:37:19.778Z"
   },
   {
    "duration": 38,
    "start_time": "2024-05-19T20:37:20.887Z"
   },
   {
    "duration": 32,
    "start_time": "2024-05-19T20:37:20.926Z"
   },
   {
    "duration": 49,
    "start_time": "2024-05-19T20:37:20.960Z"
   },
   {
    "duration": 54,
    "start_time": "2024-05-19T20:37:21.011Z"
   },
   {
    "duration": 441,
    "start_time": "2024-05-19T20:37:21.067Z"
   },
   {
    "duration": 3,
    "start_time": "2024-05-19T20:37:21.509Z"
   },
   {
    "duration": 190,
    "start_time": "2024-05-19T20:37:21.514Z"
   },
   {
    "duration": 223,
    "start_time": "2024-05-19T20:37:21.706Z"
   },
   {
    "duration": 7,
    "start_time": "2024-05-19T20:37:21.930Z"
   },
   {
    "duration": 18,
    "start_time": "2024-05-19T20:37:21.938Z"
   },
   {
    "duration": 17,
    "start_time": "2024-05-19T20:37:21.957Z"
   },
   {
    "duration": 20,
    "start_time": "2024-05-19T20:37:21.976Z"
   },
   {
    "duration": 44,
    "start_time": "2024-05-19T20:37:21.997Z"
   },
   {
    "duration": 154,
    "start_time": "2024-05-19T20:37:22.044Z"
   },
   {
    "duration": 48,
    "start_time": "2024-05-19T20:37:22.199Z"
   },
   {
    "duration": 365,
    "start_time": "2024-05-19T20:37:22.248Z"
   },
   {
    "duration": 113,
    "start_time": "2024-05-19T20:37:22.615Z"
   },
   {
    "duration": 13,
    "start_time": "2024-05-19T20:37:22.730Z"
   },
   {
    "duration": 64,
    "start_time": "2024-05-19T20:37:22.744Z"
   },
   {
    "duration": 109,
    "start_time": "2024-05-19T20:37:22.810Z"
   },
   {
    "duration": 12,
    "start_time": "2024-05-19T20:37:22.921Z"
   },
   {
    "duration": 20,
    "start_time": "2024-05-19T20:37:22.934Z"
   },
   {
    "duration": 20,
    "start_time": "2024-05-19T20:37:22.955Z"
   },
   {
    "duration": 413,
    "start_time": "2024-05-19T20:37:22.977Z"
   },
   {
    "duration": 11,
    "start_time": "2024-05-19T20:37:23.391Z"
   },
   {
    "duration": 71,
    "start_time": "2024-05-19T20:37:23.404Z"
   },
   {
    "duration": 29,
    "start_time": "2024-05-19T20:37:23.477Z"
   },
   {
    "duration": 9,
    "start_time": "2024-05-19T20:37:23.507Z"
   },
   {
    "duration": 17,
    "start_time": "2024-05-19T20:37:23.517Z"
   },
   {
    "duration": 133,
    "start_time": "2024-05-19T20:37:23.535Z"
   },
   {
    "duration": 136,
    "start_time": "2024-05-19T20:37:23.670Z"
   },
   {
    "duration": 148,
    "start_time": "2024-05-19T20:37:23.807Z"
   },
   {
    "duration": 24,
    "start_time": "2024-05-19T20:56:11.739Z"
   },
   {
    "duration": 25,
    "start_time": "2024-05-19T21:07:32.118Z"
   },
   {
    "duration": 60,
    "start_time": "2024-05-19T21:07:33.052Z"
   },
   {
    "duration": 32,
    "start_time": "2024-05-19T21:07:33.672Z"
   },
   {
    "duration": 309,
    "start_time": "2024-05-19T21:07:34.064Z"
   },
   {
    "duration": 98,
    "start_time": "2024-05-19T21:07:34.668Z"
   },
   {
    "duration": 75,
    "start_time": "2024-05-19T21:21:17.019Z"
   },
   {
    "duration": 58,
    "start_time": "2024-05-19T21:26:44.646Z"
   },
   {
    "duration": 66,
    "start_time": "2024-05-19T21:27:15.172Z"
   },
   {
    "duration": 54,
    "start_time": "2024-05-19T21:28:58.149Z"
   },
   {
    "duration": 56,
    "start_time": "2024-05-19T21:30:42.419Z"
   },
   {
    "duration": 84,
    "start_time": "2024-05-19T21:32:58.645Z"
   },
   {
    "duration": 150,
    "start_time": "2024-05-19T21:35:31.848Z"
   },
   {
    "duration": 91,
    "start_time": "2024-05-19T21:38:02.364Z"
   },
   {
    "duration": 107,
    "start_time": "2024-05-19T21:38:48.942Z"
   },
   {
    "duration": 89,
    "start_time": "2024-05-19T21:41:18.893Z"
   },
   {
    "duration": 94,
    "start_time": "2024-05-19T21:42:42.500Z"
   },
   {
    "duration": 55,
    "start_time": "2024-05-19T21:43:15.554Z"
   },
   {
    "duration": 10,
    "start_time": "2024-05-19T21:53:57.311Z"
   },
   {
    "duration": 12,
    "start_time": "2024-05-19T21:54:45.572Z"
   },
   {
    "duration": 11,
    "start_time": "2024-05-19T21:56:46.362Z"
   },
   {
    "duration": 10,
    "start_time": "2024-05-19T21:57:21.514Z"
   },
   {
    "duration": 9,
    "start_time": "2024-05-19T21:57:47.278Z"
   },
   {
    "duration": 51,
    "start_time": "2024-05-19T21:58:33.790Z"
   },
   {
    "duration": 65,
    "start_time": "2024-05-19T21:58:57.053Z"
   },
   {
    "duration": 73,
    "start_time": "2024-05-19T22:00:21.003Z"
   },
   {
    "duration": 58,
    "start_time": "2024-05-19T22:00:45.661Z"
   },
   {
    "duration": 54,
    "start_time": "2024-05-19T22:00:59.995Z"
   },
   {
    "duration": 13,
    "start_time": "2024-05-19T22:01:18.186Z"
   },
   {
    "duration": 6,
    "start_time": "2024-05-19T22:01:57.361Z"
   },
   {
    "duration": 5,
    "start_time": "2024-05-19T22:02:29.276Z"
   },
   {
    "duration": 5,
    "start_time": "2024-05-19T22:03:51.559Z"
   },
   {
    "duration": 5,
    "start_time": "2024-05-19T22:04:11.570Z"
   },
   {
    "duration": 67,
    "start_time": "2024-05-19T22:07:19.585Z"
   },
   {
    "duration": 55,
    "start_time": "2024-05-19T22:07:55.084Z"
   },
   {
    "duration": 64,
    "start_time": "2024-05-19T22:08:08.045Z"
   },
   {
    "duration": 60,
    "start_time": "2024-05-19T22:08:34.639Z"
   },
   {
    "duration": 59,
    "start_time": "2024-05-19T22:12:28.328Z"
   },
   {
    "duration": 27,
    "start_time": "2024-05-19T22:12:34.914Z"
   },
   {
    "duration": 9,
    "start_time": "2024-05-19T22:12:37.600Z"
   },
   {
    "duration": 56,
    "start_time": "2024-05-19T22:15:22.201Z"
   },
   {
    "duration": 15,
    "start_time": "2024-05-19T22:18:02.582Z"
   },
   {
    "duration": 45,
    "start_time": "2024-05-19T22:18:27.647Z"
   },
   {
    "duration": 60,
    "start_time": "2024-05-19T22:18:44.651Z"
   },
   {
    "duration": 9,
    "start_time": "2024-05-19T22:20:02.836Z"
   },
   {
    "duration": 3,
    "start_time": "2024-05-19T22:33:48.502Z"
   },
   {
    "duration": 9,
    "start_time": "2024-05-19T22:37:10.803Z"
   },
   {
    "duration": 22,
    "start_time": "2024-05-19T22:39:42.473Z"
   },
   {
    "duration": 891,
    "start_time": "2024-05-19T22:40:06.766Z"
   },
   {
    "duration": 25,
    "start_time": "2024-05-19T22:40:52.301Z"
   },
   {
    "duration": 27,
    "start_time": "2024-05-19T22:48:25.259Z"
   },
   {
    "duration": 26,
    "start_time": "2024-05-19T22:49:31.312Z"
   },
   {
    "duration": 30,
    "start_time": "2024-05-19T22:50:11.806Z"
   },
   {
    "duration": 30,
    "start_time": "2024-05-19T22:50:28.448Z"
   },
   {
    "duration": 4,
    "start_time": "2024-05-19T22:51:55.777Z"
   },
   {
    "duration": 8,
    "start_time": "2024-05-19T22:51:57.577Z"
   },
   {
    "duration": 35,
    "start_time": "2024-05-19T22:51:59.155Z"
   },
   {
    "duration": 28,
    "start_time": "2024-05-19T22:53:34.063Z"
   },
   {
    "duration": 30,
    "start_time": "2024-05-19T22:58:21.594Z"
   },
   {
    "duration": 1151,
    "start_time": "2024-05-20T00:07:24.821Z"
   },
   {
    "duration": 251,
    "start_time": "2024-05-20T00:07:25.976Z"
   },
   {
    "duration": 65,
    "start_time": "2024-05-20T00:07:26.228Z"
   },
   {
    "duration": 71,
    "start_time": "2024-05-20T00:07:26.294Z"
   },
   {
    "duration": 103,
    "start_time": "2024-05-20T00:07:26.366Z"
   },
   {
    "duration": 50,
    "start_time": "2024-05-20T00:07:26.470Z"
   },
   {
    "duration": 36,
    "start_time": "2024-05-20T00:07:26.521Z"
   },
   {
    "duration": 547,
    "start_time": "2024-05-20T00:07:26.558Z"
   },
   {
    "duration": 347,
    "start_time": "2024-05-20T00:07:27.106Z"
   },
   {
    "duration": 1011,
    "start_time": "2024-05-20T00:07:27.455Z"
   },
   {
    "duration": 6,
    "start_time": "2024-05-20T00:07:28.468Z"
   },
   {
    "duration": 60,
    "start_time": "2024-05-20T00:07:28.476Z"
   },
   {
    "duration": 47,
    "start_time": "2024-05-20T00:07:28.537Z"
   },
   {
    "duration": 1012,
    "start_time": "2024-05-20T00:07:28.587Z"
   },
   {
    "duration": 28,
    "start_time": "2024-05-20T00:07:29.600Z"
   },
   {
    "duration": 30,
    "start_time": "2024-05-20T00:07:29.629Z"
   },
   {
    "duration": 42,
    "start_time": "2024-05-20T00:07:29.660Z"
   },
   {
    "duration": 49,
    "start_time": "2024-05-20T00:07:29.704Z"
   },
   {
    "duration": 595,
    "start_time": "2024-05-20T00:07:29.754Z"
   },
   {
    "duration": 8,
    "start_time": "2024-05-20T00:07:30.351Z"
   },
   {
    "duration": 158,
    "start_time": "2024-05-20T00:07:30.362Z"
   },
   {
    "duration": 216,
    "start_time": "2024-05-20T00:07:30.522Z"
   },
   {
    "duration": 7,
    "start_time": "2024-05-20T00:07:30.739Z"
   },
   {
    "duration": 87,
    "start_time": "2024-05-20T00:07:30.747Z"
   },
   {
    "duration": 61,
    "start_time": "2024-05-20T00:07:30.836Z"
   },
   {
    "duration": 49,
    "start_time": "2024-05-20T00:07:30.898Z"
   },
   {
    "duration": 154,
    "start_time": "2024-05-20T00:07:30.948Z"
   },
   {
    "duration": 170,
    "start_time": "2024-05-20T00:07:31.104Z"
   },
   {
    "duration": 38,
    "start_time": "2024-05-20T00:07:31.275Z"
   },
   {
    "duration": 288,
    "start_time": "2024-05-20T00:07:31.315Z"
   },
   {
    "duration": 102,
    "start_time": "2024-05-20T00:07:31.605Z"
   },
   {
    "duration": 12,
    "start_time": "2024-05-20T00:07:31.708Z"
   },
   {
    "duration": 99,
    "start_time": "2024-05-20T00:07:31.721Z"
   },
   {
    "duration": 5,
    "start_time": "2024-05-20T00:07:31.821Z"
   },
   {
    "duration": 74,
    "start_time": "2024-05-20T00:07:31.827Z"
   },
   {
    "duration": 25,
    "start_time": "2024-05-20T00:07:31.903Z"
   },
   {
    "duration": 8,
    "start_time": "2024-05-20T00:07:31.929Z"
   },
   {
    "duration": 11,
    "start_time": "2024-05-20T00:07:31.938Z"
   },
   {
    "duration": 18,
    "start_time": "2024-05-20T00:07:31.950Z"
   },
   {
    "duration": 21,
    "start_time": "2024-05-20T00:07:31.969Z"
   },
   {
    "duration": 32,
    "start_time": "2024-05-20T00:07:31.993Z"
   },
   {
    "duration": 29,
    "start_time": "2024-05-20T00:07:32.026Z"
   },
   {
    "duration": 27,
    "start_time": "2024-05-20T00:07:32.056Z"
   },
   {
    "duration": 8,
    "start_time": "2024-05-20T00:08:29.142Z"
   },
   {
    "duration": 29,
    "start_time": "2024-05-20T00:09:11.481Z"
   },
   {
    "duration": 30,
    "start_time": "2024-05-20T00:13:22.452Z"
   },
   {
    "duration": 4,
    "start_time": "2024-05-20T00:13:49.267Z"
   },
   {
    "duration": 63,
    "start_time": "2024-05-20T00:15:08.725Z"
   },
   {
    "duration": 6,
    "start_time": "2024-05-20T00:15:14.687Z"
   },
   {
    "duration": 6,
    "start_time": "2024-05-20T00:15:47.239Z"
   },
   {
    "duration": 3,
    "start_time": "2024-05-20T00:16:01.039Z"
   },
   {
    "duration": 28,
    "start_time": "2024-05-20T00:17:16.261Z"
   },
   {
    "duration": 27,
    "start_time": "2024-05-20T00:17:38.624Z"
   },
   {
    "duration": 1342,
    "start_time": "2024-05-20T10:38:23.449Z"
   },
   {
    "duration": 293,
    "start_time": "2024-05-20T10:38:24.793Z"
   },
   {
    "duration": 85,
    "start_time": "2024-05-20T10:38:25.088Z"
   },
   {
    "duration": 78,
    "start_time": "2024-05-20T10:38:25.175Z"
   },
   {
    "duration": 127,
    "start_time": "2024-05-20T10:38:25.264Z"
   },
   {
    "duration": 50,
    "start_time": "2024-05-20T10:38:25.393Z"
   },
   {
    "duration": 54,
    "start_time": "2024-05-20T10:38:25.445Z"
   },
   {
    "duration": 701,
    "start_time": "2024-05-20T10:38:25.501Z"
   },
   {
    "duration": 365,
    "start_time": "2024-05-20T10:38:26.204Z"
   },
   {
    "duration": 1311,
    "start_time": "2024-05-20T10:38:26.571Z"
   },
   {
    "duration": 8,
    "start_time": "2024-05-20T10:38:27.883Z"
   },
   {
    "duration": 16,
    "start_time": "2024-05-20T10:38:27.892Z"
   },
   {
    "duration": 70,
    "start_time": "2024-05-20T10:38:27.910Z"
   },
   {
    "duration": 1322,
    "start_time": "2024-05-20T10:38:27.982Z"
   },
   {
    "duration": 28,
    "start_time": "2024-05-20T10:38:29.305Z"
   },
   {
    "duration": 40,
    "start_time": "2024-05-20T10:38:29.334Z"
   },
   {
    "duration": 26,
    "start_time": "2024-05-20T10:38:29.376Z"
   },
   {
    "duration": 64,
    "start_time": "2024-05-20T10:38:29.403Z"
   },
   {
    "duration": 500,
    "start_time": "2024-05-20T10:38:29.468Z"
   },
   {
    "duration": 4,
    "start_time": "2024-05-20T10:38:29.969Z"
   },
   {
    "duration": 199,
    "start_time": "2024-05-20T10:38:29.974Z"
   },
   {
    "duration": 262,
    "start_time": "2024-05-20T10:38:30.175Z"
   },
   {
    "duration": 8,
    "start_time": "2024-05-20T10:38:30.439Z"
   },
   {
    "duration": 79,
    "start_time": "2024-05-20T10:38:30.449Z"
   },
   {
    "duration": 187,
    "start_time": "2024-05-20T10:38:30.530Z"
   },
   {
    "duration": 43,
    "start_time": "2024-05-20T10:38:30.719Z"
   },
   {
    "duration": 52,
    "start_time": "2024-05-20T10:38:30.764Z"
   },
   {
    "duration": 71,
    "start_time": "2024-05-20T10:38:30.819Z"
   },
   {
    "duration": 151,
    "start_time": "2024-05-20T10:38:30.892Z"
   },
   {
    "duration": 326,
    "start_time": "2024-05-20T10:38:31.045Z"
   },
   {
    "duration": 138,
    "start_time": "2024-05-20T10:38:31.375Z"
   },
   {
    "duration": 15,
    "start_time": "2024-05-20T10:38:31.514Z"
   },
   {
    "duration": 89,
    "start_time": "2024-05-20T10:38:31.530Z"
   },
   {
    "duration": 5,
    "start_time": "2024-05-20T10:38:31.621Z"
   },
   {
    "duration": 97,
    "start_time": "2024-05-20T10:38:31.628Z"
   },
   {
    "duration": 38,
    "start_time": "2024-05-20T10:38:31.727Z"
   },
   {
    "duration": 23,
    "start_time": "2024-05-20T10:38:31.767Z"
   },
   {
    "duration": 36,
    "start_time": "2024-05-20T10:38:31.791Z"
   },
   {
    "duration": 32,
    "start_time": "2024-05-20T10:38:31.828Z"
   },
   {
    "duration": 13,
    "start_time": "2024-05-20T10:38:31.862Z"
   },
   {
    "duration": 64,
    "start_time": "2024-05-20T10:38:31.876Z"
   },
   {
    "duration": 46,
    "start_time": "2024-05-20T10:38:31.941Z"
   },
   {
    "duration": 46,
    "start_time": "2024-05-20T10:38:31.989Z"
   },
   {
    "duration": 31,
    "start_time": "2024-05-20T10:38:47.053Z"
   }
  ],
  "kernelspec": {
   "display_name": "Python 3 (ipykernel)",
   "language": "python",
   "name": "python3"
  },
  "language_info": {
   "codemirror_mode": {
    "name": "ipython",
    "version": 3
   },
   "file_extension": ".py",
   "mimetype": "text/x-python",
   "name": "python",
   "nbconvert_exporter": "python",
   "pygments_lexer": "ipython3",
   "version": "3.11.5"
  },
  "toc": {
   "base_numbering": 1,
   "nav_menu": {},
   "number_sections": false,
   "sideBar": true,
   "skip_h1_title": false,
   "title_cell": "Table of Contents",
   "title_sidebar": "Contents",
   "toc_cell": false,
   "toc_position": {
    "height": "calc(100% - 180px)",
    "left": "10px",
    "top": "150px",
    "width": "165px"
   },
   "toc_section_display": true,
   "toc_window_display": false
  }
 },
 "nbformat": 4,
 "nbformat_minor": 2
}
